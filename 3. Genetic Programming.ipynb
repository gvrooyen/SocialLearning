{
 "metadata": {
  "name": "3. Genetic Programming"
 }, 
 "nbformat": 2, 
 "worksheets": [
  {
   "cells": [
    {
     "cell_type": "markdown", 
     "source": [
      "Genetic Programming", 
      "===================", 
      "In the next section, we investigate whether a random population of agents can be simulated,", 
      "and propagated based on their fitness.", 
      "", 
      "Notes on trait design", 
      "---------------------", 
      "Here are some points to keep in mind when designing new trait functions (and agents in general).", 
      "", 
      "1. The first round of an individual's life is counted as 0.", 
      "2. At the first round of its life, the value of an individual's roundsAlive variable is 0. ", 
      "   In other words, the roundsAlive variable is the index of the current round of an", 
      "   individual's life.", 
      "3. The Done() method returns a tuple containing the exit condition of the state, as well", 
      "   as the round number of the number of rounds that the agent was alive after the state", 
      "   ended.", 
      "", 
      "**Example:**", 
      "", 
      "The Pioneering trait has an N_rounds parameter, indicating how many rounds an", 
      "agent should be in this state (assuming that it's part of the pioneering generation). At", 
      "round 0, the agent plays OBSERVE. At rounds 1 to N_rounds-1, the agent plays INNOVATE.", 
      "If the Done() method is called when roundsAlive >= N_rounds, the state reports itself", 
      "as completed, and returns N_rounds as the number of rounds the agent was alive, after the", 
      "last round of the state ended."
     ]
    }, 
    {
     "cell_type": "code", 
     "collapsed": false, 
     "input": [
      "import pkgutil", 
      "", 
      "# this is the package we are inspecting -- for example 'email' from stdlib", 
      "import traits", 
      "", 
      "trait_list = []", 
      "", 
      "package = traits", 
      "prefix = package.__name__ + \".\"", 
      "", 
      "for importer, modname, ispkg in pkgutil.iter_modules(package.__path__, prefix):", 
      "    print \"Found submodule %s (is a package: %s)\" % (modname, ispkg)", 
      "    trait_list.append(__import__(modname, fromlist=\"*\"))", 
      "", 
      "for T in trait_list:", 
      "    print T.__name__.split('.')[-1]"
     ], 
     "language": "python", 
     "outputs": [
      {
       "output_type": "stream", 
       "stream": "stdout", 
       "text": [
        "Found submodule traits.DiscreteDistribution (is a package: False)", 
        "Found submodule traits.Pioneering (is a package: False)"
       ]
      }, 
      {
       "output_type": "stream", 
       "stream": "stdout", 
       "text": [
        "", 
        "DiscreteDistribution", 
        "Pioneering"
       ]
      }
     ], 
     "prompt_number": 1
    }, 
    {
     "cell_type": "code", 
     "collapsed": false, 
     "input": [
      "import solegene", 
      "reload(solegene)", 
      "", 
      "G = solegene.Genome()", 
      "G.state"
     ], 
     "language": "python", 
     "outputs": [
      {
       "output_type": "pyout", 
       "prompt_number": 2, 
       "text": [
        "[(&apos;Pioneering&apos;, [&apos;DiscreteDistribution&apos;]), (&apos;DiscreteDistribution&apos;, [])]"
       ]
      }
     ], 
     "prompt_number": 2
    }, 
    {
     "cell_type": "code", 
     "collapsed": false, 
     "input": [
      "GP = solegene.Generation()", 
      "GP.population[77].state"
     ], 
     "language": "python", 
     "outputs": [
      {
       "output_type": "pyout", 
       "prompt_number": 3, 
       "text": [
        "[(&apos;Pioneering&apos;, [&apos;Pioneering&apos;]), (&apos;DiscreteDistribution&apos;, [])]"
       ]
      }
     ], 
     "prompt_number": 3
    }, 
    {
     "cell_type": "code", 
     "collapsed": false, 
     "input": [
      "import networkx as nwx", 
      "", 
      "G = GP.population[77].render_state()", 
      "nwx.draw(nwx.from_agraph(G))"
     ], 
     "language": "python", 
     "outputs": [
      {
       "output_type": "display_data", 
       "png": "[encoded data removed]"
      }
     ], 
     "prompt_number": 4
    }, 
    {
     "cell_type": "code", 
     "collapsed": false, 
     "input": [
      "GP.population[78].state"
     ], 
     "language": "python", 
     "outputs": [
      {
       "output_type": "pyout", 
       "prompt_number": 5, 
       "text": [
        "[(&apos;Pioneering&apos;, [&apos;DiscreteDistribution&apos;]), (&apos;DiscreteDistribution&apos;, [])]"
       ]
      }
     ], 
     "prompt_number": 5
    }, 
    {
     "cell_type": "code", 
     "collapsed": false, 
     "input": [
      "new_g = GP.population[77] + GP.population[78]", 
      "G = new_g.render_state()", 
      "nwx.draw(nwx.from_agraph(G))"
     ], 
     "language": "python", 
     "outputs": [
      {
       "output_type": "stream", 
       "stream": "stdout", 
       "text": [
        "[(&apos;Pioneering&apos;, [&apos;Pioneering&apos;])]", 
        "[(&apos;DiscreteDistribution&apos;, [])]"
       ]
      }, 
      {
       "output_type": "display_data", 
       "png": "[encoded data removed]"
      }
     ], 
     "prompt_number": 6
    }
   ]
  }
 ]
}