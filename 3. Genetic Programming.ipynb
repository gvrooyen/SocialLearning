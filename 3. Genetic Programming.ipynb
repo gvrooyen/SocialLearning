{
 "metadata": {
  "name": "3. Genetic Programming"
 }, 
 "nbformat": 2, 
 "worksheets": [
  {
   "cells": [
    {
     "cell_type": "markdown", 
     "source": [
      "Genetic Programming", 
      "===================", 
      "In the next section, we investigate whether a random population of agents can be simulated, and propagated based on their fitness."
     ]
    }, 
    {
     "cell_type": "code", 
     "collapsed": false, 
     "input": [
      "import pkgutil", 
      "", 
      "# this is the package we are inspecting -- for example 'email' from stdlib", 
      "import traits", 
      "", 
      "trait_list = []", 
      "", 
      "package = traits", 
      "prefix = package.__name__ + \".\"", 
      "", 
      "for importer, modname, ispkg in pkgutil.iter_modules(package.__path__, prefix):", 
      "    print \"Found submodule %s (is a package: %s)\" % (modname, ispkg)", 
      "    trait_list.append(__import__(modname, fromlist=\"*\"))", 
      "", 
      "for T in trait_list:", 
      "    print T.__name__.split('.')[-1]"
     ], 
     "language": "python", 
     "outputs": [
      {
       "output_type": "stream", 
       "stream": "stdout", 
       "text": [
        "Found submodule traits.DiscreteDistribution (is a package: False)", 
        "Found submodule traits.Pioneering (is a package: False)", 
        "DiscreteDistribution", 
        "Pioneering"
       ]
      }
     ], 
     "prompt_number": 13
    }
   ]
  }
 ]
}