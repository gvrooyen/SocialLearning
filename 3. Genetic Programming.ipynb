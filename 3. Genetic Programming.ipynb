{
 "metadata": {
  "name": "3. Genetic Programming"
 }, 
 "nbformat": 2, 
 "worksheets": [
  {
   "cells": [
    {
     "cell_type": "markdown", 
     "source": [
      "Genetic Programming", 
      "===================", 
      "In the next section, we investigate whether a random population of agents can be simulated, and propagated based on their fitness."
     ]
    }, 
    {
     "cell_type": "code", 
     "collapsed": true, 
     "input": [], 
     "language": "python", 
     "outputs": []
    }
   ]
  }
 ]
}