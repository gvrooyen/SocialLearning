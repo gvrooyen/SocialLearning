{
 "metadata": {
  "name": "2. Crossover and mutation"
 }, 
 "nbformat": 2, 
 "worksheets": [
  {
   "cells": [
    {
     "cell_type": "markdown", 
     "source": [
      "Crossover and mutation", 
      "======================", 
      "In this notebook, we demonstrate the use of the solegene module, and the crossover and mutation", 
      "of traits and individuals."
     ]
    }, 
    {
     "cell_type": "code", 
     "collapsed": false, 
     "input": [
      "import traits.Pioneering", 
      "import traits.DiscreteDistribution", 
      "", 
      "P1 = traits.Pioneering.Pioneering()", 
      "P1.N_rounds = 15", 
      "", 
      "P2 = traits.Pioneering.Pioneering()", 
      "P2.N_rounds = 5", 
      "", 
      "P3 = P1+P2     # Perform crossover of the two traits", 
      "print(P3.N_rounds)"
     ], 
     "language": "python", 
     "outputs": [
      {
       "output_type": "stream", 
       "stream": "stdout", 
       "text": [
        "9"
       ]
      }
     ], 
     "prompt_number": 1
    }, 
    {
     "cell_type": "code", 
     "collapsed": false, 
     "input": [
      "P4 = +P3", 
      "print(P4.N_rounds)"
     ], 
     "language": "python", 
     "outputs": [
      {
       "output_type": "stream", 
       "stream": "stdout", 
       "text": [
        "8"
       ]
      }
     ], 
     "prompt_number": 2
    }, 
    {
     "cell_type": "code", 
     "collapsed": false, 
     "input": [
      "S = P4.render_move()", 
      "print(S)"
     ], 
     "language": "python", 
     "outputs": [
      {
       "output_type": "stream", 
       "stream": "stdout", 
       "text": [
        "", 
        "        if roundsAlive == 0:", 
        "            return (OBSERVE, )", 
        "        else:", 
        "            return (INNOVATE, )", 
        ""
       ]
      }
     ], 
     "prompt_number": 3
    }, 
    {
     "cell_type": "code", 
     "collapsed": false, 
     "input": [
      "S = P4.render_done()", 
      "print(S)"
     ], 
     "language": "python", 
     "outputs": [
      {
       "output_type": "stream", 
       "stream": "stdout", 
       "text": [
        "", 
        "        assert entryRound == 0", 
        "        # Exit condition 1: The agent is a pioneer, and N_rounds rounds have elapsed", 
        "        if (roundsAlive >= 8) and (historyActs[0] == -1):", 
        "            return (1,8)", 
        "        # Exit condition 2: We've tested, and the agent is not a pioneer", 
        "        elif (len(historyActs) > 0) and (historyActs[0] > -1):", 
        "            return (1,1)", 
        "        # Otherwise, remain in the current state", 
        "        else:", 
        "            return 0", 
        ""
       ]
      }
     ], 
     "prompt_number": 4
    }, 
    {
     "cell_type": "code", 
     "collapsed": false, 
     "input": [
      "D1 = traits.DiscreteDistribution.DiscreteDistribution()", 
      "D1.Pi = 0.1", 
      "D1.Po = 0.2", 
      "D1.Pe = 0.3", 
      "D1.Pr = 0.4", 
      "", 
      "D2 = traits.DiscreteDistribution.DiscreteDistribution()", 
      "D2.Pi = 0.4", 
      "D2.Po = 0.25", 
      "D2.Pe = 0.15", 
      "D2.Pr = 0.1", 
      "", 
      "D3 = D1+D2     # Perform crossover of the two traits", 
      "print(D3.Pi, D3.Po, D3.Pe, D3.Pr)"
     ], 
     "language": "python", 
     "outputs": [
      {
       "output_type": "stream", 
       "stream": "stdout", 
       "text": [
        "(0.19897923870223252, 0.2132860291073283, 0.2842057104432022, 0.16967274527643705)"
       ]
      }
     ], 
     "prompt_number": 5
    }, 
    {
     "cell_type": "code", 
     "collapsed": false, 
     "input": [
      "D4 = +D3", 
      "print(D4.Pi, D4.Po, D4.Pe, D4.Pr)"
     ], 
     "language": "python", 
     "outputs": [
      {
       "output_type": "stream", 
       "stream": "stdout", 
       "text": [
        "(0.19897923870223252, 0.7058649536352747, 0.2842057104432022, 0.16967274527643705)"
       ]
      }
     ], 
     "prompt_number": 6
    }, 
    {
     "cell_type": "code", 
     "collapsed": false, 
     "input": [
      "S = D4.render_move()", 
      "print(S)"
     ], 
     "language": "python", 
     "outputs": [
      {
       "output_type": "stream", 
       "stream": "stdout", 
       "text": [
        "", 
        "        interval = [0.198979238702, 0.705864953635, 0.284205710443, 0.169672745276]", 
        "", 
        "        for i in xrange(1,4):", 
        "            interval[i] = interval[i-1] + interval[i]", 
        "", 
        "        # Normalise the intervals", 
        "        if canPlayRefine:", 
        "            interval = [x/interval[-1] for x in interval]", 
        "        else:", 
        "            interval = [x/interval[-2] for x in interval]", 
        "        ", 
        "        # If the repertoire is empty, only Pi or Po should be chosen:", 
        "        if len(repertoire) == 0:", 
        "            interval = [x/interval[-3] for x in interval]", 
        "", 
        "        roll = random.random()", 
        "", 
        "        if roll <= interval[0]:", 
        "            return (INNOVATE, )", 
        "        elif roll <= interval[1]:", 
        "            return (OBSERVE, )", 
        "        elif roll <= interval[2]:", 
        "            return (EXPLOIT, max(repertoire, key=repertoire.get))", 
        "        elif (roll <= interval[3]) and canPlayRefine:   # Add the sanity check in case of rounding errors", 
        "            return (REFINE, max(repertoire, key=repertoire.get))", 
        "        else:", 
        "            # Catch-all for rounding errors", 
        "            return (EXPLOIT, max(repertoire, key=repertoire.get))", 
        ""
       ]
      }
     ], 
     "prompt_number": 7
    }, 
    {
     "cell_type": "code", 
     "collapsed": false, 
     "input": [
      "S = D4.render_done()", 
      "print(S)"
     ], 
     "language": "python", 
     "outputs": [
      {
       "output_type": "stream", 
       "stream": "stdout", 
       "text": [
        "", 
        "        return False    # Terminal trait", 
        ""
       ]
      }
     ], 
     "prompt_number": 8
    }, 
    {
     "cell_type": "code", 
     "collapsed": false, 
     "input": [
      "import solegene", 
      "reload(solegene)", 
      "", 
      "G = solegene.Genome()", 
      "G.state = [('Pioneering', ['DiscreteDistribution']),", 
      "           ('DiscreteDistribution', [])]", 
      "G.traits['Pioneering'] = P4", 
      "G.traits['DiscreteDistribution'] = D4", 
      "", 
      "code = G.render(debug = True)", 
      "", 
      "print code"
     ], 
     "language": "python", 
     "outputs": [
      {
       "output_type": "stream", 
       "stream": "stdout", 
       "text": [
        "#!/usr/bin/python", 
        "# -*- coding: utf-8 -*-", 
        "# Automatically rendered agent code", 
        "", 
        "from moves import *", 
        "import math", 
        "import random", 
        "", 
        "last_state = None", 
        "last_state_matrix = None", 
        "", 
        "", 
        "def move(", 
        "    roundsAlive,", 
        "    repertoire,", 
        "    historyRounds,", 
        "    historyMoves,", 
        "    historyActs,", 
        "    historyPayoffs,", 
        "    historyDemes,", 
        "    currentDeme,", 
        "    canChooseModel,", 
        "    canPlayRefine,", 
        "    multipleDemes,", 
        "    ):", 
        "", 
        "    def Pioneering_done(entryRound):", 
        "", 
        "        assert entryRound == 0", 
        "", 
        "        # Exit condition 1: The agent is a pioneer, and N_rounds rounds have elapsed", 
        "", 
        "        if roundsAlive >= 8 and historyActs[0] == -1:", 
        "            return (1, 8)", 
        "        elif len(historyActs) > 0 and historyActs[0] > -1:", 
        "", 
        "        # Exit condition 2: We've tested, and the agent is not a pioneer", 
        "", 
        "            return (1, 1)", 
        "        else:", 
        "", 
        "        # Otherwise, remain in the current state", 
        "", 
        "            return 0", 
        "", 
        "    def DiscreteDistribution_done(entryRound):", 
        "", 
        "        return False  # Terminal trait", 
        "", 
        "    state_matrix = []", 
        "", 
        "    state_matrix.append(('Pioneering', Pioneering_done, [1]))", 
        "", 
        "    state_matrix.append(('DiscreteDistribution',", 
        "                        DiscreteDistribution_done, []))", 
        "", 
        "    def traverse_states(", 
        "        state_matrix,", 
        "        state_idx=0,", 
        "        entry_round=0,", 
        "        recursion_depth=0,", 
        "        ):", 
        "        if recursion_depth > 16:", 
        "            raise AgentError('Maximum state graph recursion reached (most likely due to an infinite state graph loop'", 
        "                             )", 
        "        done = state_matrix[state_idx][1](entry_round)", 
        "        if not done:", 
        "            return state_matrix[state_idx][0]", 
        "        else:", 
        "", 
        "            # Traverse the state graph further by recursion. done[0] gives the number (1,2,3...) of the currently", 
        "            # considered state's output condition. state_matrix[state_idx][2][done[0]-1] translates into the", 
        "            # corresponding output state's index in state_matrix. done[1] is the round at which that next step", 
        "            # started running.", 
        "", 
        "            return traverse_states(state_matrix,", 
        "                                   state_matrix[state_idx][2][done[0]", 
        "                                   - 1], done[1], recursion_depth + 1)", 
        "", 
        "    state = traverse_states(state_matrix)", 
        "", 
        "    global last_state, last_state_matrix", 
        "", 
        "    last_state = state", 
        "", 
        "    last_state_matrix = state_matrix", 
        "", 
        "    if state == 'Pioneering':", 
        "", 
        "        if roundsAlive == 0:", 
        "            return (OBSERVE, )", 
        "        else:", 
        "            return (INNOVATE, )", 
        "    elif state == 'DiscreteDistribution':", 
        "", 
        "        interval = [0.198979238702, 0.705864953635, 0.284205710443,", 
        "                    0.169672745276]", 
        "", 
        "        for i in xrange(1, 4):", 
        "            interval[i] = interval[i - 1] + interval[i]", 
        "", 
        "        # Normalise the intervals", 
        "", 
        "        if canPlayRefine:", 
        "            interval = [x / interval[-1] for x in interval]", 
        "        else:", 
        "            interval = [x / interval[-2] for x in interval]", 
        "", 
        "        # If the repertoire is empty, only Pi or Po should be chosen:", 
        "", 
        "        if len(repertoire) == 0:", 
        "            interval = [x / interval[-3] for x in interval]", 
        "", 
        "        roll = random.random()", 
        "", 
        "        if roll <= interval[0]:", 
        "            return (INNOVATE, )", 
        "        elif roll <= interval[1]:", 
        "            return (OBSERVE, )", 
        "        elif roll <= interval[2]:", 
        "            return (EXPLOIT, max(repertoire, key=repertoire.get))", 
        "        elif roll <= interval[3] and canPlayRefine:", 
        "", 
        "                                                        # Add the sanity check in case of rounding errors", 
        "", 
        "            return (REFINE, max(repertoire, key=repertoire.get))", 
        "        else:", 
        "", 
        "            # Catch-all for rounding errors", 
        "", 
        "            return (EXPLOIT, max(repertoire, key=repertoire.get))", 
        "    else:", 
        "", 
        "        raise AgentError('No such state: %s' % state)", 
        "", 
        "", 
        "def observe_who(exploiterData):", 
        "    random.shuffle(exploiterData)", 
        "    return exploiterData", 
        "", 
        "", 
        ""
       ]
      }
     ], 
     "prompt_number": 9
    }, 
    {
     "cell_type": "markdown", 
     "source": [
      "This is a simple example of how the logging decorator works:"
     ]
    }, 
    {
     "cell_type": "code", 
     "collapsed": false, 
     "input": [
      "class D(object):", 
      "    ", 
      "    def __init__(self, f):", 
      "        self.f = f", 
      "        self.log = []", 
      "        ", 
      "    def __call__(self, *args):", 
      "        result = self.f(*args)", 
      "        self.log.append(result)", 
      "        return result", 
      "", 
      "@D", 
      "def square(x):", 
      "    return x*x", 
      "", 
      "print square(1)", 
      "print square(2)", 
      "print square(3)", 
      "", 
      "if hasattr(square,'log'):", 
      "    print square.log"
     ], 
     "language": "python", 
     "outputs": [
      {
       "output_type": "stream", 
       "stream": "stdout", 
       "text": [
        "1", 
        "4", 
        "9", 
        "[1, 4, 9]"
       ]
      }
     ], 
     "prompt_number": 10
    }, 
    {
     "cell_type": "markdown", 
     "source": [
      "In the next test, we do a full simulation of the rendered code, and analyse its state traces. The first short simulation investigates a typical individual that's part of the population's first generation. It should notice that no-one is exploiting in the first round, and then innovate for a number of rounds."
     ]
    }, 
    {
     "cell_type": "code", 
     "collapsed": false, 
     "input": [
      "import md5", 
      "import simulate", 
      "", 
      "agent_hash = md5.md5(code)", 
      "agent_name = 'agent_' + agent_hash.hexdigest()", 
      "agent_path = 'agents/rendered/' + agent_name + '.py'", 
      "print(\"Simulating %s...\" % agent_name)", 
      "", 
      "f = open(agent_path, 'w')", 
      "f.write(code)", 
      "f.close()", 
      "", 
      "agent = __import__('agents.rendered.'+agent_name, fromlist=['*'])", 
      "simulate.agent = agent", 
      "simulation = simulate.Simulate(N_rounds=20)", 
      "simulation.run()", 
      "", 
      "print(zip(simulation.demes[0].population[0].historyRounds, simulation.demes[0].population[0].historyStates, simulation.demes[0].population[0].historyMoves))"
     ], 
     "language": "python", 
     "outputs": [
      {
       "output_type": "stream", 
       "stream": "stdout", 
       "text": [
        "Simulating agent_b9b038991041ebd7d487d41a8ce247f2...", 
        "[(1, 'Pioneering', 0), (1, 'Pioneering', 0), (1, 'Pioneering', 0), (2, 'Pioneering', -1), (3, 'Pioneering', -1), (4, 'Pioneering', -1), (5, 'Pioneering', -1), (6, 'Pioneering', -1), (7, 'Pioneering', -1), (8, 'Pioneering', -1), (9, 'DiscreteDistribution', 1), (10, 'DiscreteDistribution', 1), (11, 'DiscreteDistribution', 0), (11, 'DiscreteDistribution', 0), (11, 'DiscreteDistribution', 0), (12, 'DiscreteDistribution', -1), (13, 'DiscreteDistribution', 0), (13, 'DiscreteDistribution', 0), (13, 'DiscreteDistribution', 0), (14, 'DiscreteDistribution', -1), (15, 'DiscreteDistribution', 1), (16, 'DiscreteDistribution', 0), (16, 'DiscreteDistribution', 0), (16, 'DiscreteDistribution', 0), (17, 'DiscreteDistribution', -1), (18, 'DiscreteDistribution', 0), (18, 'DiscreteDistribution', 0), (18, 'DiscreteDistribution', 0), (19, 'DiscreteDistribution', 0), (19, 'DiscreteDistribution', 0), (19, 'DiscreteDistribution', 0), (20, 'DiscreteDistribution', 1)]"
       ]
      }, 
      {
       "output_type": "stream", 
       "stream": "stdout", 
       "text": [
        ""
       ]
      }
     ], 
     "prompt_number": 11
    }, 
    {
     "cell_type": "markdown", 
     "source": [
      "The next simulation is long enough that the entire first generation of individuals would have died off; the sampled individual should have a single round in the 'Pioneering' state to observe its peers, and then move into 'DiscreteDistribution' for the rest of its life."
     ]
    }, 
    {
     "cell_type": "code", 
     "collapsed": false, 
     "input": [
      "simulation = simulate.Simulate(N_rounds=1000)", 
      "simulation.run()", 
      "", 
      "print(zip(simulation.demes[0].population[0].historyRounds, simulation.demes[0].population[0].historyStates, simulation.demes[0].population[0].historyMoves))"
     ], 
     "language": "python", 
     "outputs": [
      {
       "output_type": "stream", 
       "stream": "stdout", 
       "text": [
        "[(1, 'Pioneering', 0), (1, 'Pioneering', 0), (1, 'Pioneering', 0), (2, 'DiscreteDistribution', 1), (3, 'DiscreteDistribution', -1), (4, 'DiscreteDistribution', -1), (5, 'DiscreteDistribution', -1), (6, 'DiscreteDistribution', -1), (7, 'DiscreteDistribution', -1), (8, 'DiscreteDistribution', 1), (9, 'DiscreteDistribution', 0), (9, 'DiscreteDistribution', 0), (9, 'DiscreteDistribution', 0), (10, 'DiscreteDistribution', -1), (11, 'DiscreteDistribution', 0), (11, 'DiscreteDistribution', 0), (11, 'DiscreteDistribution', 0), (12, 'DiscreteDistribution', 1), (13, 'DiscreteDistribution', 0), (13, 'DiscreteDistribution', 0), (13, 'DiscreteDistribution', 0), (14, 'DiscreteDistribution', 0), (14, 'DiscreteDistribution', 0), (14, 'DiscreteDistribution', 0), (15, 'DiscreteDistribution', 0), (15, 'DiscreteDistribution', 0), (15, 'DiscreteDistribution', 0), (16, 'DiscreteDistribution', 1), (17, 'DiscreteDistribution', 0), (17, 'DiscreteDistribution', 0), (17, 'DiscreteDistribution', 0), (18, 'DiscreteDistribution', 0), (18, 'DiscreteDistribution', 0), (18, 'DiscreteDistribution', 0), (19, 'DiscreteDistribution', 1), (20, 'DiscreteDistribution', 0), (20, 'DiscreteDistribution', 0), (20, 'DiscreteDistribution', 0), (21, 'DiscreteDistribution', 0), (21, 'DiscreteDistribution', 0), (21, 'DiscreteDistribution', 0), (22, 'DiscreteDistribution', 0), (22, 'DiscreteDistribution', 0), (22, 'DiscreteDistribution', 0), (23, 'DiscreteDistribution', 1), (24, 'DiscreteDistribution', 1), (25, 'DiscreteDistribution', 0), (25, 'DiscreteDistribution', 0), (25, 'DiscreteDistribution', 0), (26, 'DiscreteDistribution', -1), (27, 'DiscreteDistribution', 0), (27, 'DiscreteDistribution', 0), (27, 'DiscreteDistribution', 0), (28, 'DiscreteDistribution', 0), (28, 'DiscreteDistribution', 0), (28, 'DiscreteDistribution', 0), (29, 'DiscreteDistribution', -1), (30, 'DiscreteDistribution', 0), (30, 'DiscreteDistribution', 0), (30, 'DiscreteDistribution', 0), (31, 'DiscreteDistribution', 0), (31, 'DiscreteDistribution', 0), (31, 'DiscreteDistribution', 0), (32, 'DiscreteDistribution', 0), (32, 'DiscreteDistribution', 0), (32, 'DiscreteDistribution', 0), (33, 'DiscreteDistribution', 0), (33, 'DiscreteDistribution', 0), (33, 'DiscreteDistribution', 0), (34, 'DiscreteDistribution', 0), (34, 'DiscreteDistribution', 0), (34, 'DiscreteDistribution', 0), (35, 'DiscreteDistribution', 0), (35, 'DiscreteDistribution', 0), (35, 'DiscreteDistribution', 0), (36, 'DiscreteDistribution', 0), (36, 'DiscreteDistribution', 0), (36, 'DiscreteDistribution', 0), (37, 'DiscreteDistribution', 1), (38, 'DiscreteDistribution', 0), (38, 'DiscreteDistribution', 0), (38, 'DiscreteDistribution', 0), (39, 'DiscreteDistribution', -1), (40, 'DiscreteDistribution', 0), (40, 'DiscreteDistribution', 0), (40, 'DiscreteDistribution', 0), (41, 'DiscreteDistribution', 0), (41, 'DiscreteDistribution', 0), (41, 'DiscreteDistribution', 0), (42, 'DiscreteDistribution', 0), (42, 'DiscreteDistribution', 0), (42, 'DiscreteDistribution', 0), (43, 'DiscreteDistribution', 1), (44, 'DiscreteDistribution', 1), (45, 'DiscreteDistribution', -1), (46, 'DiscreteDistribution', 0), (46, 'DiscreteDistribution', 0), (46, 'DiscreteDistribution', 0), (47, 'DiscreteDistribution', 0), (47, 'DiscreteDistribution', 0), (47, 'DiscreteDistribution', 0), (48, 'DiscreteDistribution', 1), (49, 'DiscreteDistribution', 0), (49, 'DiscreteDistribution', 0), (49, 'DiscreteDistribution', 0), (50, 'DiscreteDistribution', 0), (50, 'DiscreteDistribution', 0), (50, 'DiscreteDistribution', 0), (51, 'DiscreteDistribution', 0), (51, 'DiscreteDistribution', 0), (51, 'DiscreteDistribution', 0), (52, 'DiscreteDistribution', -1), (53, 'DiscreteDistribution', 0), (53, 'DiscreteDistribution', 0), (53, 'DiscreteDistribution', 0), (54, 'DiscreteDistribution', 0), (54, 'DiscreteDistribution', 0), (54, 'DiscreteDistribution', 0), (55, 'DiscreteDistribution', -1), (56, 'DiscreteDistribution', 0), (56, 'DiscreteDistribution', 0), (56, 'DiscreteDistribution', 0), (57, 'DiscreteDistribution', -1), (58, 'DiscreteDistribution', 0), (58, 'DiscreteDistribution', 0), (58, 'DiscreteDistribution', 0), (59, 'DiscreteDistribution', -1), (60, 'DiscreteDistribution', 0), (60, 'DiscreteDistribution', 0), (60, 'DiscreteDistribution', 0), (61, 'DiscreteDistribution', 0), (61, 'DiscreteDistribution', 0), (61, 'DiscreteDistribution', 0), (62, 'DiscreteDistribution', 0), (62, 'DiscreteDistribution', 0), (62, 'DiscreteDistribution', 0), (63, 'DiscreteDistribution', 0), (63, 'DiscreteDistribution', 0), (63, 'DiscreteDistribution', 0), (64, 'DiscreteDistribution', 0), (64, 'DiscreteDistribution', 0), (64, 'DiscreteDistribution', 0), (65, 'DiscreteDistribution', 1), (66, 'DiscreteDistribution', 0), (66, 'DiscreteDistribution', 0), (66, 'DiscreteDistribution', 0), (67, 'DiscreteDistribution', 0), (67, 'DiscreteDistribution', 0), (67, 'DiscreteDistribution', 0), (68, 'DiscreteDistribution', 0), (68, 'DiscreteDistribution', 0), (68, 'DiscreteDistribution', 0), (69, 'DiscreteDistribution', -1), (70, 'DiscreteDistribution', 0), (70, 'DiscreteDistribution', 0), (70, 'DiscreteDistribution', 0), (71, 'DiscreteDistribution', 0), (71, 'DiscreteDistribution', 0), (71, 'DiscreteDistribution', 0), (72, 'DiscreteDistribution', 0), (72, 'DiscreteDistribution', 0), (72, 'DiscreteDistribution', 0), (73, 'DiscreteDistribution', 0), (73, 'DiscreteDistribution', 0), (73, 'DiscreteDistribution', 0), (74, 'DiscreteDistribution', 1), (75, 'DiscreteDistribution', 0), (75, 'DiscreteDistribution', 0), (75, 'DiscreteDistribution', 0), (76, 'DiscreteDistribution', 0), (76, 'DiscreteDistribution', 0), (76, 'DiscreteDistribution', 0), (77, 'DiscreteDistribution', 0), (77, 'DiscreteDistribution', 0), (77, 'DiscreteDistribution', 0), (78, 'DiscreteDistribution', -1), (79, 'DiscreteDistribution', 0), (79, 'DiscreteDistribution', 0), (79, 'DiscreteDistribution', 0), (80, 'DiscreteDistribution', 0), (80, 'DiscreteDistribution', 0), (80, 'DiscreteDistribution', 0), (81, 'DiscreteDistribution', 0), (81, 'DiscreteDistribution', 0), (81, 'DiscreteDistribution', 0), (82, 'DiscreteDistribution', -1), (83, 'DiscreteDistribution', 1), (84, 'DiscreteDistribution', 1), (85, 'DiscreteDistribution', 0), (85, 'DiscreteDistribution', 0), (85, 'DiscreteDistribution', 0), (86, 'DiscreteDistribution', 1), (87, 'DiscreteDistribution', 1), (88, 'DiscreteDistribution', 0), (88, 'DiscreteDistribution', 0), (88, 'DiscreteDistribution', 0), (89, 'DiscreteDistribution', 0), (89, 'DiscreteDistribution', 0), (89, 'DiscreteDistribution', 0), (90, 'DiscreteDistribution', 1), (91, 'DiscreteDistribution', 0), (91, 'DiscreteDistribution', 0), (91, 'DiscreteDistribution', 0), (92, 'DiscreteDistribution', 1), (93, 'DiscreteDistribution', 1), (94, 'DiscreteDistribution', 0), (94, 'DiscreteDistribution', 0), (94, 'DiscreteDistribution', 0), (95, 'DiscreteDistribution', 0), (95, 'DiscreteDistribution', 0), (95, 'DiscreteDistribution', 0), (96, 'DiscreteDistribution', 0), (96, 'DiscreteDistribution', 0), (96, 'DiscreteDistribution', 0), (97, 'DiscreteDistribution', -1), (98, 'DiscreteDistribution', 0), (98, 'DiscreteDistribution', 0), (98, 'DiscreteDistribution', 0), (99, 'DiscreteDistribution', 1), (100, 'DiscreteDistribution', -1), (101, 'DiscreteDistribution', -1), (102, 'DiscreteDistribution', 1), (103, 'DiscreteDistribution', -1), (104, 'DiscreteDistribution', 0), (104, 'DiscreteDistribution', 0), (104, 'DiscreteDistribution', 0), (105, 'DiscreteDistribution', 0), (105, 'DiscreteDistribution', 0), (105, 'DiscreteDistribution', 0), (106, 'DiscreteDistribution', 0), (106, 'DiscreteDistribution', 0), (106, 'DiscreteDistribution', 0), (107, 'DiscreteDistribution', -1), (108, 'DiscreteDistribution', -1), (109, 'DiscreteDistribution', 1), (110, 'DiscreteDistribution', 0), (110, 'DiscreteDistribution', 0), (110, 'DiscreteDistribution', 0), (111, 'DiscreteDistribution', 1), (112, 'DiscreteDistribution', 1), (113, 'DiscreteDistribution', 0), (113, 'DiscreteDistribution', 0), (113, 'DiscreteDistribution', 0), (114, 'DiscreteDistribution', 0), (114, 'DiscreteDistribution', 0), (114, 'DiscreteDistribution', 0), (115, 'DiscreteDistribution', 0), (115, 'DiscreteDistribution', 0), (115, 'DiscreteDistribution', 0), (116, 'DiscreteDistribution', 1), (117, 'DiscreteDistribution', 0), (117, 'DiscreteDistribution', 0), (117, 'DiscreteDistribution', 0), (118, 'DiscreteDistribution', 0), (118, 'DiscreteDistribution', 0), (118, 'DiscreteDistribution', 0), (119, 'DiscreteDistribution', 0), (119, 'DiscreteDistribution', 0), (119, 'DiscreteDistribution', 0), (120, 'DiscreteDistribution', 1), (121, 'DiscreteDistribution', -1), (122, 'DiscreteDistribution', 0), (122, 'DiscreteDistribution', 0), (122, 'DiscreteDistribution', 0), (123, 'DiscreteDistribution', -1), (124, 'DiscreteDistribution', 0), (124, 'DiscreteDistribution', 0), (124, 'DiscreteDistribution', 0), (125, 'DiscreteDistribution', -1), (126, 'DiscreteDistribution', -1), (127, 'DiscreteDistribution', -1), (128, 'DiscreteDistribution', -1), (129, 'DiscreteDistribution', 1), (130, 'DiscreteDistribution', 1), (131, 'DiscreteDistribution', -1), (132, 'DiscreteDistribution', 1), (133, 'DiscreteDistribution', 1), (134, 'DiscreteDistribution', -1), (135, 'DiscreteDistribution', 0), (135, 'DiscreteDistribution', 0), (135, 'DiscreteDistribution', 0), (136, 'DiscreteDistribution', 0), (136, 'DiscreteDistribution', 0), (136, 'DiscreteDistribution', 0), (137, 'DiscreteDistribution', 0), (137, 'DiscreteDistribution', 0), (137, 'DiscreteDistribution', 0), (138, 'DiscreteDistribution', 0), (138, 'DiscreteDistribution', 0), (138, 'DiscreteDistribution', 0), (139, 'DiscreteDistribution', -1), (140, 'DiscreteDistribution', 0), (140, 'DiscreteDistribution', 0), (140, 'DiscreteDistribution', 0), (141, 'DiscreteDistribution', 0), (141, 'DiscreteDistribution', 0), (141, 'DiscreteDistribution', 0), (142, 'DiscreteDistribution', 0), (142, 'DiscreteDistribution', 0), (142, 'DiscreteDistribution', 0), (143, 'DiscreteDistribution', 0), (143, 'DiscreteDistribution', 0), (143, 'DiscreteDistribution', 0), (144, 'DiscreteDistribution', 1), (145, 'DiscreteDistribution', 1), (146, 'DiscreteDistribution', 1), (147, 'DiscreteDistribution', 1), (148, 'DiscreteDistribution', -1), (149, 'DiscreteDistribution', 1), (150, 'DiscreteDistribution', -1), (151, 'DiscreteDistribution', -1), (152, 'DiscreteDistribution', 1), (153, 'DiscreteDistribution', 0), (153, 'DiscreteDistribution', 0), (153, 'DiscreteDistribution', 0), (154, 'DiscreteDistribution', -1), (155, 'DiscreteDistribution', -1), (156, 'DiscreteDistribution', 1), (157, 'DiscreteDistribution', -1), (158, 'DiscreteDistribution', 0), (158, 'DiscreteDistribution', 0), (158, 'DiscreteDistribution', 0), (159, 'DiscreteDistribution', 0), (159, 'DiscreteDistribution', 0), (159, 'DiscreteDistribution', 0), (160, 'DiscreteDistribution', 0), (160, 'DiscreteDistribution', 0), (160, 'DiscreteDistribution', 0), (161, 'DiscreteDistribution', 0), (161, 'DiscreteDistribution', 0), (161, 'DiscreteDistribution', 0), (162, 'DiscreteDistribution', 0), (162, 'DiscreteDistribution', 0), (162, 'DiscreteDistribution', 0), (163, 'DiscreteDistribution', 0), (163, 'DiscreteDistribution', 0), (163, 'DiscreteDistribution', 0), (164, 'DiscreteDistribution', 0), (164, 'DiscreteDistribution', 0), (164, 'DiscreteDistribution', 0), (165, 'DiscreteDistribution', 0), (165, 'DiscreteDistribution', 0), (165, 'DiscreteDistribution', 0), (166, 'DiscreteDistribution', 1), (167, 'DiscreteDistribution', 0), (167, 'DiscreteDistribution', 0), (167, 'DiscreteDistribution', 0), (168, 'DiscreteDistribution', 0), (168, 'DiscreteDistribution', 0), (168, 'DiscreteDistribution', 0), (169, 'DiscreteDistribution', -1), (170, 'DiscreteDistribution', 0), (170, 'DiscreteDistribution', 0), (170, 'DiscreteDistribution', 0), (171, 'DiscreteDistribution', 0), (171, 'DiscreteDistribution', 0), (171, 'DiscreteDistribution', 0), (172, 'DiscreteDistribution', 0), (172, 'DiscreteDistribution', 0), (172, 'DiscreteDistribution', 0), (173, 'DiscreteDistribution', 0), (173, 'DiscreteDistribution', 0), (173, 'DiscreteDistribution', 0), (174, 'DiscreteDistribution', 0), (174, 'DiscreteDistribution', 0), (174, 'DiscreteDistribution', 0), (175, 'DiscreteDistribution', 1), (176, 'DiscreteDistribution', 1), (177, 'DiscreteDistribution', 0), (177, 'DiscreteDistribution', 0), (177, 'DiscreteDistribution', 0), (178, 'DiscreteDistribution', -1), (179, 'DiscreteDistribution', -1), (180, 'DiscreteDistribution', -1), (181, 'DiscreteDistribution', 0), (181, 'DiscreteDistribution', 0), (181, 'DiscreteDistribution', 0), (182, 'DiscreteDistribution', 0), (182, 'DiscreteDistribution', 0), (182, 'DiscreteDistribution', 0), (183, 'DiscreteDistribution', 0), (183, 'DiscreteDistribution', 0), (183, 'DiscreteDistribution', 0), (184, 'DiscreteDistribution', 1), (185, 'DiscreteDistribution', -1), (186, 'DiscreteDistribution', 0), (186, 'DiscreteDistribution', 0), (186, 'DiscreteDistribution', 0), (187, 'DiscreteDistribution', 0), (187, 'DiscreteDistribution', 0), (187, 'DiscreteDistribution', 0), (188, 'DiscreteDistribution', -1), (189, 'DiscreteDistribution', 0), (189, 'DiscreteDistribution', 0), (189, 'DiscreteDistribution', 0), (190, 'DiscreteDistribution', 1), (191, 'DiscreteDistribution', -1), (192, 'DiscreteDistribution', 0), (192, 'DiscreteDistribution', 0), (192, 'DiscreteDistribution', 0), (193, 'DiscreteDistribution', 1), (194, 'DiscreteDistribution', -1), (195, 'DiscreteDistribution', 1), (196, 'DiscreteDistribution', 1), (197, 'DiscreteDistribution', 0), (197, 'DiscreteDistribution', 0), (197, 'DiscreteDistribution', 0), (198, 'DiscreteDistribution', -1), (199, 'DiscreteDistribution', 1), (200, 'DiscreteDistribution', 0), (200, 'DiscreteDistribution', 0), (200, 'DiscreteDistribution', 0), (201, 'DiscreteDistribution', 0), (201, 'DiscreteDistribution', 0), (201, 'DiscreteDistribution', 0), (202, 'DiscreteDistribution', 0), (202, 'DiscreteDistribution', 0), (202, 'DiscreteDistribution', 0), (203, 'DiscreteDistribution', 0), (203, 'DiscreteDistribution', 0), (203, 'DiscreteDistribution', 0), (204, 'DiscreteDistribution', 1), (205, 'DiscreteDistribution', 1), (206, 'DiscreteDistribution', 1), (207, 'DiscreteDistribution', 0), (207, 'DiscreteDistribution', 0), (207, 'DiscreteDistribution', 0), (208, 'DiscreteDistribution', 0), (208, 'DiscreteDistribution', 0), (208, 'DiscreteDistribution', 0), (209, 'DiscreteDistribution', 0), (209, 'DiscreteDistribution', 0), (209, 'DiscreteDistribution', 0), (210, 'DiscreteDistribution', 0), (210, 'DiscreteDistribution', 0), (210, 'DiscreteDistribution', 0), (211, 'DiscreteDistribution', 0), (211, 'DiscreteDistribution', 0), (211, 'DiscreteDistribution', 0), (212, 'DiscreteDistribution', -1), (213, 'DiscreteDistribution', -1), (214, 'DiscreteDistribution', 0), (214, 'DiscreteDistribution', 0), (214, 'DiscreteDistribution', 0), (215, 'DiscreteDistribution', 1), (216, 'DiscreteDistribution', 0), (216, 'DiscreteDistribution', 0), (216, 'DiscreteDistribution', 0), (217, 'DiscreteDistribution', 0), (217, 'DiscreteDistribution', 0), (217, 'DiscreteDistribution', 0), (218, 'DiscreteDistribution', -1), (219, 'DiscreteDistribution', -1), (220, 'DiscreteDistribution', -1), (221, 'DiscreteDistribution', 0), (221, 'DiscreteDistribution', 0), (221, 'DiscreteDistribution', 0), (222, 'DiscreteDistribution', 0), (222, 'DiscreteDistribution', 0), (222, 'DiscreteDistribution', 0), (223, 'DiscreteDistribution', 0), (223, 'DiscreteDistribution', 0), (223, 'DiscreteDistribution', 0), (224, 'DiscreteDistribution', 0), (224, 'DiscreteDistribution', 0), (224, 'DiscreteDistribution', 0), (225, 'DiscreteDistribution', 0), (225, 'DiscreteDistribution', 0), (225, 'DiscreteDistribution', 0), (226, 'DiscreteDistribution', 0), (226, 'DiscreteDistribution', 0), (226, 'DiscreteDistribution', 0), (227, 'DiscreteDistribution', 0), (227, 'DiscreteDistribution', 0), (227, 'DiscreteDistribution', 0), (228, 'DiscreteDistribution', 0), (228, 'DiscreteDistribution', 0), (228, 'DiscreteDistribution', 0), (229, 'DiscreteDistribution', 0), (229, 'DiscreteDistribution', 0), (229, 'DiscreteDistribution', 0), (230, 'DiscreteDistribution', 0), (230, 'DiscreteDistribution', 0), (230, 'DiscreteDistribution', 0), (231, 'DiscreteDistribution', 1), (232, 'DiscreteDistribution', -1), (233, 'DiscreteDistribution', -1), (234, 'DiscreteDistribution', 0), (234, 'DiscreteDistribution', 0), (234, 'DiscreteDistribution', 0), (235, 'DiscreteDistribution', 0), (235, 'DiscreteDistribution', 0), (235, 'DiscreteDistribution', 0), (236, 'DiscreteDistribution', 0), (236, 'DiscreteDistribution', 0), (236, 'DiscreteDistribution', 0), (237, 'DiscreteDistribution', 1), (238, 'DiscreteDistribution', -1), (239, 'DiscreteDistribution', 0), (239, 'DiscreteDistribution', 0), (239, 'DiscreteDistribution', 0), (240, 'DiscreteDistribution', 0), (240, 'DiscreteDistribution', 0), (240, 'DiscreteDistribution', 0), (241, 'DiscreteDistribution', -1), (242, 'DiscreteDistribution', 0), (242, 'DiscreteDistribution', 0), (242, 'DiscreteDistribution', 0), (243, 'DiscreteDistribution', 1), (244, 'DiscreteDistribution', -1)]"
       ]
      }
     ], 
     "prompt_number": 12
    }, 
    {
     "cell_type": "markdown", 
     "source": [
      "In the next example, we set up a more involved state graph. This agent will use the PioneeringBi trait to determine whether it's in the", 
      "first generation, and based on the outcome, will split up into two instances of Specialisation (Specialisation and SpecialisationB).", 
      "Each can then split into any of four possible DiscreteDistribution states."
     ]
    }, 
    {
     "cell_type": "code", 
     "collapsed": false, 
     "input": [
      "import networkx as nwx", 
      "", 
      "G = solegene.Genome()", 
      "", 
      "G.traits['PioneeringBi'] = traits.PioneeringBi.PioneeringBi()", 
      "G.traits['PioneeringBi'].N_rounds = 3", 
      "", 
      "G.traits['Specialisation'] = traits.Specialisation.Specialisation()", 
      "G.traits['SpecialisationB'] = traits.SpecialisationB.SpecialisationB()", 
      "", 
      "G.traits['DiscreteDistribution'] = traits.DiscreteDistribution.DiscreteDistribution()", 
      "G.traits['DiscreteDistributionB'] = traits.DiscreteDistributionB.DiscreteDistributionB()", 
      "G.traits['DiscreteDistributionC'] = traits.DiscreteDistributionC.DiscreteDistributionC()", 
      "G.traits['DiscreteDistributionD'] = traits.DiscreteDistributionD.DiscreteDistributionD()", 
      "G.traits['DiscreteDistributionE'] = traits.DiscreteDistributionE.DiscreteDistributionE()", 
      "G.traits['DiscreteDistributionF'] = traits.DiscreteDistributionF.DiscreteDistributionF()", 
      "G.traits['DiscreteDistributionG'] = traits.DiscreteDistributionG.DiscreteDistributionG()", 
      "G.traits['DiscreteDistributionH'] = traits.DiscreteDistributionH.DiscreteDistributionH()", 
      "", 
      "G.state = [('PioneeringBi', ['Specialisation', 'SpecialisationB']),", 
      "           ('Specialisation', ['DiscreteDistribution','DiscreteDistributionB','DiscreteDistributionC','DiscreteDistributionD']),", 
      "           ('SpecialisationB', ['DiscreteDistributionE','DiscreteDistributionF','DiscreteDistributionG','DiscreteDistributionH']),", 
      "           ('DiscreteDistribution', []),", 
      "           ('DiscreteDistributionB', []),", 
      "           ('DiscreteDistributionC', []),", 
      "           ('DiscreteDistributionD', []),", 
      "           ('DiscreteDistributionE', []),", 
      "           ('DiscreteDistributionF', []),", 
      "           ('DiscreteDistributionG', []),", 
      "           ('DiscreteDistributionH', []),", 
      "          ]", 
      "", 
      "graph = G.render_state()", 
      "nwx.draw(nwx.from_agraph(graph))"
     ], 
     "language": "python", 
     "outputs": [
      {
       "output_type": "display_data", 
       "png": "[encoded data removed]"
      }
     ], 
     "prompt_number": 13
    }, 
    {
     "cell_type": "code", 
     "collapsed": false, 
     "input": [
      "code = G.render(debug = True)", 
      "agent_hash = md5.md5(code)", 
      "agent_name = 'agent_' + agent_hash.hexdigest()", 
      "agent_path = 'agents/rendered/' + agent_name + '.py'", 
      "print(\"Simulating %s...\" % agent_name)", 
      "", 
      "f = open(agent_path, 'w')", 
      "f.write(code)", 
      "f.close()", 
      "", 
      "agent = __import__('agents.rendered.'+agent_name, fromlist=['*'])", 
      "simulate.agent = agent", 
      "simulation = simulate.Simulate(N_rounds=20)", 
      "simulation.run()", 
      "", 
      "print(zip(simulation.demes[0].population[0].historyRounds, simulation.demes[0].population[0].historyStates, simulation.demes[0].population[0].historyMoves))"
     ], 
     "language": "python", 
     "outputs": [
      {
       "output_type": "stream", 
       "stream": "stdout", 
       "text": [
        "Simulating agent_87f34bcdc92cc57efe10697d0518ddb7...", 
        "[(1, 'PioneeringBi', 0), (1, 'PioneeringBi', 0), (1, 'PioneeringBi', 0), (2, 'PioneeringBi', -1), (3, 'PioneeringBi', -1), (4, 'Specialisation', 1), (5, 'DiscreteDistributionC', 1), (6, 'DiscreteDistributionC', 1), (7, 'DiscreteDistributionC', 1), (8, 'DiscreteDistributionC', 1), (9, 'DiscreteDistributionC', 1), (10, 'DiscreteDistributionC', 1), (11, 'DiscreteDistributionC', 1), (12, 'DiscreteDistributionC', 1), (13, 'DiscreteDistributionC', 1), (14, 'DiscreteDistributionC', 1), (15, 'DiscreteDistributionC', 0), (15, 'DiscreteDistributionC', 0), (15, 'DiscreteDistributionC', 0), (16, 'DiscreteDistributionC', 0), (16, 'DiscreteDistributionC', 0), (16, 'DiscreteDistributionC', 0), (17, 'DiscreteDistributionC', 1), (18, 'DiscreteDistributionC', 1), (19, 'DiscreteDistributionC', 1), (20, 'DiscreteDistributionC', 1)]"
       ]
      }, 
      {
       "output_type": "stream", 
       "stream": "stdout", 
       "text": [
        ""
       ]
      }
     ], 
     "prompt_number": 46
    }, 
    {
     "cell_type": "markdown", 
     "source": [
      "The next simulation is long enough that the entire first generation of individuals would have died off; the sampled individual should have a single round in the 'Pioneering' state to observe its peers, and then move into 'SpecialisationB' and an appropriate 'DiscreteDistribution'."
     ]
    }, 
    {
     "cell_type": "code", 
     "collapsed": false, 
     "input": [
      "simulation = simulate.Simulate(N_rounds=1000)", 
      "simulation.run()", 
      "", 
      "print(zip(simulation.demes[0].population[0].historyRounds, simulation.demes[0].population[0].historyStates, simulation.demes[0].population[0].historyMoves))"
     ], 
     "language": "python", 
     "outputs": [
      {
       "output_type": "stream", 
       "stream": "stdout", 
       "text": [
        "[(1, 'PioneeringBi', 0), (1, 'PioneeringBi', 0), (1, 'PioneeringBi', 0), (2, 'SpecialisationB', 0), (2, 'SpecialisationB', 0), (2, 'SpecialisationB', 0), (3, 'DiscreteDistributionF', 0), (3, 'DiscreteDistributionF', 0), (3, 'DiscreteDistributionF', 0), (4, 'DiscreteDistributionF', 0), (4, 'DiscreteDistributionF', 0), (4, 'DiscreteDistributionF', 0), (5, 'DiscreteDistributionF', 1), (6, 'DiscreteDistributionF', 0), (6, 'DiscreteDistributionF', 0), (6, 'DiscreteDistributionF', 0), (7, 'DiscreteDistributionF', 1), (8, 'DiscreteDistributionF', 1), (9, 'DiscreteDistributionF', 1), (10, 'DiscreteDistributionF', 0), (10, 'DiscreteDistributionF', 0), (10, 'DiscreteDistributionF', 0), (11, 'DiscreteDistributionF', 1), (12, 'DiscreteDistributionF', -1), (13, 'DiscreteDistributionF', 0), (13, 'DiscreteDistributionF', 0), (13, 'DiscreteDistributionF', 0), (14, 'DiscreteDistributionF', 1), (15, 'DiscreteDistributionF', 0), (15, 'DiscreteDistributionF', 0), (15, 'DiscreteDistributionF', 0), (16, 'DiscreteDistributionF', 0), (16, 'DiscreteDistributionF', 0), (16, 'DiscreteDistributionF', 0), (17, 'DiscreteDistributionF', 0), (17, 'DiscreteDistributionF', 0), (17, 'DiscreteDistributionF', 0), (18, 'DiscreteDistributionF', 0), (18, 'DiscreteDistributionF', 0), (18, 'DiscreteDistributionF', 0), (19, 'DiscreteDistributionF', 0), (19, 'DiscreteDistributionF', 0), (19, 'DiscreteDistributionF', 0), (20, 'DiscreteDistributionF', 0), (20, 'DiscreteDistributionF', 0), (20, 'DiscreteDistributionF', 0), (21, 'DiscreteDistributionF', 1), (22, 'DiscreteDistributionF', 0), (22, 'DiscreteDistributionF', 0), (22, 'DiscreteDistributionF', 0), (23, 'DiscreteDistributionF', 1), (24, 'DiscreteDistributionF', 0), (24, 'DiscreteDistributionF', 0), (24, 'DiscreteDistributionF', 0), (25, 'DiscreteDistributionF', 0), (25, 'DiscreteDistributionF', 0), (25, 'DiscreteDistributionF', 0), (26, 'DiscreteDistributionF', 0), (26, 'DiscreteDistributionF', 0), (26, 'DiscreteDistributionF', 0), (27, 'DiscreteDistributionF', 0), (27, 'DiscreteDistributionF', 0), (27, 'DiscreteDistributionF', 0), (28, 'DiscreteDistributionF', 0), (28, 'DiscreteDistributionF', 0), (28, 'DiscreteDistributionF', 0), (29, 'DiscreteDistributionF', 0), (29, 'DiscreteDistributionF', 0), (29, 'DiscreteDistributionF', 0), (30, 'DiscreteDistributionF', 0), (30, 'DiscreteDistributionF', 0), (30, 'DiscreteDistributionF', 0), (31, 'DiscreteDistributionF', -1), (32, 'DiscreteDistributionF', 1), (33, 'DiscreteDistributionF', 0), (33, 'DiscreteDistributionF', 0), (33, 'DiscreteDistributionF', 0), (34, 'DiscreteDistributionF', 1), (35, 'DiscreteDistributionF', -1), (36, 'DiscreteDistributionF', 1), (37, 'DiscreteDistributionF', 1), (38, 'DiscreteDistributionF', 0), (38, 'DiscreteDistributionF', 0), (38, 'DiscreteDistributionF', 0), (39, 'DiscreteDistributionF', 1), (40, 'DiscreteDistributionF', 1), (41, 'DiscreteDistributionF', 0), (41, 'DiscreteDistributionF', 0), (41, 'DiscreteDistributionF', 0), (42, 'DiscreteDistributionF', 0), (42, 'DiscreteDistributionF', 0), (42, 'DiscreteDistributionF', 0), (43, 'DiscreteDistributionF', 0), (43, 'DiscreteDistributionF', 0), (43, 'DiscreteDistributionF', 0), (44, 'DiscreteDistributionF', 0), (44, 'DiscreteDistributionF', 0), (44, 'DiscreteDistributionF', 0), (45, 'DiscreteDistributionF', 1), (46, 'DiscreteDistributionF', -1), (47, 'DiscreteDistributionF', 0), (47, 'DiscreteDistributionF', 0), (47, 'DiscreteDistributionF', 0), (48, 'DiscreteDistributionF', 0), (48, 'DiscreteDistributionF', 0), (48, 'DiscreteDistributionF', 0), (49, 'DiscreteDistributionF', 1), (50, 'DiscreteDistributionF', 0), (50, 'DiscreteDistributionF', 0), (50, 'DiscreteDistributionF', 0), (51, 'DiscreteDistributionF', 1), (52, 'DiscreteDistributionF', 0), (52, 'DiscreteDistributionF', 0), (52, 'DiscreteDistributionF', 0), (53, 'DiscreteDistributionF', 1), (54, 'DiscreteDistributionF', 0), (54, 'DiscreteDistributionF', 0), (54, 'DiscreteDistributionF', 0), (55, 'DiscreteDistributionF', 0), (55, 'DiscreteDistributionF', 0), (55, 'DiscreteDistributionF', 0), (56, 'DiscreteDistributionF', 0), (56, 'DiscreteDistributionF', 0), (56, 'DiscreteDistributionF', 0), (57, 'DiscreteDistributionF', 1), (58, 'DiscreteDistributionF', 1), (59, 'DiscreteDistributionF', 0), (59, 'DiscreteDistributionF', 0), (59, 'DiscreteDistributionF', 0), (60, 'DiscreteDistributionF', 1), (61, 'DiscreteDistributionF', -1), (62, 'DiscreteDistributionF', 0), (62, 'DiscreteDistributionF', 0), (62, 'DiscreteDistributionF', 0), (63, 'DiscreteDistributionF', 0), (63, 'DiscreteDistributionF', 0), (63, 'DiscreteDistributionF', 0), (64, 'DiscreteDistributionF', 1), (65, 'DiscreteDistributionF', 1), (66, 'DiscreteDistributionF', 0), (66, 'DiscreteDistributionF', 0), (66, 'DiscreteDistributionF', 0), (67, 'DiscreteDistributionF', -1), (68, 'DiscreteDistributionF', 0), (68, 'DiscreteDistributionF', 0), (68, 'DiscreteDistributionF', 0), (69, 'DiscreteDistributionF', 1), (70, 'DiscreteDistributionF', 1), (71, 'DiscreteDistributionF', 1), (72, 'DiscreteDistributionF', 1), (73, 'DiscreteDistributionF', -1), (74, 'DiscreteDistributionF', 1), (75, 'DiscreteDistributionF', 0), (75, 'DiscreteDistributionF', 0), (75, 'DiscreteDistributionF', 0), (76, 'DiscreteDistributionF', 0), (76, 'DiscreteDistributionF', 0), (76, 'DiscreteDistributionF', 0), (77, 'DiscreteDistributionF', 0), (77, 'DiscreteDistributionF', 0), (77, 'DiscreteDistributionF', 0), (78, 'DiscreteDistributionF', 1), (79, 'DiscreteDistributionF', 0), (79, 'DiscreteDistributionF', 0), (79, 'DiscreteDistributionF', 0), (80, 'DiscreteDistributionF', 0), (80, 'DiscreteDistributionF', 0), (80, 'DiscreteDistributionF', 0), (81, 'DiscreteDistributionF', -1), (82, 'DiscreteDistributionF', 0), (82, 'DiscreteDistributionF', 0), (82, 'DiscreteDistributionF', 0), (83, 'DiscreteDistributionF', 1), (84, 'DiscreteDistributionF', 0), (84, 'DiscreteDistributionF', 0), (84, 'DiscreteDistributionF', 0), (85, 'DiscreteDistributionF', 0), (85, 'DiscreteDistributionF', 0), (85, 'DiscreteDistributionF', 0), (86, 'DiscreteDistributionF', 1), (87, 'DiscreteDistributionF', 1), (88, 'DiscreteDistributionF', 1), (89, 'DiscreteDistributionF', -1), (90, 'DiscreteDistributionF', 0), (90, 'DiscreteDistributionF', 0), (90, 'DiscreteDistributionF', 0), (91, 'DiscreteDistributionF', 1), (92, 'DiscreteDistributionF', 1), (93, 'DiscreteDistributionF', 0), (93, 'DiscreteDistributionF', 0), (93, 'DiscreteDistributionF', 0), (94, 'DiscreteDistributionF', -1), (95, 'DiscreteDistributionF', 0), (95, 'DiscreteDistributionF', 0), (95, 'DiscreteDistributionF', 0), (96, 'DiscreteDistributionF', 0), (96, 'DiscreteDistributionF', 0), (96, 'DiscreteDistributionF', 0), (97, 'DiscreteDistributionF', 1), (98, 'DiscreteDistributionF', 0), (98, 'DiscreteDistributionF', 0), (98, 'DiscreteDistributionF', 0), (99, 'DiscreteDistributionF', 0), (99, 'DiscreteDistributionF', 0), (99, 'DiscreteDistributionF', 0), (100, 'DiscreteDistributionF', 1), (101, 'DiscreteDistributionF', 0), (101, 'DiscreteDistributionF', 0), (101, 'DiscreteDistributionF', 0), (102, 'DiscreteDistributionF', 0), (102, 'DiscreteDistributionF', 0), (102, 'DiscreteDistributionF', 0), (103, 'DiscreteDistributionF', -1), (104, 'DiscreteDistributionF', 0), (104, 'DiscreteDistributionF', 0), (104, 'DiscreteDistributionF', 0), (105, 'DiscreteDistributionF', 1), (106, 'DiscreteDistributionF', 0), (106, 'DiscreteDistributionF', 0), (106, 'DiscreteDistributionF', 0), (107, 'DiscreteDistributionF', 0), (107, 'DiscreteDistributionF', 0), (107, 'DiscreteDistributionF', 0), (108, 'DiscreteDistributionF', 0), (108, 'DiscreteDistributionF', 0), (108, 'DiscreteDistributionF', 0), (109, 'DiscreteDistributionF', -1), (110, 'DiscreteDistributionF', -1), (111, 'DiscreteDistributionF', 0), (111, 'DiscreteDistributionF', 0), (111, 'DiscreteDistributionF', 0), (112, 'DiscreteDistributionF', 1), (113, 'DiscreteDistributionF', 0), (113, 'DiscreteDistributionF', 0), (113, 'DiscreteDistributionF', 0), (114, 'DiscreteDistributionF', 0), (114, 'DiscreteDistributionF', 0), (114, 'DiscreteDistributionF', 0), (115, 'DiscreteDistributionF', 0), (115, 'DiscreteDistributionF', 0), (115, 'DiscreteDistributionF', 0), (116, 'DiscreteDistributionF', 1), (117, 'DiscreteDistributionF', 0), (117, 'DiscreteDistributionF', 0), (117, 'DiscreteDistributionF', 0), (118, 'DiscreteDistributionF', 1), (119, 'DiscreteDistributionF', 0), (119, 'DiscreteDistributionF', 0), (119, 'DiscreteDistributionF', 0), (120, 'DiscreteDistributionF', 0), (120, 'DiscreteDistributionF', 0), (120, 'DiscreteDistributionF', 0), (121, 'DiscreteDistributionF', 1), (122, 'DiscreteDistributionF', -1), (123, 'DiscreteDistributionF', -1), (124, 'DiscreteDistributionF', 0), (124, 'DiscreteDistributionF', 0), (124, 'DiscreteDistributionF', 0), (125, 'DiscreteDistributionF', 1), (126, 'DiscreteDistributionF', 1), (127, 'DiscreteDistributionF', 1), (128, 'DiscreteDistributionF', 1), (129, 'DiscreteDistributionF', 1), (130, 'DiscreteDistributionF', 0), (130, 'DiscreteDistributionF', 0), (130, 'DiscreteDistributionF', 0), (131, 'DiscreteDistributionF', 1), (132, 'DiscreteDistributionF', 0), (132, 'DiscreteDistributionF', 0), (132, 'DiscreteDistributionF', 0), (133, 'DiscreteDistributionF', 0), (133, 'DiscreteDistributionF', 0), (133, 'DiscreteDistributionF', 0), (134, 'DiscreteDistributionF', 0), (134, 'DiscreteDistributionF', 0), (134, 'DiscreteDistributionF', 0), (135, 'DiscreteDistributionF', 1), (136, 'DiscreteDistributionF', 1), (137, 'DiscreteDistributionF', 0), (137, 'DiscreteDistributionF', 0), (137, 'DiscreteDistributionF', 0), (138, 'DiscreteDistributionF', 1), (139, 'DiscreteDistributionF', 1), (140, 'DiscreteDistributionF', 0), (140, 'DiscreteDistributionF', 0), (140, 'DiscreteDistributionF', 0), (141, 'DiscreteDistributionF', 1), (142, 'DiscreteDistributionF', 0), (142, 'DiscreteDistributionF', 0), (142, 'DiscreteDistributionF', 0), (143, 'DiscreteDistributionF', -1), (144, 'DiscreteDistributionF', 1), (145, 'DiscreteDistributionF', 1), (146, 'DiscreteDistributionF', 1), (147, 'DiscreteDistributionF', 0), (147, 'DiscreteDistributionF', 0), (147, 'DiscreteDistributionF', 0), (148, 'DiscreteDistributionF', -1), (149, 'DiscreteDistributionF', -1), (150, 'DiscreteDistributionF', 0), (150, 'DiscreteDistributionF', 0), (150, 'DiscreteDistributionF', 0), (151, 'DiscreteDistributionF', 1), (152, 'DiscreteDistributionF', 0), (152, 'DiscreteDistributionF', 0), (152, 'DiscreteDistributionF', 0)]"
       ]
      }
     ], 
     "prompt_number": 28
    }
   ]
  }
 ]
}