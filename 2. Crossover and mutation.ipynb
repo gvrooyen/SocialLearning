{
 "metadata": {
  "name": "2. Crossover and mutation"
 }, 
 "nbformat": 2, 
 "worksheets": [
  {
   "cells": [
    {
     "cell_type": "markdown", 
     "source": [
      "Crossover and mutation", 
      "======================", 
      "In this notebook, we demonstrate the use of the solegene module, and the crossover and mutation", 
      "of traits and individuals."
     ]
    }, 
    {
     "cell_type": "code", 
     "collapsed": false, 
     "input": [
      "import traits.Pioneering", 
      "import traits.DiscreteDistribution", 
      "", 
      "P1 = traits.Pioneering.Pioneering()", 
      "P1.N_rounds = 15", 
      "", 
      "P2 = traits.Pioneering.Pioneering()", 
      "P2.N_rounds = 5", 
      "", 
      "P3 = P1+P2     # Perform crossover of the two traits", 
      "print(P3.N_rounds)"
     ], 
     "language": "python", 
     "outputs": [
      {
       "output_type": "stream", 
       "stream": "stdout", 
       "text": [
        "11"
       ]
      }
     ], 
     "prompt_number": 8
    }, 
    {
     "cell_type": "code", 
     "collapsed": false, 
     "input": [
      "P4 = +P3", 
      "print(P4.N_rounds)"
     ], 
     "language": "python", 
     "outputs": [
      {
       "output_type": "stream", 
       "stream": "stdout", 
       "text": [
        "10"
       ]
      }
     ], 
     "prompt_number": 9
    }, 
    {
     "cell_type": "code", 
     "collapsed": false, 
     "input": [
      "S = P4.render_move()", 
      "print(S)"
     ], 
     "language": "python", 
     "outputs": [
      {
       "output_type": "stream", 
       "stream": "stdout", 
       "text": [
        "", 
        "        if 1 &lt; roundsAlive &lt;= 10:", 
        "            return (INNOVATE, )", 
        "         ", 
        "        else:    # This is the first round", 
        "            return (OBSERVE, )"
       ]
      }
     ], 
     "prompt_number": 10
    }, 
    {
     "cell_type": "code", 
     "collapsed": false, 
     "input": [
      "S = P4.render_done()", 
      "print(S)"
     ], 
     "language": "python", 
     "outputs": [
      {
       "output_type": "stream", 
       "stream": "stdout", 
       "text": [
        "", 
        "        return ((roundsAlive &gt; 10) or     # The state has expired", 
        "                (historyActs[0] &gt; -1)                # Other agents were exploiting, so this individual isn&apos;t a pioneer", 
        "               )                "
       ]
      }
     ], 
     "prompt_number": 11
    }, 
    {
     "cell_type": "code", 
     "collapsed": false, 
     "input": [
      "D1 = traits.DiscreteDistribution.DiscreteDistribution()", 
      "D1.Pi = 0.1", 
      "D1.Po = 0.2", 
      "D1.Pe = 0.3", 
      "D1.Pr = 0.4", 
      "", 
      "D2 = traits.DiscreteDistribution.DiscreteDistribution()", 
      "D2.Pi = 0.4", 
      "D2.Po = 0.25", 
      "D2.Pe = 0.15", 
      "D2.Pr = 0.1", 
      "", 
      "D3 = D1+D2     # Perform crossover of the two traits", 
      "print(D3.Pi, D3.Po, D3.Pe, D3.Pr)"
     ], 
     "language": "python", 
     "outputs": [
      {
       "output_type": "stream", 
       "stream": "stdout", 
       "text": [
        "(0.25086055795370077, 0.22187388377348108, 0.24807391822822172, 0.4500450660624019)"
       ]
      }
     ], 
     "prompt_number": 12
    }, 
    {
     "cell_type": "code", 
     "collapsed": false, 
     "input": [
      "D4 = +D3", 
      "print(D4.Pi, D4.Po, D4.Pe, D4.Pr)"
     ], 
     "language": "python", 
     "outputs": [
      {
       "output_type": "stream", 
       "stream": "stdout", 
       "text": [
        "(0.25086055795370077, 0.22187388377348108, 0.9236670923717737, 0.4500450660624019)"
       ]
      }
     ], 
     "prompt_number": 13
    }, 
    {
     "cell_type": "code", 
     "collapsed": false, 
     "input": [
      "S = D4.render_move()", 
      "print(S)"
     ], 
     "language": "python", 
     "outputs": [
      {
       "output_type": "stream", 
       "stream": "stdout", 
       "text": [
        "", 
        "        interval = [0.250860557954, 0.221873883773, 0.923667092372, 0.450045066062]", 
        "", 
        "        for i in xrange(1,4):", 
        "            interval[i] = interval[i-1] + interval[i]", 
        "", 
        "        # Normalise the intervals", 
        "        if canPlayRefine:", 
        "            interval /= interval[-1]", 
        "        else:", 
        "            interval /= interval[-2]", 
        "", 
        "        roll = random.random()", 
        "", 
        "        if roll &lt;= interval[0]:", 
        "            return (INNOVATE, )", 
        "        elif roll &lt;= interval[1]:", 
        "            return (OBSERVE, )", 
        "        elif roll &lt;= interval[2]:", 
        "            return (EXPLOIT, max(repertoire, key=repertoire.get))", 
        "        elif (roll &lt;= interval[3]) and canPlayRefine:   # Add the sanity check in case of rounding errors", 
        "            return (REFINE, max(repertoire, key=repertoire.get))", 
        "        else:", 
        "            # Catch-all for rounding errors", 
        "            return (EXPLOIT, max(repertoire, key=repertoire.get))"
       ]
      }
     ], 
     "prompt_number": 14
    }, 
    {
     "cell_type": "code", 
     "collapsed": false, 
     "input": [
      "S = D4.render_done()", 
      "print(S)"
     ], 
     "language": "python", 
     "outputs": [
      {
       "output_type": "stream", 
       "stream": "stdout", 
       "text": [
        "", 
        "        return False    # Terminal trait"
       ]
      }
     ], 
     "prompt_number": 15
    }, 
    {
     "cell_type": "code", 
     "collapsed": false, 
     "input": [
      "import solegene", 
      "reload(solegene)", 
      "", 
      "G = solegene.Genome()", 
      "G.state = [('Pioneering', ['DiscreteDistribution']),", 
      "           ('DiscreteDistribution', [])]", 
      "G.traits['Pioneering'] = P4", 
      "G.traits['DiscreteDistribution'] = D4", 
      "", 
      "print G.render()"
     ], 
     "language": "python", 
     "outputs": [
      {
       "output_type": "stream", 
       "stream": "stdout", 
       "text": [
        "#!/usr/bin/python", 
        "# -*- coding: utf-8 -*-", 
        "# Automatically rendered agent code", 
        "", 
        "from moves import *", 
        "import math", 
        "", 
        "", 
        "def move(", 
        "    roundsAlive,", 
        "    repertoire,", 
        "    historyRounds,", 
        "    historyMoves,", 
        "    historyActs,", 
        "    historyPayoffs,", 
        "    historyDemes,", 
        "    currentDeme,", 
        "    canChooseModel,", 
        "    canPlayRefine,", 
        "    multipleDemes,", 
        "    ):", 
        "", 
        "    def Pioneering_done():", 
        "", 
        "        return roundsAlive &gt; 9 or historyActs[0] &gt; -1  # The state has expired,", 
        "                                                       # or other agents were exploiting, so this individual isn&apos;t a pioneer", 
        "", 
        "    def DiscreteDistribution_done():", 
        "", 
        "        return False  # Terminal trait", 
        "", 
        "    state_matrix = []", 
        "", 
        "    s = Pioneering_done()", 
        "    if s == 0:", 
        "        state_matrix.append((&apos;Pioneering&apos;, None))", 
        "    else:", 
        "        state_matrix.append((&apos;Pioneering&apos;, 1))", 
        "", 
        "    state_matrix.append((&apos;DiscreteDistribution&apos;, None))", 
        "", 
        "    state_idx = 0", 
        "    state_found = False", 
        "", 
        "    while not state_found:", 
        "        state_found = state_matrix[state_idx][1] == None", 
        "        if not state_found:", 
        "            state_idx = state_matrix[state_idx][1]", 
        "", 
        "    state = state_matrix[state_idx][0]", 
        "", 
        "    if state == &apos;Pioneering&apos;:", 
        "", 
        "        if 1 &lt; roundsAlive &lt;= 9:", 
        "            return (INNOVATE, )", 
        "        else:", 
        "", 
        "                 # This is the first round", 
        "", 
        "            return (OBSERVE, )", 
        "    elif state == &apos;DiscreteDistribution&apos;:", 
        "", 
        "        interval = [0.286932600267, 0.237222901554, 0.894672148547,", 
        "                    0.224694397881]", 
        "", 
        "        for i in xrange(1, 4):", 
        "            interval[i] = interval[i - 1] + interval[i]", 
        "", 
        "        # Normalise the intervals", 
        "", 
        "        if canPlayRefine:", 
        "            interval /= interval[-1]", 
        "        else:", 
        "            interval /= interval[-2]", 
        "", 
        "        roll = random.random()", 
        "", 
        "        if roll &lt;= interval[0]:", 
        "            return (INNOVATE, )", 
        "        elif roll &lt;= interval[1]:", 
        "            return (OBSERVE, )", 
        "        elif roll &lt;= interval[2]:", 
        "            return (EXPLOIT, max(repertoire, key=repertoire.get))", 
        "        elif roll &lt;= interval[3] and canPlayRefine:", 
        "", 
        "                                                        # Add the sanity check in case of rounding errors", 
        "", 
        "            return (REFINE, max(repertoire, key=repertoire.get))", 
        "        else:", 
        "", 
        "            # Catch-all for rounding errors", 
        "", 
        "            return (EXPLOIT, max(repertoire, key=repertoire.get))", 
        "", 
        "", 
        "def observe_who(exploiterData):", 
        "    random.shuffle(exploiterData)", 
        "    return exploiterData", 
        "", 
        "", 
        ""
       ]
      }
     ], 
     "prompt_number": 26
    }, 
    {
     "cell_type": "code", 
     "collapsed": false, 
     "input": [
      "M = 4", 
      "N = 3", 
      "MN = M*N", 
      "", 
      "X = range(0,MN)", 
      "", 
      "bitmap = (1<<0) + (1<<(MN-1))", 
      "i = 0", 
      "", 
      "while bitmap != ( (1<<MN) - 1):", 
      "    if (bitmap & (1<<i)):", 
      "        i += 1", 
      "        xin = X[i]", 
      "        i = ((N*i)/MN) + ((N*i) % MN)", 
      "    else:", 
      "        xout = X[i]", 
      "        X[i] = xin", 
      "        bitmap += (1<<i)", 
      "        i = ((N*i)/MN) + ((N*i) % MN)", 
      "        xin = xout", 
      "", 
      "print X"
     ], 
     "language": "python", 
     "outputs": [
      {
       "output_type": "stream", 
       "stream": "stdout", 
       "text": [
        "[0, 4, 8, 1, 5, 9, 2, 6, 10, 3, 7, 11]"
       ]
      }
     ], 
     "prompt_number": 34
    }
   ]
  }
 ]
}