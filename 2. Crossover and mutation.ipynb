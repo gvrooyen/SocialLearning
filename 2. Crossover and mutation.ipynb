{
 "metadata": {
  "name": "2. Crossover and mutation"
 }, 
 "nbformat": 2, 
 "worksheets": [
  {
   "cells": [
    {
     "cell_type": "markdown", 
     "source": [
      "Crossover and mutation", 
      "======================", 
      "In this notebook, we demonstrate the use of the solegene module, and the crossover and mutation", 
      "of traits and individuals."
     ]
    }, 
    {
     "cell_type": "code", 
     "collapsed": false, 
     "input": [
      "import traits.Pioneering", 
      "import traits.DiscreteDistribution", 
      "", 
      "P1 = traits.Pioneering.Pioneering()", 
      "P1.N_rounds = 15", 
      "", 
      "P2 = traits.Pioneering.Pioneering()", 
      "P2.N_rounds = 5", 
      "", 
      "P3 = P1+P2     # Perform crossover of the two traits", 
      "print(P3.N_rounds)"
     ], 
     "language": "python", 
     "outputs": [
      {
       "output_type": "stream", 
       "stream": "stdout", 
       "text": [
        "11"
       ]
      }
     ], 
     "prompt_number": 2
    }, 
    {
     "cell_type": "code", 
     "collapsed": false, 
     "input": [
      "P4 = +P3", 
      "print(P4.N_rounds)"
     ], 
     "language": "python", 
     "outputs": [
      {
       "output_type": "stream", 
       "stream": "stdout", 
       "text": [
        "10"
       ]
      }
     ], 
     "prompt_number": 3
    }, 
    {
     "cell_type": "code", 
     "collapsed": false, 
     "input": [
      "S = P4.render_move()", 
      "print(S)"
     ], 
     "language": "python", 
     "outputs": [
      {
       "output_type": "stream", 
       "stream": "stdout", 
       "text": [
        "", 
        "        if roundsAlive == 0:", 
        "            return (OBSERVE, )", 
        "        else:", 
        "            return (INNOVATE, )", 
        ""
       ]
      }
     ], 
     "prompt_number": 4
    }, 
    {
     "cell_type": "code", 
     "collapsed": false, 
     "input": [
      "S = P4.render_done()", 
      "print(S)"
     ], 
     "language": "python", 
     "outputs": [
      {
       "output_type": "stream", 
       "stream": "stdout", 
       "text": [
        "", 
        "        # True if the state has expired, or if other agents were exploiting (i.e., this individual isn't a pioneer)", 
        "        return ((roundsAlive >= 10) or     ", 
        "                ((len(historyActs) > 0) and (historyActs[0] > -1))", 
        "               )                ", 
        ""
       ]
      }
     ], 
     "prompt_number": 5
    }, 
    {
     "cell_type": "code", 
     "collapsed": false, 
     "input": [
      "D1 = traits.DiscreteDistribution.DiscreteDistribution()", 
      "D1.Pi = 0.1", 
      "D1.Po = 0.2", 
      "D1.Pe = 0.3", 
      "D1.Pr = 0.4", 
      "", 
      "D2 = traits.DiscreteDistribution.DiscreteDistribution()", 
      "D2.Pi = 0.4", 
      "D2.Po = 0.25", 
      "D2.Pe = 0.15", 
      "D2.Pr = 0.1", 
      "", 
      "D3 = D1+D2     # Perform crossover of the two traits", 
      "print(D3.Pi, D3.Po, D3.Pe, D3.Pr)"
     ], 
     "language": "python", 
     "outputs": [
      {
       "output_type": "stream", 
       "stream": "stdout", 
       "text": [
        "(0.3993835525063241, 0.2260332122810345, 0.2010015099560947, 0.22375295523176988)"
       ]
      }
     ], 
     "prompt_number": 6
    }, 
    {
     "cell_type": "code", 
     "collapsed": false, 
     "input": [
      "D4 = +D3", 
      "print(D4.Pi, D4.Po, D4.Pe, D4.Pr)"
     ], 
     "language": "python", 
     "outputs": [
      {
       "output_type": "stream", 
       "stream": "stdout", 
       "text": [
        "(0.4905215847017286, 0.2260332122810345, 0.2010015099560947, 0.22375295523176988)"
       ]
      }
     ], 
     "prompt_number": 7
    }, 
    {
     "cell_type": "code", 
     "collapsed": false, 
     "input": [
      "S = D4.render_move()", 
      "print(S)"
     ], 
     "language": "python", 
     "outputs": [
      {
       "output_type": "stream", 
       "stream": "stdout", 
       "text": [
        "", 
        "        interval = [0.490521584702, 0.226033212281, 0.201001509956, 0.223752955232]", 
        "", 
        "        for i in xrange(1,4):", 
        "            interval[i] = interval[i-1] + interval[i]", 
        "", 
        "        # Normalise the intervals", 
        "        if canPlayRefine:", 
        "            interval = [x/interval[-1] for x in interval]", 
        "        else:", 
        "            interval = [x/interval[-2] for x in interval]", 
        "", 
        "        roll = random.random()", 
        "", 
        "        if roll <= interval[0]:", 
        "            return (INNOVATE, )", 
        "        elif roll <= interval[1]:", 
        "            return (OBSERVE, )", 
        "        elif roll <= interval[2]:", 
        "            return (EXPLOIT, max(repertoire, key=repertoire.get))", 
        "        elif (roll <= interval[3]) and canPlayRefine:   # Add the sanity check in case of rounding errors", 
        "            return (REFINE, max(repertoire, key=repertoire.get))", 
        "        else:", 
        "            # Catch-all for rounding errors", 
        "            return (EXPLOIT, max(repertoire, key=repertoire.get))", 
        ""
       ]
      }
     ], 
     "prompt_number": 8
    }, 
    {
     "cell_type": "code", 
     "collapsed": false, 
     "input": [
      "S = D4.render_done()", 
      "print(S)"
     ], 
     "language": "python", 
     "outputs": [
      {
       "output_type": "stream", 
       "stream": "stdout", 
       "text": [
        "", 
        "        return False    # Terminal trait", 
        ""
       ]
      }
     ], 
     "prompt_number": 9
    }, 
    {
     "cell_type": "code", 
     "collapsed": false, 
     "input": [
      "import solegene", 
      "reload(solegene)", 
      "", 
      "G = solegene.Genome()", 
      "G.state = [('Pioneering', ['DiscreteDistribution']),", 
      "           ('DiscreteDistribution', [])]", 
      "G.traits['Pioneering'] = P4", 
      "G.traits['DiscreteDistribution'] = D4", 
      "", 
      "code = G.render(debug = True)", 
      "", 
      "print code"
     ], 
     "language": "python", 
     "outputs": [
      {
       "output_type": "stream", 
       "stream": "stdout", 
       "text": [
        "#!/usr/bin/python", 
        "# -*- coding: utf-8 -*-", 
        "# Automatically rendered agent code", 
        "", 
        "from moves import *", 
        "import math", 
        "", 
        "last_state = None", 
        "last_state_matrix = None", 
        "", 
        "", 
        "def move(", 
        "    roundsAlive,", 
        "    repertoire,", 
        "    historyRounds,", 
        "    historyMoves,", 
        "    historyActs,", 
        "    historyPayoffs,", 
        "    historyDemes,", 
        "    currentDeme,", 
        "    canChooseModel,", 
        "    canPlayRefine,", 
        "    multipleDemes,", 
        "    ):", 
        "", 
        "    def Pioneering_done():", 
        "", 
        "        # True if the state has expired, or if other agents were exploiting (i.e., this individual isn't a pioneer)", 
        "", 
        "        return roundsAlive >= 10 or len(historyActs) > 0 \\", 
        "            and historyActs[0] > -1", 
        "", 
        "    def DiscreteDistribution_done():", 
        "", 
        "        return False  # Terminal trait", 
        "", 
        "    state_matrix = []", 
        "", 
        "    s = Pioneering_done()", 
        "    if s == 0:", 
        "        state_matrix.append(('Pioneering', None))", 
        "    else:", 
        "        state_matrix.append(('Pioneering', 1))", 
        "", 
        "    state_matrix.append(('DiscreteDistribution', None))", 
        "", 
        "    state_idx = 0", 
        "    state_found = False", 
        "", 
        "    while not state_found:", 
        "        state_found = state_matrix[state_idx][1] == None", 
        "        if not state_found:", 
        "            state_idx = state_matrix[state_idx][1]", 
        "", 
        "    state = state_matrix[state_idx][0]", 
        "", 
        "    global last_state, last_state_matrix", 
        "", 
        "    last_state = state", 
        "", 
        "    last_state_matrix = state_matrix", 
        "", 
        "    if state == 'Pioneering':", 
        "", 
        "        if roundsAlive == 0:", 
        "            return (OBSERVE, )", 
        "        else:", 
        "            return (INNOVATE, )", 
        "    elif state == 'DiscreteDistribution':", 
        "", 
        "        interval = [0.490521584702, 0.226033212281, 0.201001509956,", 
        "                    0.223752955232]", 
        "", 
        "        for i in xrange(1, 4):", 
        "            interval[i] = interval[i - 1] + interval[i]", 
        "", 
        "        # Normalise the intervals", 
        "", 
        "        if canPlayRefine:", 
        "            interval = [x / interval[-1] for x in interval]", 
        "        else:", 
        "            interval = [x / interval[-2] for x in interval]", 
        "", 
        "        roll = random.random()", 
        "", 
        "        if roll <= interval[0]:", 
        "            return (INNOVATE, )", 
        "        elif roll <= interval[1]:", 
        "            return (OBSERVE, )", 
        "        elif roll <= interval[2]:", 
        "            return (EXPLOIT, max(repertoire, key=repertoire.get))", 
        "        elif roll <= interval[3] and canPlayRefine:", 
        "", 
        "                                                        # Add the sanity check in case of rounding errors", 
        "", 
        "            return (REFINE, max(repertoire, key=repertoire.get))", 
        "        else:", 
        "", 
        "            # Catch-all for rounding errors", 
        "", 
        "            return (EXPLOIT, max(repertoire, key=repertoire.get))", 
        "", 
        "", 
        "def observe_who(exploiterData):", 
        "    random.shuffle(exploiterData)", 
        "    return exploiterData", 
        "", 
        "", 
        ""
       ]
      }
     ], 
     "prompt_number": 10
    }, 
    {
     "cell_type": "markdown", 
     "source": [
      "This is a simple example of how the logging decorator works:"
     ]
    }, 
    {
     "cell_type": "code", 
     "collapsed": false, 
     "input": [
      "class D(object):", 
      "    ", 
      "    def __init__(self, f):", 
      "        self.f = f", 
      "        self.log = []", 
      "        ", 
      "    def __call__(self, *args):", 
      "        result = self.f(*args)", 
      "        self.log.append(result)", 
      "        return result", 
      "", 
      "@D", 
      "def square(x):", 
      "    return x*x", 
      "", 
      "print square(1)", 
      "print square(2)", 
      "print square(3)", 
      "", 
      "if hasattr(square,'log'):", 
      "    print square.log"
     ], 
     "language": "python", 
     "outputs": [
      {
       "output_type": "stream", 
       "stream": "stdout", 
       "text": [
        "1", 
        "4", 
        "9", 
        "[1, 4, 9]"
       ]
      }
     ], 
     "prompt_number": 11
    }, 
    {
     "cell_type": "markdown", 
     "source": [
      "In the next test, we do a full simulation of the rendered code, and analyse its state traces. The first short simulation investigates a typical individual that's part of the population's first generation. It should notice that no-one is exploiting in the first round, and then innovate for a number of rounds."
     ]
    }, 
    {
     "cell_type": "code", 
     "collapsed": false, 
     "input": [
      "import md5", 
      "import simulate", 
      "", 
      "agent_hash = md5.md5(code)", 
      "agent_name = 'agent_' + agent_hash.hexdigest()", 
      "agent_path = 'agents/rendered/' + agent_name + '.py'", 
      "print(\"Simulating %s...\" % agent_name)", 
      "", 
      "f = open(agent_path, 'w')", 
      "f.write(code)", 
      "f.close()", 
      "", 
      "agent = __import__('agents.rendered.'+agent_name, fromlist=['*'])", 
      "simulate.agent = agent", 
      "simulation = simulate.Simulate(N_rounds=20)", 
      "simulation.run()", 
      "", 
      "print(zip(simulation.demes[0].population[0].historyRounds, simulation.demes[0].population[0].historyStates, simulation.demes[0].population[0].historyMoves))"
     ], 
     "language": "python", 
     "outputs": [
      {
       "output_type": "stream", 
       "stream": "stdout", 
       "text": [
        "Simulating agent_589082c3b8ca50520999a3dee678f6cb...", 
        "[(1, 'Pioneering', 0), (1, 'Pioneering', 0), (1, 'Pioneering', 0), (2, 'Pioneering', -1), (3, 'Pioneering', -1), (4, 'Pioneering', -1), (5, 'Pioneering', -1), (6, 'Pioneering', -1), (7, 'Pioneering', -1), (8, 'Pioneering', -1), (9, 'Pioneering', -1), (10, 'Pioneering', -1), (11, 'DiscreteDistribution', 1), (12, 'DiscreteDistribution', -1), (13, 'DiscreteDistribution', -1), (14, 'DiscreteDistribution', 0), (14, 'DiscreteDistribution', 0), (14, 'DiscreteDistribution', 0), (15, 'DiscreteDistribution', 1), (16, 'DiscreteDistribution', -1), (17, 'DiscreteDistribution', 1), (18, 'DiscreteDistribution', 1), (19, 'DiscreteDistribution', -1), (20, 'DiscreteDistribution', -1)]"
       ]
      }, 
      {
       "output_type": "stream", 
       "stream": "stdout", 
       "text": [
        ""
       ]
      }
     ], 
     "prompt_number": 12
    }, 
    {
     "cell_type": "markdown", 
     "source": [
      "The next simulation is long enough that the entire first generation of individuals would have died off; the sampled individual should have a single round in the 'Pioneering' state to observe its peers, and then move into 'DiscreteDistribution' for the rest of its life."
     ]
    }, 
    {
     "cell_type": "code", 
     "collapsed": false, 
     "input": [
      "simulation = simulate.Simulate(N_rounds=1000)", 
      "simulation.run()", 
      "", 
      "print(zip(simulation.demes[0].population[0].historyRounds, simulation.demes[0].population[0].historyStates, simulation.demes[0].population[0].historyMoves))"
     ], 
     "language": "python", 
     "outputs": [
      {
       "output_type": "stream", 
       "stream": "stdout", 
       "text": [
        "[(1, 'Pioneering', 0), (1, 'Pioneering', 0), (1, 'Pioneering', 0), (2, 'DiscreteDistribution', 0), (2, 'DiscreteDistribution', 0), (2, 'DiscreteDistribution', 0), (3, 'DiscreteDistribution', -1), (4, 'DiscreteDistribution', -1), (5, 'DiscreteDistribution', -1), (6, 'DiscreteDistribution', 0), (6, 'DiscreteDistribution', 0), (6, 'DiscreteDistribution', 0), (7, 'DiscreteDistribution', 1), (8, 'DiscreteDistribution', 0), (8, 'DiscreteDistribution', 0), (8, 'DiscreteDistribution', 0), (9, 'DiscreteDistribution', 1), (10, 'DiscreteDistribution', -1), (11, 'DiscreteDistribution', -1), (12, 'DiscreteDistribution', -1), (13, 'DiscreteDistribution', -1), (14, 'DiscreteDistribution', -1), (15, 'DiscreteDistribution', -1), (16, 'DiscreteDistribution', -1), (17, 'DiscreteDistribution', -1), (18, 'DiscreteDistribution', -1), (19, 'DiscreteDistribution', -1), (20, 'DiscreteDistribution', -1), (21, 'DiscreteDistribution', -1), (22, 'DiscreteDistribution', 1), (23, 'DiscreteDistribution', 1), (24, 'DiscreteDistribution', 0), (24, 'DiscreteDistribution', 0), (24, 'DiscreteDistribution', 0), (25, 'DiscreteDistribution', -1), (26, 'DiscreteDistribution', -1), (27, 'DiscreteDistribution', 1), (28, 'DiscreteDistribution', -1), (29, 'DiscreteDistribution', -1), (30, 'DiscreteDistribution', -1), (31, 'DiscreteDistribution', 0), (31, 'DiscreteDistribution', 0), (31, 'DiscreteDistribution', 0), (32, 'DiscreteDistribution', -1), (33, 'DiscreteDistribution', -1), (34, 'DiscreteDistribution', 0), (34, 'DiscreteDistribution', 0), (34, 'DiscreteDistribution', 0), (35, 'DiscreteDistribution', 0), (35, 'DiscreteDistribution', 0), (35, 'DiscreteDistribution', 0), (36, 'DiscreteDistribution', 0), (36, 'DiscreteDistribution', 0), (36, 'DiscreteDistribution', 0), (37, 'DiscreteDistribution', 0), (37, 'DiscreteDistribution', 0), (37, 'DiscreteDistribution', 0), (38, 'DiscreteDistribution', -1), (39, 'DiscreteDistribution', 0), (39, 'DiscreteDistribution', 0), (39, 'DiscreteDistribution', 0), (40, 'DiscreteDistribution', 0), (40, 'DiscreteDistribution', 0), (40, 'DiscreteDistribution', 0), (41, 'DiscreteDistribution', -1), (42, 'DiscreteDistribution', -1), (43, 'DiscreteDistribution', -1), (44, 'DiscreteDistribution', 0), (44, 'DiscreteDistribution', 0), (44, 'DiscreteDistribution', 0), (45, 'DiscreteDistribution', 1), (46, 'DiscreteDistribution', -1), (47, 'DiscreteDistribution', 1), (48, 'DiscreteDistribution', -1), (49, 'DiscreteDistribution', -1), (50, 'DiscreteDistribution', 0), (50, 'DiscreteDistribution', 0), (50, 'DiscreteDistribution', 0), (51, 'DiscreteDistribution', 1), (52, 'DiscreteDistribution', -1), (53, 'DiscreteDistribution', -1), (54, 'DiscreteDistribution', 1), (55, 'DiscreteDistribution', -1), (56, 'DiscreteDistribution', -1), (57, 'DiscreteDistribution', -1), (58, 'DiscreteDistribution', -1), (59, 'DiscreteDistribution', 0), (59, 'DiscreteDistribution', 0), (59, 'DiscreteDistribution', 0), (60, 'DiscreteDistribution', -1), (61, 'DiscreteDistribution', -1), (62, 'DiscreteDistribution', 1), (63, 'DiscreteDistribution', 1), (64, 'DiscreteDistribution', -1), (65, 'DiscreteDistribution', -1), (66, 'DiscreteDistribution', 0), (66, 'DiscreteDistribution', 0), (66, 'DiscreteDistribution', 0), (67, 'DiscreteDistribution', 0), (67, 'DiscreteDistribution', 0), (67, 'DiscreteDistribution', 0), (68, 'DiscreteDistribution', -1), (69, 'DiscreteDistribution', 1), (70, 'DiscreteDistribution', 0), (70, 'DiscreteDistribution', 0), (70, 'DiscreteDistribution', 0), (71, 'DiscreteDistribution', 1), (72, 'DiscreteDistribution', 1), (73, 'DiscreteDistribution', -1), (74, 'DiscreteDistribution', -1), (75, 'DiscreteDistribution', -1), (76, 'DiscreteDistribution', 0), (76, 'DiscreteDistribution', 0), (76, 'DiscreteDistribution', 0), (77, 'DiscreteDistribution', 1), (78, 'DiscreteDistribution', -1), (79, 'DiscreteDistribution', -1), (80, 'DiscreteDistribution', -1), (81, 'DiscreteDistribution', -1), (82, 'DiscreteDistribution', 0), (82, 'DiscreteDistribution', 0), (82, 'DiscreteDistribution', 0), (83, 'DiscreteDistribution', 1), (84, 'DiscreteDistribution', -1), (85, 'DiscreteDistribution', -1), (86, 'DiscreteDistribution', 0), (86, 'DiscreteDistribution', 0), (86, 'DiscreteDistribution', 0), (87, 'DiscreteDistribution', 1), (88, 'DiscreteDistribution', -1), (89, 'DiscreteDistribution', -1), (90, 'DiscreteDistribution', 0), (90, 'DiscreteDistribution', 0), (90, 'DiscreteDistribution', 0), (91, 'DiscreteDistribution', 0), (91, 'DiscreteDistribution', 0), (91, 'DiscreteDistribution', 0), (92, 'DiscreteDistribution', 0), (92, 'DiscreteDistribution', 0), (92, 'DiscreteDistribution', 0), (93, 'DiscreteDistribution', -1), (94, 'DiscreteDistribution', 1), (95, 'DiscreteDistribution', -1), (96, 'DiscreteDistribution', -1), (97, 'DiscreteDistribution', -1), (98, 'DiscreteDistribution', -1), (99, 'DiscreteDistribution', 0), (99, 'DiscreteDistribution', 0), (99, 'DiscreteDistribution', 0), (100, 'DiscreteDistribution', -1), (101, 'DiscreteDistribution', 1), (102, 'DiscreteDistribution', 0), (102, 'DiscreteDistribution', 0), (102, 'DiscreteDistribution', 0), (103, 'DiscreteDistribution', -1), (104, 'DiscreteDistribution', 1), (105, 'DiscreteDistribution', 0), (105, 'DiscreteDistribution', 0), (105, 'DiscreteDistribution', 0), (106, 'DiscreteDistribution', 1), (107, 'DiscreteDistribution', -1), (108, 'DiscreteDistribution', -1), (109, 'DiscreteDistribution', -1), (110, 'DiscreteDistribution', 0), (110, 'DiscreteDistribution', 0), (110, 'DiscreteDistribution', 0), (111, 'DiscreteDistribution', -1), (112, 'DiscreteDistribution', -1), (113, 'DiscreteDistribution', 1), (114, 'DiscreteDistribution', -1), (115, 'DiscreteDistribution', -1), (116, 'DiscreteDistribution', 0), (116, 'DiscreteDistribution', 0), (116, 'DiscreteDistribution', 0), (117, 'DiscreteDistribution', 0), (117, 'DiscreteDistribution', 0), (117, 'DiscreteDistribution', 0), (118, 'DiscreteDistribution', -1), (119, 'DiscreteDistribution', -1), (120, 'DiscreteDistribution', 1), (121, 'DiscreteDistribution', -1), (122, 'DiscreteDistribution', -1), (123, 'DiscreteDistribution', 0), (123, 'DiscreteDistribution', 0), (123, 'DiscreteDistribution', 0), (124, 'DiscreteDistribution', -1), (125, 'DiscreteDistribution', -1), (126, 'DiscreteDistribution', 1), (127, 'DiscreteDistribution', -1), (128, 'DiscreteDistribution', 1), (129, 'DiscreteDistribution', -1), (130, 'DiscreteDistribution', -1), (131, 'DiscreteDistribution', -1), (132, 'DiscreteDistribution', 1), (133, 'DiscreteDistribution', -1), (134, 'DiscreteDistribution', 0), (134, 'DiscreteDistribution', 0), (134, 'DiscreteDistribution', 0), (135, 'DiscreteDistribution', 1), (136, 'DiscreteDistribution', 1), (137, 'DiscreteDistribution', -1), (138, 'DiscreteDistribution', 0), (138, 'DiscreteDistribution', 0), (138, 'DiscreteDistribution', 0), (139, 'DiscreteDistribution', 1), (140, 'DiscreteDistribution', 1), (141, 'DiscreteDistribution', -1), (142, 'DiscreteDistribution', 0), (142, 'DiscreteDistribution', 0), (142, 'DiscreteDistribution', 0), (143, 'DiscreteDistribution', 0), (143, 'DiscreteDistribution', 0), (143, 'DiscreteDistribution', 0), (144, 'DiscreteDistribution', -1), (145, 'DiscreteDistribution', 0), (145, 'DiscreteDistribution', 0), (145, 'DiscreteDistribution', 0), (146, 'DiscreteDistribution', -1), (147, 'DiscreteDistribution', 0), (147, 'DiscreteDistribution', 0), (147, 'DiscreteDistribution', 0), (148, 'DiscreteDistribution', 0), (148, 'DiscreteDistribution', 0), (148, 'DiscreteDistribution', 0), (149, 'DiscreteDistribution', -1), (150, 'DiscreteDistribution', -1), (151, 'DiscreteDistribution', 0), (151, 'DiscreteDistribution', 0), (151, 'DiscreteDistribution', 0), (152, 'DiscreteDistribution', 1), (153, 'DiscreteDistribution', 0), (153, 'DiscreteDistribution', 0), (153, 'DiscreteDistribution', 0), (154, 'DiscreteDistribution', -1), (155, 'DiscreteDistribution', -1), (156, 'DiscreteDistribution', -1), (157, 'DiscreteDistribution', 0), (157, 'DiscreteDistribution', 0), (157, 'DiscreteDistribution', 0), (158, 'DiscreteDistribution', -1), (159, 'DiscreteDistribution', -1), (160, 'DiscreteDistribution', -1), (161, 'DiscreteDistribution', -1), (162, 'DiscreteDistribution', 1), (163, 'DiscreteDistribution', -1), (164, 'DiscreteDistribution', -1), (165, 'DiscreteDistribution', 0), (165, 'DiscreteDistribution', 0), (165, 'DiscreteDistribution', 0), (166, 'DiscreteDistribution', 1), (167, 'DiscreteDistribution', 0), (167, 'DiscreteDistribution', 0), (167, 'DiscreteDistribution', 0), (168, 'DiscreteDistribution', -1), (169, 'DiscreteDistribution', -1), (170, 'DiscreteDistribution', -1), (171, 'DiscreteDistribution', -1), (172, 'DiscreteDistribution', 0), (172, 'DiscreteDistribution', 0), (172, 'DiscreteDistribution', 0), (173, 'DiscreteDistribution', -1), (174, 'DiscreteDistribution', 0), (174, 'DiscreteDistribution', 0), (174, 'DiscreteDistribution', 0), (175, 'DiscreteDistribution', -1), (176, 'DiscreteDistribution', 1), (177, 'DiscreteDistribution', 0), (177, 'DiscreteDistribution', 0), (177, 'DiscreteDistribution', 0), (178, 'DiscreteDistribution', 1), (179, 'DiscreteDistribution', 1), (180, 'DiscreteDistribution', 1), (181, 'DiscreteDistribution', -1), (182, 'DiscreteDistribution', 0), (182, 'DiscreteDistribution', 0), (182, 'DiscreteDistribution', 0), (183, 'DiscreteDistribution', 1), (184, 'DiscreteDistribution', -1), (185, 'DiscreteDistribution', 0), (185, 'DiscreteDistribution', 0), (185, 'DiscreteDistribution', 0), (186, 'DiscreteDistribution', 0), (186, 'DiscreteDistribution', 0), (186, 'DiscreteDistribution', 0), (187, 'DiscreteDistribution', 1), (188, 'DiscreteDistribution', 0), (188, 'DiscreteDistribution', 0), (188, 'DiscreteDistribution', 0), (189, 'DiscreteDistribution', 0), (189, 'DiscreteDistribution', 0), (189, 'DiscreteDistribution', 0), (190, 'DiscreteDistribution', 1), (191, 'DiscreteDistribution', -1), (192, 'DiscreteDistribution', -1), (193, 'DiscreteDistribution', -1), (194, 'DiscreteDistribution', 1), (195, 'DiscreteDistribution', 0), (195, 'DiscreteDistribution', 0), (195, 'DiscreteDistribution', 0), (196, 'DiscreteDistribution', 1), (197, 'DiscreteDistribution', 0), (197, 'DiscreteDistribution', 0), (197, 'DiscreteDistribution', 0), (198, 'DiscreteDistribution', -1), (199, 'DiscreteDistribution', -1), (200, 'DiscreteDistribution', -1), (201, 'DiscreteDistribution', -1), (202, 'DiscreteDistribution', -1), (203, 'DiscreteDistribution', 0), (203, 'DiscreteDistribution', 0), (203, 'DiscreteDistribution', 0), (204, 'DiscreteDistribution', -1), (205, 'DiscreteDistribution', -1), (206, 'DiscreteDistribution', -1), (207, 'DiscreteDistribution', -1), (208, 'DiscreteDistribution', -1), (209, 'DiscreteDistribution', -1), (210, 'DiscreteDistribution', 0), (210, 'DiscreteDistribution', 0), (210, 'DiscreteDistribution', 0), (211, 'DiscreteDistribution', -1), (212, 'DiscreteDistribution', -1), (213, 'DiscreteDistribution', 0), (213, 'DiscreteDistribution', 0), (213, 'DiscreteDistribution', 0), (214, 'DiscreteDistribution', 0), (214, 'DiscreteDistribution', 0), (214, 'DiscreteDistribution', 0), (215, 'DiscreteDistribution', 0), (215, 'DiscreteDistribution', 0), (215, 'DiscreteDistribution', 0), (216, 'DiscreteDistribution', -1), (217, 'DiscreteDistribution', 1), (218, 'DiscreteDistribution', -1), (219, 'DiscreteDistribution', 1), (220, 'DiscreteDistribution', 0), (220, 'DiscreteDistribution', 0), (220, 'DiscreteDistribution', 0), (221, 'DiscreteDistribution', -1), (222, 'DiscreteDistribution', -1), (223, 'DiscreteDistribution', 0), (223, 'DiscreteDistribution', 0), (223, 'DiscreteDistribution', 0), (224, 'DiscreteDistribution', 0), (224, 'DiscreteDistribution', 0), (224, 'DiscreteDistribution', 0), (225, 'DiscreteDistribution', 1), (226, 'DiscreteDistribution', -1), (227, 'DiscreteDistribution', -1), (228, 'DiscreteDistribution', 0), (228, 'DiscreteDistribution', 0), (228, 'DiscreteDistribution', 0), (229, 'DiscreteDistribution', 0), (229, 'DiscreteDistribution', 0), (229, 'DiscreteDistribution', 0), (230, 'DiscreteDistribution', 0), (230, 'DiscreteDistribution', 0), (230, 'DiscreteDistribution', 0), (231, 'DiscreteDistribution', -1), (232, 'DiscreteDistribution', -1), (233, 'DiscreteDistribution', 1), (234, 'DiscreteDistribution', -1), (235, 'DiscreteDistribution', -1), (236, 'DiscreteDistribution', -1), (237, 'DiscreteDistribution', -1), (238, 'DiscreteDistribution', 0), (238, 'DiscreteDistribution', 0), (238, 'DiscreteDistribution', 0), (239, 'DiscreteDistribution', -1), (240, 'DiscreteDistribution', 0), (240, 'DiscreteDistribution', 0), (240, 'DiscreteDistribution', 0), (241, 'DiscreteDistribution', -1), (242, 'DiscreteDistribution', -1), (243, 'DiscreteDistribution', -1), (244, 'DiscreteDistribution', -1), (245, 'DiscreteDistribution', -1), (246, 'DiscreteDistribution', 0), (246, 'DiscreteDistribution', 0), (246, 'DiscreteDistribution', 0), (247, 'DiscreteDistribution', 0), (247, 'DiscreteDistribution', 0), (247, 'DiscreteDistribution', 0), (248, 'DiscreteDistribution', 1), (249, 'DiscreteDistribution', 0), (249, 'DiscreteDistribution', 0), (249, 'DiscreteDistribution', 0), (250, 'DiscreteDistribution', 1), (251, 'DiscreteDistribution', 0), (251, 'DiscreteDistribution', 0), (251, 'DiscreteDistribution', 0), (252, 'DiscreteDistribution', -1), (253, 'DiscreteDistribution', -1), (254, 'DiscreteDistribution', 0), (254, 'DiscreteDistribution', 0), (254, 'DiscreteDistribution', 0), (255, 'DiscreteDistribution', 0), (255, 'DiscreteDistribution', 0), (255, 'DiscreteDistribution', 0), (256, 'DiscreteDistribution', -1), (257, 'DiscreteDistribution', 0), (257, 'DiscreteDistribution', 0), (257, 'DiscreteDistribution', 0), (258, 'DiscreteDistribution', -1), (259, 'DiscreteDistribution', 1), (260, 'DiscreteDistribution', 1), (261, 'DiscreteDistribution', -1), (262, 'DiscreteDistribution', -1), (263, 'DiscreteDistribution', -1), (264, 'DiscreteDistribution', -1), (265, 'DiscreteDistribution', 1), (266, 'DiscreteDistribution', -1), (267, 'DiscreteDistribution', -1), (268, 'DiscreteDistribution', 0), (268, 'DiscreteDistribution', 0), (268, 'DiscreteDistribution', 0), (269, 'DiscreteDistribution', -1), (270, 'DiscreteDistribution', 0), (270, 'DiscreteDistribution', 0), (270, 'DiscreteDistribution', 0), (271, 'DiscreteDistribution', -1), (272, 'DiscreteDistribution', -1), (273, 'DiscreteDistribution', 0), (273, 'DiscreteDistribution', 0), (273, 'DiscreteDistribution', 0), (274, 'DiscreteDistribution', 1), (275, 'DiscreteDistribution', 0), (275, 'DiscreteDistribution', 0), (275, 'DiscreteDistribution', 0), (276, 'DiscreteDistribution', -1), (277, 'DiscreteDistribution', -1), (278, 'DiscreteDistribution', 1), (279, 'DiscreteDistribution', -1), (280, 'DiscreteDistribution', -1), (281, 'DiscreteDistribution', -1), (282, 'DiscreteDistribution', 1), (283, 'DiscreteDistribution', -1), (284, 'DiscreteDistribution', 0), (284, 'DiscreteDistribution', 0), (284, 'DiscreteDistribution', 0), (285, 'DiscreteDistribution', -1), (286, 'DiscreteDistribution', -1), (287, 'DiscreteDistribution', -1), (288, 'DiscreteDistribution', 1), (289, 'DiscreteDistribution', 0), (289, 'DiscreteDistribution', 0), (289, 'DiscreteDistribution', 0), (290, 'DiscreteDistribution', -1), (291, 'DiscreteDistribution', -1), (292, 'DiscreteDistribution', 1), (293, 'DiscreteDistribution', 0), (293, 'DiscreteDistribution', 0), (293, 'DiscreteDistribution', 0), (294, 'DiscreteDistribution', 1), (295, 'DiscreteDistribution', 1), (296, 'DiscreteDistribution', 1), (297, 'DiscreteDistribution', -1), (298, 'DiscreteDistribution', 0), (298, 'DiscreteDistribution', 0), (298, 'DiscreteDistribution', 0), (299, 'DiscreteDistribution', 0), (299, 'DiscreteDistribution', 0), (299, 'DiscreteDistribution', 0), (300, 'DiscreteDistribution', -1), (301, 'DiscreteDistribution', -1), (302, 'DiscreteDistribution', 0), (302, 'DiscreteDistribution', 0), (302, 'DiscreteDistribution', 0), (303, 'DiscreteDistribution', 1), (304, 'DiscreteDistribution', 1), (305, 'DiscreteDistribution', 1), (306, 'DiscreteDistribution', 1), (307, 'DiscreteDistribution', -1), (308, 'DiscreteDistribution', -1), (309, 'DiscreteDistribution', 0), (309, 'DiscreteDistribution', 0), (309, 'DiscreteDistribution', 0), (310, 'DiscreteDistribution', 0), (310, 'DiscreteDistribution', 0), (310, 'DiscreteDistribution', 0), (311, 'DiscreteDistribution', 0), (311, 'DiscreteDistribution', 0), (311, 'DiscreteDistribution', 0), (312, 'DiscreteDistribution', -1), (313, 'DiscreteDistribution', 0), (313, 'DiscreteDistribution', 0), (313, 'DiscreteDistribution', 0), (314, 'DiscreteDistribution', 1), (315, 'DiscreteDistribution', 0), (315, 'DiscreteDistribution', 0), (315, 'DiscreteDistribution', 0), (316, 'DiscreteDistribution', 0), (316, 'DiscreteDistribution', 0), (316, 'DiscreteDistribution', 0), (317, 'DiscreteDistribution', -1), (318, 'DiscreteDistribution', 0), (318, 'DiscreteDistribution', 0), (318, 'DiscreteDistribution', 0), (319, 'DiscreteDistribution', 1), (320, 'DiscreteDistribution', -1), (321, 'DiscreteDistribution', 1), (322, 'DiscreteDistribution', 1), (323, 'DiscreteDistribution', -1), (324, 'DiscreteDistribution', -1), (325, 'DiscreteDistribution', -1), (326, 'DiscreteDistribution', -1), (327, 'DiscreteDistribution', 0), (327, 'DiscreteDistribution', 0), (327, 'DiscreteDistribution', 0), (328, 'DiscreteDistribution', 1), (329, 'DiscreteDistribution', -1), (330, 'DiscreteDistribution', -1), (331, 'DiscreteDistribution', -1), (332, 'DiscreteDistribution', -1), (333, 'DiscreteDistribution', 0), (333, 'DiscreteDistribution', 0), (333, 'DiscreteDistribution', 0), (334, 'DiscreteDistribution', -1), (335, 'DiscreteDistribution', 1), (336, 'DiscreteDistribution', 0), (336, 'DiscreteDistribution', 0), (336, 'DiscreteDistribution', 0), (337, 'DiscreteDistribution', -1), (338, 'DiscreteDistribution', 0), (338, 'DiscreteDistribution', 0), (338, 'DiscreteDistribution', 0), (339, 'DiscreteDistribution', 0), (339, 'DiscreteDistribution', 0), (339, 'DiscreteDistribution', 0), (340, 'DiscreteDistribution', 1), (341, 'DiscreteDistribution', -1), (342, 'DiscreteDistribution', -1), (343, 'DiscreteDistribution', 0), (343, 'DiscreteDistribution', 0), (343, 'DiscreteDistribution', 0), (344, 'DiscreteDistribution', -1), (345, 'DiscreteDistribution', -1), (346, 'DiscreteDistribution', 1), (347, 'DiscreteDistribution', 0), (347, 'DiscreteDistribution', 0), (347, 'DiscreteDistribution', 0), (348, 'DiscreteDistribution', 1), (349, 'DiscreteDistribution', -1), (350, 'DiscreteDistribution', -1), (351, 'DiscreteDistribution', 1), (352, 'DiscreteDistribution', -1), (353, 'DiscreteDistribution', 0), (353, 'DiscreteDistribution', 0), (353, 'DiscreteDistribution', 0), (354, 'DiscreteDistribution', -1), (355, 'DiscreteDistribution', -1), (356, 'DiscreteDistribution', -1), (357, 'DiscreteDistribution', -1), (358, 'DiscreteDistribution', -1), (359, 'DiscreteDistribution', 0), (359, 'DiscreteDistribution', 0), (359, 'DiscreteDistribution', 0), (360, 'DiscreteDistribution', -1), (361, 'DiscreteDistribution', 1), (362, 'DiscreteDistribution', -1), (363, 'DiscreteDistribution', -1), (364, 'DiscreteDistribution', 1), (365, 'DiscreteDistribution', 1), (366, 'DiscreteDistribution', -1), (367, 'DiscreteDistribution', 0), (367, 'DiscreteDistribution', 0), (367, 'DiscreteDistribution', 0), (368, 'DiscreteDistribution', 1), (369, 'DiscreteDistribution', -1), (370, 'DiscreteDistribution', -1), (371, 'DiscreteDistribution', 0), (371, 'DiscreteDistribution', 0), (371, 'DiscreteDistribution', 0), (372, 'DiscreteDistribution', 0), (372, 'DiscreteDistribution', 0), (372, 'DiscreteDistribution', 0), (373, 'DiscreteDistribution', -1), (374, 'DiscreteDistribution', 0), (374, 'DiscreteDistribution', 0), (374, 'DiscreteDistribution', 0), (375, 'DiscreteDistribution', 1), (376, 'DiscreteDistribution', 1), (377, 'DiscreteDistribution', -1), (378, 'DiscreteDistribution', 0), (378, 'DiscreteDistribution', 0), (378, 'DiscreteDistribution', 0), (379, 'DiscreteDistribution', -1), (380, 'DiscreteDistribution', 1), (381, 'DiscreteDistribution', 1), (382, 'DiscreteDistribution', -1), (383, 'DiscreteDistribution', -1), (384, 'DiscreteDistribution', 1), (385, 'DiscreteDistribution', 1), (386, 'DiscreteDistribution', -1), (387, 'DiscreteDistribution', 1), (388, 'DiscreteDistribution', 0), (388, 'DiscreteDistribution', 0), (388, 'DiscreteDistribution', 0), (389, 'DiscreteDistribution', -1), (390, 'DiscreteDistribution', -1), (391, 'DiscreteDistribution', -1), (392, 'DiscreteDistribution', -1), (393, 'DiscreteDistribution', -1), (394, 'DiscreteDistribution', 0), (394, 'DiscreteDistribution', 0), (394, 'DiscreteDistribution', 0), (395, 'DiscreteDistribution', 0), (395, 'DiscreteDistribution', 0), (395, 'DiscreteDistribution', 0), (396, 'DiscreteDistribution', -1), (397, 'DiscreteDistribution', 0), (397, 'DiscreteDistribution', 0), (397, 'DiscreteDistribution', 0), (398, 'DiscreteDistribution', -1), (399, 'DiscreteDistribution', 1), (400, 'DiscreteDistribution', -1), (401, 'DiscreteDistribution', -1), (402, 'DiscreteDistribution', -1)]"
       ]
      }
     ], 
     "prompt_number": 13
    }
   ]
  }
 ]
}