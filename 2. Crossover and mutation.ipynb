{
 "metadata": {
  "name": "2. Crossover and mutation"
 },
 "nbformat": 3,
 "worksheets": [
  {
   "cells": [
    {
     "cell_type": "markdown",
     "source": [
      "Crossover and mutation",
      "======================",
      "In this notebook, we demonstrate the use of the solegene module, and the crossover and mutation",
      "of traits and individuals."
     ]
    },
    {
     "cell_type": "code",
     "collapsed": false,
     "input": [
      "import traits.Pioneering",
      "import traits.DiscreteDistribution",
      "",
      "P1 = traits.Pioneering.Pioneering()",
      "P1.N_rounds = 15",
      "",
      "P2 = traits.Pioneering.Pioneering()",
      "P2.N_rounds = 5",
      "",
      "P3 = P1+P2     # Perform crossover of the two traits",
      "print(P3.N_rounds)"
     ],
     "language": "python",
     "outputs": [
      {
       "output_type": "stream",
       "stream": "stdout",
       "text": [
        "9"
       ]
      }
     ],
     "prompt_number": 1
    },
    {
     "cell_type": "code",
     "collapsed": false,
     "input": [
      "P4 = +P3",
      "print(P4.N_rounds)"
     ],
     "language": "python",
     "outputs": [
      {
       "output_type": "stream",
       "stream": "stdout",
       "text": [
        "10"
       ]
      }
     ],
     "prompt_number": 2
    },
    {
     "cell_type": "code",
     "collapsed": false,
     "input": [
      "S = P4.render_move()",
      "print(S)"
     ],
     "language": "python",
     "outputs": [
      {
       "output_type": "stream",
       "stream": "stdout",
       "text": [
        "",
        "        if roundsAlive == 0:",
        "            return (OBSERVE, )",
        "        else:",
        "            return (INNOVATE, )",
        ""
       ]
      }
     ],
     "prompt_number": 3
    },
    {
     "cell_type": "code",
     "collapsed": false,
     "input": [
      "S = P4.render_done()",
      "print(S)"
     ],
     "language": "python",
     "outputs": [
      {
       "output_type": "stream",
       "stream": "stdout",
       "text": [
        "",
        "        assert entryRound == 0",
        "        # Exit condition 1: The agent is a pioneer, and N_rounds rounds have elapsed",
        "        if (roundsAlive >= 10) and (historyActs[0] == -1):",
        "            return (1,10)",
        "        # Exit condition 2: We've tested, and the agent is not a pioneer",
        "        elif (len(historyActs) > 0) and (historyActs[0] > -1):",
        "            return (1,roundsAlive)",
        "        # Otherwise, remain in the current state",
        "        else:",
        "            return 0",
        ""
       ]
      }
     ],
     "prompt_number": 4
    },
    {
     "cell_type": "code",
     "collapsed": false,
     "input": [
      "D1 = traits.DiscreteDistribution.DiscreteDistribution()",
      "D1.Pi = 0.1",
      "D1.Po = 0.2",
      "D1.Pe = 0.3",
      "D1.Pr = 0.4",
      "",
      "D2 = traits.DiscreteDistribution.DiscreteDistribution()",
      "D2.Pi = 0.4",
      "D2.Po = 0.25",
      "D2.Pe = 0.15",
      "D2.Pr = 0.1",
      "",
      "D3 = D1+D2     # Perform crossover of the two traits",
      "print(D3.Pi, D3.Po, D3.Pe, D3.Pr)"
     ],
     "language": "python",
     "outputs": [
      {
       "output_type": "stream",
       "stream": "stdout",
       "text": [
        "(0.17947225411726075, 0.23854124718521877, 0.13587735429958858, 0.1582449095226585)"
       ]
      }
     ],
     "prompt_number": 5
    },
    {
     "cell_type": "code",
     "collapsed": false,
     "input": [
      "D4 = +D3",
      "print(D4.Pi, D4.Po, D4.Pe, D4.Pr)"
     ],
     "language": "python",
     "outputs": [
      {
       "output_type": "stream",
       "stream": "stdout",
       "text": [
        "(0.17947225411726075, 0.23854124718521877, 0.13587735429958858, 0.9998747868712068)"
       ]
      }
     ],
     "prompt_number": 6
    },
    {
     "cell_type": "code",
     "collapsed": true,
     "input": [
      "S = D4.render_move()",
      "# print(S)"
     ],
     "language": "python",
     "outputs": [],
     "prompt_number": 7
    },
    {
     "cell_type": "code",
     "collapsed": true,
     "input": [
      "S = D4.render_done()",
      "# print(S)"
     ],
     "language": "python",
     "outputs": [],
     "prompt_number": 8
    },
    {
     "cell_type": "code",
     "collapsed": true,
     "input": [
      "import solegene",
      "reload(solegene)",
      "",
      "G = solegene.Genome()",
      "G.state = [('Pioneering', ['DiscreteDistribution']),",
      "           ('DiscreteDistribution', [])]",
      "G.traits['Pioneering'] = P4",
      "G.traits['DiscreteDistribution'] = D4",
      "",
      "code = G.render(debug = True)",
      "",
      "# print code"
     ],
     "language": "python",
     "outputs": [],
     "prompt_number": 9
    },
    {
     "cell_type": "markdown",
     "source": [
      "This is a simple example of how the logging decorator works:"
     ]
    },
    {
     "cell_type": "code",
     "collapsed": false,
     "input": [
      "class D(object):",
      "    ",
      "    def __init__(self, f):",
      "        self.f = f",
      "        self.log = []",
      "        ",
      "    def __call__(self, *args):",
      "        result = self.f(*args)",
      "        self.log.append(result)",
      "        return result",
      "",
      "@D",
      "def square(x):",
      "    return x*x",
      "",
      "print square(1)",
      "print square(2)",
      "print square(3)",
      "",
      "if hasattr(square,'log'):",
      "    print square.log"
     ],
     "language": "python",
     "outputs": [
      {
       "output_type": "stream",
       "stream": "stdout",
       "text": [
        "1",
        "4",
        "9",
        "[1, 4, 9]"
       ]
      }
     ],
     "prompt_number": 10
    },
    {
     "cell_type": "markdown",
     "source": [
      "In the next test, we do a full simulation of the rendered code, and analyse its state traces. The first short simulation investigates a typical individual that's part of the population's first generation. It should notice that no-one is exploiting in the first round, and then innovate for a number of rounds."
     ]
    },
    {
     "cell_type": "code",
     "collapsed": false,
     "input": [
      "import md5",
      "import simulate",
      "",
      "agent_hash = md5.md5(code)",
      "agent_name = 'agent_' + agent_hash.hexdigest()",
      "agent_path = 'agents/rendered/' + agent_name + '.py'",
      "print(\"Simulating %s...\" % agent_name)",
      "",
      "f = open(agent_path, 'w')",
      "f.write(code)",
      "f.close()",
      "",
      "agent = __import__('agents.rendered.'+agent_name, fromlist=['*'])",
      "simulate.agent = agent",
      "simulation = simulate.Simulate(N_rounds=20)",
      "simulation.run()",
      "",
      "print(zip(simulation.demes[0].population[0].historyRounds, simulation.demes[0].population[0].historyStates, simulation.demes[0].population[0].historyMoves))"
     ],
     "language": "python",
     "outputs": [
      {
       "output_type": "stream",
       "stream": "stdout",
       "text": [
        "Simulating agent_2b70c53d5b2aeb8844a765cea823d518...",
        "[(1, 'Pioneering', 0), (1, 'Pioneering', 0), (1, 'Pioneering', 0), (2, 'Pioneering', -1), (3, 'Pioneering', -1), (4, 'Pioneering', -1), (5, 'Pioneering', -1), (6, 'Pioneering', -1), (7, 'Pioneering', -1), (8, 'Pioneering', -1), (9, 'Pioneering', -1), (10, 'Pioneering', -1), (11, 'DiscreteDistribution', 1), (12, 'DiscreteDistribution', 0), (12, 'DiscreteDistribution', 0), (12, 'DiscreteDistribution', 0), (13, 'DiscreteDistribution', -1), (14, 'DiscreteDistribution', -1), (15, 'DiscreteDistribution', 1), (16, 'DiscreteDistribution', 1), (17, 'DiscreteDistribution', 0), (17, 'DiscreteDistribution', 0), (17, 'DiscreteDistribution', 0), (18, 'DiscreteDistribution', 0), (18, 'DiscreteDistribution', 0), (18, 'DiscreteDistribution', 0), (19, 'DiscreteDistribution', -1), (20, 'DiscreteDistribution', 1)]"
       ]
      },
      {
       "output_type": "stream",
       "stream": "stdout",
       "text": [
        ""
       ]
      }
     ],
     "prompt_number": 11
    },
    {
     "cell_type": "markdown",
     "source": [
      "The next simulation is long enough that the entire first generation of individuals would have died off; the sampled individual should have a single round in the 'Pioneering' state to observe its peers, and then move into 'DiscreteDistribution' for the rest of its life."
     ]
    },
    {
     "cell_type": "code",
     "collapsed": false,
     "input": [
      "simulation = simulate.Simulate(N_rounds=1000)",
      "simulation.run()",
      "",
      "print(zip(simulation.demes[0].population[0].historyRounds, simulation.demes[0].population[0].historyStates, simulation.demes[0].population[0].historyMoves))"
     ],
     "language": "python",
     "outputs": [
      {
       "output_type": "stream",
       "stream": "stdout",
       "text": [
        "[(1, 'Pioneering', 0), (1, 'Pioneering', 0), (1, 'Pioneering', 0), (2, 'DiscreteDistribution', 0), (2, 'DiscreteDistribution', 0), (2, 'DiscreteDistribution', 0), (3, 'DiscreteDistribution', 0), (3, 'DiscreteDistribution', 0), (3, 'DiscreteDistribution', 0), (4, 'DiscreteDistribution', 1), (5, 'DiscreteDistribution', 0), (5, 'DiscreteDistribution', 0), (5, 'DiscreteDistribution', 0), (6, 'DiscreteDistribution', 0), (6, 'DiscreteDistribution', 0), (6, 'DiscreteDistribution', 0), (7, 'DiscreteDistribution', -1), (8, 'DiscreteDistribution', 0), (8, 'DiscreteDistribution', 0), (8, 'DiscreteDistribution', 0), (9, 'DiscreteDistribution', 1), (10, 'DiscreteDistribution', -1), (11, 'DiscreteDistribution', -1), (12, 'DiscreteDistribution', 1), (13, 'DiscreteDistribution', 1), (14, 'DiscreteDistribution', 1), (15, 'DiscreteDistribution', 1), (16, 'DiscreteDistribution', 1), (17, 'DiscreteDistribution', 1), (18, 'DiscreteDistribution', 1), (19, 'DiscreteDistribution', 1), (20, 'DiscreteDistribution', 1), (21, 'DiscreteDistribution', -1), (22, 'DiscreteDistribution', 0), (22, 'DiscreteDistribution', 0), (22, 'DiscreteDistribution', 0), (23, 'DiscreteDistribution', 0), (23, 'DiscreteDistribution', 0), (23, 'DiscreteDistribution', 0), (24, 'DiscreteDistribution', 1), (25, 'DiscreteDistribution', 0), (25, 'DiscreteDistribution', 0), (25, 'DiscreteDistribution', 0), (26, 'DiscreteDistribution', -1), (27, 'DiscreteDistribution', 1), (28, 'DiscreteDistribution', 0), (28, 'DiscreteDistribution', 0), (28, 'DiscreteDistribution', 0), (29, 'DiscreteDistribution', 1), (30, 'DiscreteDistribution', 0), (30, 'DiscreteDistribution', 0), (30, 'DiscreteDistribution', 0), (31, 'DiscreteDistribution', 0), (31, 'DiscreteDistribution', 0), (31, 'DiscreteDistribution', 0), (32, 'DiscreteDistribution', -1), (33, 'DiscreteDistribution', -1), (34, 'DiscreteDistribution', 1), (35, 'DiscreteDistribution', -1), (36, 'DiscreteDistribution', -1), (37, 'DiscreteDistribution', 0), (37, 'DiscreteDistribution', 0), (37, 'DiscreteDistribution', 0), (38, 'DiscreteDistribution', 1), (39, 'DiscreteDistribution', -1), (40, 'DiscreteDistribution', 1), (41, 'DiscreteDistribution', -1), (42, 'DiscreteDistribution', -1), (43, 'DiscreteDistribution', -1), (44, 'DiscreteDistribution', 1), (45, 'DiscreteDistribution', -1), (46, 'DiscreteDistribution', 1), (47, 'DiscreteDistribution', -1), (48, 'DiscreteDistribution', 0), (48, 'DiscreteDistribution', 0), (48, 'DiscreteDistribution', 0), (49, 'DiscreteDistribution', 0), (49, 'DiscreteDistribution', 0), (49, 'DiscreteDistribution', 0), (50, 'DiscreteDistribution', 0), (50, 'DiscreteDistribution', 0), (50, 'DiscreteDistribution', 0), (51, 'DiscreteDistribution', 0), (51, 'DiscreteDistribution', 0), (51, 'DiscreteDistribution', 0), (52, 'DiscreteDistribution', 1), (53, 'DiscreteDistribution', 0), (53, 'DiscreteDistribution', 0), (53, 'DiscreteDistribution', 0), (54, 'DiscreteDistribution', 0), (54, 'DiscreteDistribution', 0), (54, 'DiscreteDistribution', 0), (55, 'DiscreteDistribution', 0), (55, 'DiscreteDistribution', 0), (55, 'DiscreteDistribution', 0), (56, 'DiscreteDistribution', 1), (57, 'DiscreteDistribution', 0), (57, 'DiscreteDistribution', 0), (57, 'DiscreteDistribution', 0), (58, 'DiscreteDistribution', 1), (59, 'DiscreteDistribution', 0), (59, 'DiscreteDistribution', 0), (59, 'DiscreteDistribution', 0), (60, 'DiscreteDistribution', 0), (60, 'DiscreteDistribution', 0), (60, 'DiscreteDistribution', 0), (61, 'DiscreteDistribution', 0), (61, 'DiscreteDistribution', 0), (61, 'DiscreteDistribution', 0), (62, 'DiscreteDistribution', -1), (63, 'DiscreteDistribution', 0), (63, 'DiscreteDistribution', 0), (63, 'DiscreteDistribution', 0), (64, 'DiscreteDistribution', 1), (65, 'DiscreteDistribution', -1), (66, 'DiscreteDistribution', 0), (66, 'DiscreteDistribution', 0), (66, 'DiscreteDistribution', 0), (67, 'DiscreteDistribution', 0), (67, 'DiscreteDistribution', 0), (67, 'DiscreteDistribution', 0), (68, 'DiscreteDistribution', 0), (68, 'DiscreteDistribution', 0), (68, 'DiscreteDistribution', 0), (69, 'DiscreteDistribution', 1), (70, 'DiscreteDistribution', -1), (71, 'DiscreteDistribution', 0), (71, 'DiscreteDistribution', 0), (71, 'DiscreteDistribution', 0), (72, 'DiscreteDistribution', 1), (73, 'DiscreteDistribution', -1), (74, 'DiscreteDistribution', 0), (74, 'DiscreteDistribution', 0), (74, 'DiscreteDistribution', 0), (75, 'DiscreteDistribution', 0), (75, 'DiscreteDistribution', 0), (75, 'DiscreteDistribution', 0), (76, 'DiscreteDistribution', 1), (77, 'DiscreteDistribution', 1), (78, 'DiscreteDistribution', 1), (79, 'DiscreteDistribution', 0), (79, 'DiscreteDistribution', 0), (79, 'DiscreteDistribution', 0), (80, 'DiscreteDistribution', 1), (81, 'DiscreteDistribution', 1), (82, 'DiscreteDistribution', -1), (83, 'DiscreteDistribution', 0), (83, 'DiscreteDistribution', 0), (83, 'DiscreteDistribution', 0), (84, 'DiscreteDistribution', 1), (85, 'DiscreteDistribution', -1), (86, 'DiscreteDistribution', 0), (86, 'DiscreteDistribution', 0), (86, 'DiscreteDistribution', 0), (87, 'DiscreteDistribution', -1), (88, 'DiscreteDistribution', -1), (89, 'DiscreteDistribution', 1), (90, 'DiscreteDistribution', -1), (91, 'DiscreteDistribution', 0), (91, 'DiscreteDistribution', 0), (91, 'DiscreteDistribution', 0), (92, 'DiscreteDistribution', -1), (93, 'DiscreteDistribution', 0), (93, 'DiscreteDistribution', 0), (93, 'DiscreteDistribution', 0), (94, 'DiscreteDistribution', 0), (94, 'DiscreteDistribution', 0), (94, 'DiscreteDistribution', 0), (95, 'DiscreteDistribution', 1), (96, 'DiscreteDistribution', -1), (97, 'DiscreteDistribution', -1), (98, 'DiscreteDistribution', 0), (98, 'DiscreteDistribution', 0), (98, 'DiscreteDistribution', 0), (99, 'DiscreteDistribution', -1), (100, 'DiscreteDistribution', 0), (100, 'DiscreteDistribution', 0), (100, 'DiscreteDistribution', 0), (101, 'DiscreteDistribution', 0), (101, 'DiscreteDistribution', 0), (101, 'DiscreteDistribution', 0), (102, 'DiscreteDistribution', -1), (103, 'DiscreteDistribution', 1), (104, 'DiscreteDistribution', 1), (105, 'DiscreteDistribution', 1), (106, 'DiscreteDistribution', -1), (107, 'DiscreteDistribution', 0), (107, 'DiscreteDistribution', 0), (107, 'DiscreteDistribution', 0), (108, 'DiscreteDistribution', -1), (109, 'DiscreteDistribution', 0), (109, 'DiscreteDistribution', 0), (109, 'DiscreteDistribution', 0), (110, 'DiscreteDistribution', 0), (110, 'DiscreteDistribution', 0), (110, 'DiscreteDistribution', 0), (111, 'DiscreteDistribution', 0), (111, 'DiscreteDistribution', 0), (111, 'DiscreteDistribution', 0), (112, 'DiscreteDistribution', 0), (112, 'DiscreteDistribution', 0), (112, 'DiscreteDistribution', 0), (113, 'DiscreteDistribution', 1), (114, 'DiscreteDistribution', 0), (114, 'DiscreteDistribution', 0), (114, 'DiscreteDistribution', 0), (115, 'DiscreteDistribution', -1), (116, 'DiscreteDistribution', 0), (116, 'DiscreteDistribution', 0), (116, 'DiscreteDistribution', 0), (117, 'DiscreteDistribution', -1), (118, 'DiscreteDistribution', 0), (118, 'DiscreteDistribution', 0), (118, 'DiscreteDistribution', 0), (119, 'DiscreteDistribution', 1), (120, 'DiscreteDistribution', 1), (121, 'DiscreteDistribution', 1), (122, 'DiscreteDistribution', 0), (122, 'DiscreteDistribution', 0), (122, 'DiscreteDistribution', 0), (123, 'DiscreteDistribution', -1), (124, 'DiscreteDistribution', -1), (125, 'DiscreteDistribution', 1), (126, 'DiscreteDistribution', -1), (127, 'DiscreteDistribution', 0), (127, 'DiscreteDistribution', 0), (127, 'DiscreteDistribution', 0), (128, 'DiscreteDistribution', 1), (129, 'DiscreteDistribution', 0), (129, 'DiscreteDistribution', 0), (129, 'DiscreteDistribution', 0), (130, 'DiscreteDistribution', -1), (131, 'DiscreteDistribution', 0), (131, 'DiscreteDistribution', 0), (131, 'DiscreteDistribution', 0), (132, 'DiscreteDistribution', 1), (133, 'DiscreteDistribution', 1), (134, 'DiscreteDistribution', 1), (135, 'DiscreteDistribution', 0), (135, 'DiscreteDistribution', 0), (135, 'DiscreteDistribution', 0), (136, 'DiscreteDistribution', 0), (136, 'DiscreteDistribution', 0), (136, 'DiscreteDistribution', 0), (137, 'DiscreteDistribution', -1), (138, 'DiscreteDistribution', 1), (139, 'DiscreteDistribution', 0), (139, 'DiscreteDistribution', 0), (139, 'DiscreteDistribution', 0), (140, 'DiscreteDistribution', 0), (140, 'DiscreteDistribution', 0), (140, 'DiscreteDistribution', 0), (141, 'DiscreteDistribution', 0), (141, 'DiscreteDistribution', 0), (141, 'DiscreteDistribution', 0), (142, 'DiscreteDistribution', 1), (143, 'DiscreteDistribution', 0), (143, 'DiscreteDistribution', 0), (143, 'DiscreteDistribution', 0), (144, 'DiscreteDistribution', 0), (144, 'DiscreteDistribution', 0), (144, 'DiscreteDistribution', 0), (145, 'DiscreteDistribution', -1), (146, 'DiscreteDistribution', 0), (146, 'DiscreteDistribution', 0), (146, 'DiscreteDistribution', 0), (147, 'DiscreteDistribution', -1), (148, 'DiscreteDistribution', 0), (148, 'DiscreteDistribution', 0), (148, 'DiscreteDistribution', 0), (149, 'DiscreteDistribution', -1), (150, 'DiscreteDistribution', 0), (150, 'DiscreteDistribution', 0), (150, 'DiscreteDistribution', 0), (151, 'DiscreteDistribution', -1), (152, 'DiscreteDistribution', 0), (152, 'DiscreteDistribution', 0), (152, 'DiscreteDistribution', 0), (153, 'DiscreteDistribution', 0), (153, 'DiscreteDistribution', 0), (153, 'DiscreteDistribution', 0), (154, 'DiscreteDistribution', 0), (154, 'DiscreteDistribution', 0), (154, 'DiscreteDistribution', 0), (155, 'DiscreteDistribution', -1), (156, 'DiscreteDistribution', -1), (157, 'DiscreteDistribution', 0), (157, 'DiscreteDistribution', 0), (157, 'DiscreteDistribution', 0), (158, 'DiscreteDistribution', -1), (159, 'DiscreteDistribution', 0), (159, 'DiscreteDistribution', 0), (159, 'DiscreteDistribution', 0), (160, 'DiscreteDistribution', -1), (161, 'DiscreteDistribution', -1), (162, 'DiscreteDistribution', 1), (163, 'DiscreteDistribution', 1), (164, 'DiscreteDistribution', 1), (165, 'DiscreteDistribution', -1), (166, 'DiscreteDistribution', 1), (167, 'DiscreteDistribution', 1), (168, 'DiscreteDistribution', 0), (168, 'DiscreteDistribution', 0), (168, 'DiscreteDistribution', 0), (169, 'DiscreteDistribution', -1), (170, 'DiscreteDistribution', 0), (170, 'DiscreteDistribution', 0), (170, 'DiscreteDistribution', 0)]"
       ]
      }
     ],
     "prompt_number": 12
    },
    {
     "cell_type": "markdown",
     "source": [
      "In the next example, we set up a more involved state graph. This agent will use the PioneeringBi trait to determine whether it's in the",
      "first generation, and based on the outcome, will split up into two instances of Specialisation (Specialisation and SpecialisationB).",
      "Each can then split into any of four possible DiscreteDistribution states."
     ]
    },
    {
     "cell_type": "code",
     "collapsed": false,
     "input": [
      "import networkx as nwx",
      "",
      "G = solegene.Genome()",
      "",
      "G.traits['PioneeringBi'] = traits.PioneeringBi.PioneeringBi()",
      "G.traits['PioneeringBi'].N_rounds = 3",
      "",
      "G.traits['Specialisation'] = traits.Specialisation.Specialisation()",
      "G.traits['SpecialisationB'] = traits.SpecialisationB.SpecialisationB()",
      "",
      "G.traits['DiscreteDistribution'] = traits.DiscreteDistribution.DiscreteDistribution()",
      "G.traits['DiscreteDistributionB'] = traits.DiscreteDistributionB.DiscreteDistributionB()",
      "G.traits['DiscreteDistributionC'] = traits.DiscreteDistributionC.DiscreteDistributionC()",
      "G.traits['DiscreteDistributionD'] = traits.DiscreteDistributionD.DiscreteDistributionD()",
      "G.traits['DiscreteDistributionE'] = traits.DiscreteDistributionE.DiscreteDistributionE()",
      "G.traits['DiscreteDistributionF'] = traits.DiscreteDistributionF.DiscreteDistributionF()",
      "G.traits['DiscreteDistributionG'] = traits.DiscreteDistributionG.DiscreteDistributionG()",
      "G.traits['DiscreteDistributionH'] = traits.DiscreteDistributionH.DiscreteDistributionH()",
      "",
      "G.state = [('PioneeringBi', ['Specialisation', 'SpecialisationB']),",
      "           ('Specialisation', ['DiscreteDistribution','DiscreteDistributionB','DiscreteDistributionC','DiscreteDistributionD']),",
      "           ('SpecialisationB', ['DiscreteDistributionE','DiscreteDistributionF','DiscreteDistributionG','DiscreteDistributionH']),",
      "           ('DiscreteDistribution', []),",
      "           ('DiscreteDistributionB', []),",
      "           ('DiscreteDistributionC', []),",
      "           ('DiscreteDistributionD', []),",
      "           ('DiscreteDistributionE', []),",
      "           ('DiscreteDistributionF', []),",
      "           ('DiscreteDistributionG', []),",
      "           ('DiscreteDistributionH', []),",
      "          ]",
      "",
      "graph = G.render_state()",
      "nwx.draw(nwx.from_agraph(graph))"
     ],
     "language": "python",
     "outputs": [
      {
       "output_type": "display_data",
       "png": "[encoded data removed]"
      }
     ],
     "prompt_number": 14
    },
    {
     "cell_type": "code",
     "collapsed": false,
     "input": [
      "code = G.render(debug = True)",
      "agent_hash = md5.md5(code)",
      "agent_name = 'agent_' + agent_hash.hexdigest()",
      "agent_path = 'agents/rendered/' + agent_name + '.py'",
      "print(\"Simulating %s...\" % agent_name)",
      "",
      "f = open(agent_path, 'w')",
      "f.write(code)",
      "f.close()",
      "",
      "agent = __import__('agents.rendered.'+agent_name, fromlist=['*'])",
      "simulate.agent = agent",
      "simulation = simulate.Simulate(N_rounds=20)",
      "simulation.run()",
      "",
      "print(zip(simulation.demes[0].population[0].historyRounds, simulation.demes[0].population[0].historyStates, simulation.demes[0].population[0].historyMoves))"
     ],
     "language": "python",
     "outputs": []
    },
    {
     "cell_type": "markdown",
     "source": [
      "The next simulation is long enough that the entire first generation of individuals would have died off; the sampled individual should have a single round in the 'Pioneering' state to observe its peers, and then move into 'SpecialisationB' and an appropriate 'DiscreteDistribution'."
     ]
    },
    {
     "cell_type": "code",
     "collapsed": false,
     "input": [
      "simulation = simulate.Simulate(N_rounds=1000)",
      "simulation.run()",
      "",
      "print(zip(simulation.demes[0].population[0].historyRounds, simulation.demes[0].population[0].historyStates, simulation.demes[0].population[0].historyMoves))"
     ],
     "language": "python",
     "outputs": []
    },
    {
     "cell_type": "markdown",
     "source": [
      "Genome mutation",
      "---------------"
     ]
    },
    {
     "cell_type": "code",
     "collapsed": false,
     "input": [
      "reload(solegene)",
      "import exemplars",
      "import fancygraph; reload(fancygraph)",
      "",
      "G = solegene.Genome()",
      "(self_traits, state) = exemplars.BifurcateDiscrete()",
      "G.traits.update(self_traits)",
      "G.state = state"
     ],
     "language": "python",
     "outputs": []
    },
    {
     "cell_type": "markdown",
     "source": [
      "The original genome's state graph looks like this:"
     ]
    },
    {
     "cell_type": "code",
     "collapsed": false,
     "input": [
      "fancygraph.draw_network(G.render_state())"
     ],
     "language": "python",
     "outputs": []
    },
    {
     "cell_type": "markdown",
     "source": [
      "After mutation: (rerun to randomly select different types of mutation, including swap, replace, remove",
      "and reroute."
     ]
    },
    {
     "cell_type": "code",
     "collapsed": false,
     "input": [
      "child = +G",
      "fancygraph.draw_network(child.render_state())"
     ],
     "language": "python",
     "outputs": []
    },
    {
     "cell_type": "code",
     "collapsed": true,
     "input": [],
     "language": "python",
     "outputs": []
    }
   ]
  }
 ]
}