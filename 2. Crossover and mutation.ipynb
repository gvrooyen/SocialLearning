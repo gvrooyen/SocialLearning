{
 "metadata": {
  "name": "2. Crossover and mutation"
 }, 
 "nbformat": 2, 
 "worksheets": [
  {
   "cells": [
    {
     "cell_type": "markdown", 
     "source": [
      "Crossover and mutation", 
      "======================", 
      "In this notebook, we demonstrate the use of the solegene module, and the crossover and mutation", 
      "of traits and individuals."
     ]
    }, 
    {
     "cell_type": "code", 
     "collapsed": false, 
     "input": [
      "import traits.Pioneering", 
      "import traits.DiscreteDistribution", 
      "", 
      "P1 = traits.Pioneering.Pioneering()", 
      "P1.N_rounds = 15", 
      "", 
      "P2 = traits.Pioneering.Pioneering()", 
      "P2.N_rounds = 5", 
      "", 
      "P3 = P1+P2     # Perform crossover of the two traits", 
      "print(P3.N_rounds)"
     ], 
     "language": "python", 
     "outputs": [
      {
       "output_type": "stream", 
       "stream": "stdout", 
       "text": [
        "11"
       ]
      }
     ], 
     "prompt_number": 12
    }, 
    {
     "cell_type": "code", 
     "collapsed": false, 
     "input": [
      "P4 = +P3", 
      "print(P4.N_rounds)"
     ], 
     "language": "python", 
     "outputs": [
      {
       "output_type": "stream", 
       "stream": "stdout", 
       "text": [
        "12"
       ]
      }
     ], 
     "prompt_number": 13
    }, 
    {
     "cell_type": "code", 
     "collapsed": false, 
     "input": [
      "S = P4.render_move()", 
      "print(S)"
     ], 
     "language": "python", 
     "outputs": [
      {
       "output_type": "stream", 
       "stream": "stdout", 
       "text": [
        "", 
        "        if roundsAlive == 0:", 
        "            return (OBSERVE, )", 
        "        else:", 
        "            return (INNOVATE, )", 
        ""
       ]
      }
     ], 
     "prompt_number": 14
    }, 
    {
     "cell_type": "code", 
     "collapsed": false, 
     "input": [
      "S = P4.render_done()", 
      "print(S)"
     ], 
     "language": "python", 
     "outputs": [
      {
       "output_type": "stream", 
       "stream": "stdout", 
       "text": [
        "", 
        "        # True if the state has expired, or if other agents were exploiting (i.e., this individual isn't a pioneer)", 
        "        return ((roundsAlive >= 12) or     ", 
        "                ((len(historyActs) > 0) and (historyActs[0] > -1))", 
        "               )                ", 
        ""
       ]
      }
     ], 
     "prompt_number": 15
    }, 
    {
     "cell_type": "code", 
     "collapsed": false, 
     "input": [
      "D1 = traits.DiscreteDistribution.DiscreteDistribution()", 
      "D1.Pi = 0.1", 
      "D1.Po = 0.2", 
      "D1.Pe = 0.3", 
      "D1.Pr = 0.4", 
      "", 
      "D2 = traits.DiscreteDistribution.DiscreteDistribution()", 
      "D2.Pi = 0.4", 
      "D2.Po = 0.25", 
      "D2.Pe = 0.15", 
      "D2.Pr = 0.1", 
      "", 
      "D3 = D1+D2     # Perform crossover of the two traits", 
      "print(D3.Pi, D3.Po, D3.Pe, D3.Pr)"
     ], 
     "language": "python", 
     "outputs": [
      {
       "output_type": "stream", 
       "stream": "stdout", 
       "text": [
        "(0.2029558797590894, 0.21249494961024532, 0.18099175440932053, 0.21668029914765832)"
       ]
      }
     ], 
     "prompt_number": 16
    }, 
    {
     "cell_type": "code", 
     "collapsed": false, 
     "input": [
      "D4 = +D3", 
      "print(D4.Pi, D4.Po, D4.Pe, D4.Pr)"
     ], 
     "language": "python", 
     "outputs": [
      {
       "output_type": "stream", 
       "stream": "stdout", 
       "text": [
        "(0.2029558797590894, 0.21249494961024532, 0.6857714961614549, 0.21668029914765832)"
       ]
      }
     ], 
     "prompt_number": 17
    }, 
    {
     "cell_type": "code", 
     "collapsed": false, 
     "input": [
      "S = D4.render_move()", 
      "print(S)"
     ], 
     "language": "python", 
     "outputs": [
      {
       "output_type": "stream", 
       "stream": "stdout", 
       "text": [
        "", 
        "        interval = [0.202955879759, 0.21249494961, 0.685771496161, 0.216680299148]", 
        "", 
        "        for i in xrange(1,4):", 
        "            interval[i] = interval[i-1] + interval[i]", 
        "", 
        "        # Normalise the intervals", 
        "        if canPlayRefine:", 
        "            interval = [x/interval[-1] for x in interval]", 
        "        else:", 
        "            interval = [x/interval[-2] for x in interval]", 
        "", 
        "        roll = random.random()", 
        "", 
        "        if roll <= interval[0]:", 
        "            return (INNOVATE, )", 
        "        elif roll <= interval[1]:", 
        "            return (OBSERVE, )", 
        "        elif roll <= interval[2]:", 
        "            return (EXPLOIT, max(repertoire, key=repertoire.get))", 
        "        elif (roll <= interval[3]) and canPlayRefine:   # Add the sanity check in case of rounding errors", 
        "            return (REFINE, max(repertoire, key=repertoire.get))", 
        "        else:", 
        "            # Catch-all for rounding errors", 
        "            return (EXPLOIT, max(repertoire, key=repertoire.get))", 
        ""
       ]
      }
     ], 
     "prompt_number": 18
    }, 
    {
     "cell_type": "code", 
     "collapsed": false, 
     "input": [
      "S = D4.render_done()", 
      "print(S)"
     ], 
     "language": "python", 
     "outputs": [
      {
       "output_type": "stream", 
       "stream": "stdout", 
       "text": [
        "", 
        "        return False    # Terminal trait", 
        ""
       ]
      }
     ], 
     "prompt_number": 19
    }, 
    {
     "cell_type": "code", 
     "collapsed": false, 
     "input": [
      "import solegene", 
      "reload(solegene)", 
      "", 
      "G = solegene.Genome()", 
      "G.state = [('Pioneering', ['DiscreteDistribution']),", 
      "           ('DiscreteDistribution', [])]", 
      "G.traits['Pioneering'] = P4", 
      "G.traits['DiscreteDistribution'] = D4", 
      "", 
      "code = G.render(debug = True)", 
      "", 
      "print code"
     ], 
     "language": "python", 
     "outputs": [
      {
       "output_type": "stream", 
       "stream": "stdout", 
       "text": [
        "#!/usr/bin/python", 
        "# -*- coding: utf-8 -*-", 
        "# Automatically rendered agent code", 
        "", 
        "from moves import *", 
        "import math", 
        "", 
        "last_state = None", 
        "last_state_matrix = None", 
        "", 
        "", 
        "def move(", 
        "    roundsAlive,", 
        "    repertoire,", 
        "    historyRounds,", 
        "    historyMoves,", 
        "    historyActs,", 
        "    historyPayoffs,", 
        "    historyDemes,", 
        "    currentDeme,", 
        "    canChooseModel,", 
        "    canPlayRefine,", 
        "    multipleDemes,", 
        "    ):", 
        "", 
        "    def Pioneering_done():", 
        "", 
        "        # True if the state has expired, or if other agents were exploiting (i.e., this individual isn't a pioneer)", 
        "", 
        "        return roundsAlive >= 12 or len(historyActs) > 0 \\", 
        "            and historyActs[0] > -1", 
        "", 
        "    def DiscreteDistribution_done():", 
        "", 
        "        return False  # Terminal trait", 
        "", 
        "    state_matrix = []", 
        "", 
        "    s = Pioneering_done()", 
        "    if s == 0:", 
        "        state_matrix.append(('Pioneering', None))", 
        "    else:", 
        "        state_matrix.append(('Pioneering', 1))", 
        "", 
        "    state_matrix.append(('DiscreteDistribution', None))", 
        "", 
        "    state_idx = 0", 
        "    state_found = False", 
        "", 
        "    while not state_found:", 
        "        state_found = state_matrix[state_idx][1] == None", 
        "        if not state_found:", 
        "            state_idx = state_matrix[state_idx][1]", 
        "", 
        "    state = state_matrix[state_idx][0]", 
        "", 
        "    global last_state, last_state_matrix", 
        "", 
        "    last_state = state", 
        "", 
        "    last_state_matrix = state_matrix", 
        "", 
        "    if state == 'Pioneering':", 
        "", 
        "        if roundsAlive == 0:", 
        "            return (OBSERVE, )", 
        "        else:", 
        "            return (INNOVATE, )", 
        "    elif state == 'DiscreteDistribution':", 
        "", 
        "        interval = [0.202955879759, 0.21249494961, 0.685771496161,", 
        "                    0.216680299148]", 
        "", 
        "        for i in xrange(1, 4):", 
        "            interval[i] = interval[i - 1] + interval[i]", 
        "", 
        "        # Normalise the intervals", 
        "", 
        "        if canPlayRefine:", 
        "            interval = [x / interval[-1] for x in interval]", 
        "        else:", 
        "            interval = [x / interval[-2] for x in interval]", 
        "", 
        "        roll = random.random()", 
        "", 
        "        if roll <= interval[0]:", 
        "            return (INNOVATE, )", 
        "        elif roll <= interval[1]:", 
        "            return (OBSERVE, )", 
        "        elif roll <= interval[2]:", 
        "            return (EXPLOIT, max(repertoire, key=repertoire.get))", 
        "        elif roll <= interval[3] and canPlayRefine:", 
        "", 
        "                                                        # Add the sanity check in case of rounding errors", 
        "", 
        "            return (REFINE, max(repertoire, key=repertoire.get))", 
        "        else:", 
        "", 
        "            # Catch-all for rounding errors", 
        "", 
        "            return (EXPLOIT, max(repertoire, key=repertoire.get))", 
        "", 
        "", 
        "def observe_who(exploiterData):", 
        "    random.shuffle(exploiterData)", 
        "    return exploiterData", 
        "", 
        "", 
        ""
       ]
      }
     ], 
     "prompt_number": 20
    }, 
    {
     "cell_type": "markdown", 
     "source": [
      "This is a simple example of how the logging decorator works:"
     ]
    }, 
    {
     "cell_type": "code", 
     "collapsed": false, 
     "input": [
      "class D(object):", 
      "    ", 
      "    def __init__(self, f):", 
      "        self.f = f", 
      "        self.log = []", 
      "        ", 
      "    def __call__(self, *args):", 
      "        result = self.f(*args)", 
      "        self.log.append(result)", 
      "        return result", 
      "", 
      "@D", 
      "def square(x):", 
      "    return x*x", 
      "", 
      "print square(1)", 
      "print square(2)", 
      "print square(3)", 
      "", 
      "if hasattr(square,'log'):", 
      "    print square.log"
     ], 
     "language": "python", 
     "outputs": [
      {
       "output_type": "stream", 
       "stream": "stdout", 
       "text": [
        "1", 
        "4", 
        "9", 
        "[1, 4, 9]"
       ]
      }
     ], 
     "prompt_number": 21
    }, 
    {
     "cell_type": "markdown", 
     "source": [
      "In the next test, we do a full simulation of the rendered code, and analyse its state traces."
     ]
    }, 
    {
     "cell_type": "code", 
     "collapsed": false, 
     "input": [
      "import md5", 
      "import simulate", 
      "", 
      "agent_hash = md5.md5(code)", 
      "agent_name = 'agent_' + agent_hash.hexdigest()", 
      "agent_path = 'agents/rendered/' + agent_name + '.py'", 
      "print(\"Simulating %s...\" % agent_name)", 
      "", 
      "f = open(agent_path, 'w')", 
      "f.write(code)", 
      "f.close()", 
      "", 
      "agent = __import__('agents.rendered.'+agent_name, fromlist=['*'])", 
      "simulate.agent = agent", 
      "simulation = simulate.Simulate(N_rounds=20)", 
      "simulation.run()", 
      "", 
      "print(zip(simulation.demes[0].population[0].historyRounds, simulation.demes[0].population[0].historyStates, simulation.demes[0].population[0].historyMoves))"
     ], 
     "language": "python", 
     "outputs": [
      {
       "output_type": "stream", 
       "stream": "stdout", 
       "text": [
        "Simulating agent_2c780aa582bbb18c5040d384a5be2838...", 
        "[(1, 'Pioneering', 0), (1, 'Pioneering', 0), (1, 'Pioneering', 0), (2, 'Pioneering', -1), (3, 'Pioneering', -1), (4, 'Pioneering', -1), (5, 'Pioneering', -1), (6, 'Pioneering', -1), (7, 'Pioneering', -1), (8, 'Pioneering', -1), (9, 'Pioneering', -1), (10, 'Pioneering', -1), (11, 'Pioneering', -1), (12, 'Pioneering', -1), (13, 'DiscreteDistribution', 1), (14, 'DiscreteDistribution', -1), (15, 'DiscreteDistribution', 1), (16, 'DiscreteDistribution', 1), (17, 'DiscreteDistribution', 1), (18, 'DiscreteDistribution', 1), (19, 'DiscreteDistribution', 1), (20, 'DiscreteDistribution', 1)]"
       ]
      }
     ], 
     "prompt_number": 23
    }
   ]
  }
 ]
}