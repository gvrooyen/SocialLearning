{
 "metadata": {
  "name": "2. Crossover and mutation"
 }, 
 "nbformat": 2, 
 "worksheets": [
  {
   "cells": [
    {
     "cell_type": "markdown", 
     "source": [
      "Crossover and mutation", 
      "======================", 
      "In this notebook, we demonstrate the use of the solegene module, and the crossover and mutation", 
      "of traits and individuals."
     ]
    }, 
    {
     "cell_type": "code", 
     "collapsed": false, 
     "input": [
      "import traits.Pioneering", 
      "import traits.DiscreteDistribution", 
      "", 
      "P1 = traits.Pioneering.Pioneering()", 
      "P1.N_rounds = 15", 
      "", 
      "P2 = traits.Pioneering.Pioneering()", 
      "P2.N_rounds = 5", 
      "", 
      "P3 = P1+P2     # Perform crossover of the two traits", 
      "print(P3.N_rounds)"
     ], 
     "language": "python", 
     "outputs": [
      {
       "output_type": "stream", 
       "stream": "stdout", 
       "text": [
        "8"
       ]
      }
     ], 
     "prompt_number": 14
    }, 
    {
     "cell_type": "code", 
     "collapsed": false, 
     "input": [
      "P4 = +P3", 
      "print(P4.N_rounds)"
     ], 
     "language": "python", 
     "outputs": [
      {
       "output_type": "stream", 
       "stream": "stdout", 
       "text": [
        "9"
       ]
      }
     ], 
     "prompt_number": 15
    }, 
    {
     "cell_type": "code", 
     "collapsed": false, 
     "input": [
      "S = P4.render_move()", 
      "print(S)"
     ], 
     "language": "python", 
     "outputs": [
      {
       "output_type": "stream", 
       "stream": "stdout", 
       "text": [
        "", 
        "        if roundsAlive == 0:", 
        "            return (OBSERVE, )", 
        "        else:", 
        "            return (INNOVATE, )", 
        ""
       ]
      }
     ], 
     "prompt_number": 16
    }, 
    {
     "cell_type": "code", 
     "collapsed": false, 
     "input": [
      "S = P4.render_done()", 
      "print(S)"
     ], 
     "language": "python", 
     "outputs": [
      {
       "output_type": "stream", 
       "stream": "stdout", 
       "text": [
        "", 
        "        # True if the state has expired, or if other agents were exploiting (i.e., this individual isn't a pioneer)", 
        "        return ((roundsAlive >= 9) or     ", 
        "                ((len(historyActs) > 0) and (historyActs[0] > -1))", 
        "               )                ", 
        ""
       ]
      }
     ], 
     "prompt_number": 17
    }, 
    {
     "cell_type": "code", 
     "collapsed": false, 
     "input": [
      "D1 = traits.DiscreteDistribution.DiscreteDistribution()", 
      "D1.Pi = 0.1", 
      "D1.Po = 0.2", 
      "D1.Pe = 0.3", 
      "D1.Pr = 0.4", 
      "", 
      "D2 = traits.DiscreteDistribution.DiscreteDistribution()", 
      "D2.Pi = 0.4", 
      "D2.Po = 0.25", 
      "D2.Pe = 0.15", 
      "D2.Pr = 0.1", 
      "", 
      "D3 = D1+D2     # Perform crossover of the two traits", 
      "print(D3.Pi, D3.Po, D3.Pe, D3.Pr)"
     ], 
     "language": "python", 
     "outputs": [
      {
       "output_type": "stream", 
       "stream": "stdout", 
       "text": [
        "(0.20323091106669477, 0.2260155439355947, 0.2249723955090773, 0.2181185173023959)"
       ]
      }
     ], 
     "prompt_number": 18
    }, 
    {
     "cell_type": "code", 
     "collapsed": false, 
     "input": [
      "D4 = +D3", 
      "print(D4.Pi, D4.Po, D4.Pe, D4.Pr)"
     ], 
     "language": "python", 
     "outputs": [
      {
       "output_type": "stream", 
       "stream": "stdout", 
       "text": [
        "(0.20323091106669477, 0.556344178991625, 0.2249723955090773, 0.2181185173023959)"
       ]
      }
     ], 
     "prompt_number": 19
    }, 
    {
     "cell_type": "code", 
     "collapsed": false, 
     "input": [
      "S = D4.render_move()", 
      "print(S)"
     ], 
     "language": "python", 
     "outputs": [
      {
       "output_type": "stream", 
       "stream": "stdout", 
       "text": [
        "", 
        "        interval = [0.203230911067, 0.556344178992, 0.224972395509, 0.218118517302]", 
        "", 
        "        for i in xrange(1,4):", 
        "            interval[i] = interval[i-1] + interval[i]", 
        "", 
        "        # Normalise the intervals", 
        "        if canPlayRefine:", 
        "            interval = [x/interval[-1] for x in interval]", 
        "        else:", 
        "            interval = [x/interval[-2] for x in interval]", 
        "", 
        "        roll = random.random()", 
        "", 
        "        if roll <= interval[0]:", 
        "            return (INNOVATE, )", 
        "        elif roll <= interval[1]:", 
        "            return (OBSERVE, )", 
        "        elif roll <= interval[2]:", 
        "            return (EXPLOIT, max(repertoire, key=repertoire.get))", 
        "        elif (roll <= interval[3]) and canPlayRefine:   # Add the sanity check in case of rounding errors", 
        "            return (REFINE, max(repertoire, key=repertoire.get))", 
        "        else:", 
        "            # Catch-all for rounding errors", 
        "            return (EXPLOIT, max(repertoire, key=repertoire.get))", 
        ""
       ]
      }
     ], 
     "prompt_number": 20
    }, 
    {
     "cell_type": "code", 
     "collapsed": false, 
     "input": [
      "S = D4.render_done()", 
      "print(S)"
     ], 
     "language": "python", 
     "outputs": [
      {
       "output_type": "stream", 
       "stream": "stdout", 
       "text": [
        "", 
        "        return False    # Terminal trait", 
        ""
       ]
      }
     ], 
     "prompt_number": 21
    }, 
    {
     "cell_type": "code", 
     "collapsed": false, 
     "input": [
      "import solegene", 
      "reload(solegene)", 
      "", 
      "G = solegene.Genome()", 
      "G.state = [('Pioneering', ['DiscreteDistribution']),", 
      "           ('DiscreteDistribution', [])]", 
      "G.traits['Pioneering'] = P4", 
      "G.traits['DiscreteDistribution'] = D4", 
      "", 
      "code = G.render(debug = True)", 
      "", 
      "print code"
     ], 
     "language": "python", 
     "outputs": [
      {
       "ename": "NotImplementedError", 
       "evalue": "", 
       "output_type": "pyerr", 
       "traceback": [
        "\u001b[1;31m---------------------------------------------------------------------------\u001b[0m\n\u001b[1;31mNotImplementedError\u001b[0m                       Traceback (most recent call last)", 
        "\u001b[1;32m/home/gvrooyen/Dropbox/devel/SocialLearning/<ipython-input-22-88e21af83eb0>\u001b[0m in \u001b[0;36m<module>\u001b[1;34m()\u001b[0m\n\u001b[0;32m      2\u001b[0m \u001b[0mreload\u001b[0m\u001b[1;33m(\u001b[0m\u001b[0msolegene\u001b[0m\u001b[1;33m)\u001b[0m\u001b[1;33m\u001b[0m\u001b[0m\n\u001b[0;32m      3\u001b[0m \u001b[1;33m\u001b[0m\u001b[0m\n\u001b[1;32m----> 4\u001b[1;33m \u001b[0mG\u001b[0m \u001b[1;33m=\u001b[0m \u001b[0msolegene\u001b[0m\u001b[1;33m.\u001b[0m\u001b[0mGenome\u001b[0m\u001b[1;33m(\u001b[0m\u001b[1;33m)\u001b[0m\u001b[1;33m\u001b[0m\u001b[0m\n\u001b[0m\u001b[0;32m      5\u001b[0m G.state = [('Pioneering', ['DiscreteDistribution']),\n\u001b[0;32m      6\u001b[0m            ('DiscreteDistribution', [])]\n", 
        "\u001b[1;32m/home/gvrooyen/Dropbox/devel/SocialLearning/solegene.py\u001b[0m in \u001b[0;36m__init__\u001b[1;34m(self)\u001b[0m\n\u001b[0;32m     71\u001b[0m         \u001b[0mgraph\u001b[0m\u001b[1;33m.\u001b[0m\u001b[1;33m\u001b[0m\u001b[0m\n\u001b[0;32m     72\u001b[0m         \"\"\"\n\u001b[1;32m---> 73\u001b[1;33m         \u001b[1;32mraise\u001b[0m \u001b[0mNotImplementedError\u001b[0m\u001b[1;33m(\u001b[0m\u001b[1;33m)\u001b[0m\u001b[1;33m\u001b[0m\u001b[0m\n\u001b[0m\u001b[0;32m     74\u001b[0m \u001b[1;33m\u001b[0m\u001b[0m\n\u001b[0;32m     75\u001b[0m     \u001b[1;32mdef\u001b[0m \u001b[0mrender\u001b[0m\u001b[1;33m(\u001b[0m\u001b[0mself\u001b[0m\u001b[1;33m,\u001b[0m \u001b[0mdebug\u001b[0m \u001b[1;33m=\u001b[0m \u001b[0mFalse\u001b[0m\u001b[1;33m)\u001b[0m\u001b[1;33m:\u001b[0m\u001b[1;33m\u001b[0m\u001b[0m\n", 
        "\u001b[1;31mNotImplementedError\u001b[0m: "
       ]
      }
     ], 
     "prompt_number": 22
    }, 
    {
     "cell_type": "markdown", 
     "source": [
      "This is a simple example of how the logging decorator works:"
     ]
    }, 
    {
     "cell_type": "code", 
     "collapsed": false, 
     "input": [
      "class D(object):", 
      "    ", 
      "    def __init__(self, f):", 
      "        self.f = f", 
      "        self.log = []", 
      "        ", 
      "    def __call__(self, *args):", 
      "        result = self.f(*args)", 
      "        self.log.append(result)", 
      "        return result", 
      "", 
      "@D", 
      "def square(x):", 
      "    return x*x", 
      "", 
      "print square(1)", 
      "print square(2)", 
      "print square(3)", 
      "", 
      "if hasattr(square,'log'):", 
      "    print square.log"
     ], 
     "language": "python", 
     "outputs": []
    }, 
    {
     "cell_type": "markdown", 
     "source": [
      "In the next test, we do a full simulation of the rendered code, and analyse its state traces. The first short simulation investigates a typical individual that's part of the population's first generation. It should notice that no-one is exploiting in the first round, and then innovate for a number of rounds."
     ]
    }, 
    {
     "cell_type": "code", 
     "collapsed": false, 
     "input": [
      "import md5", 
      "import simulate", 
      "", 
      "agent_hash = md5.md5(code)", 
      "agent_name = 'agent_' + agent_hash.hexdigest()", 
      "agent_path = 'agents/rendered/' + agent_name + '.py'", 
      "print(\"Simulating %s...\" % agent_name)", 
      "", 
      "f = open(agent_path, 'w')", 
      "f.write(code)", 
      "f.close()", 
      "", 
      "agent = __import__('agents.rendered.'+agent_name, fromlist=['*'])", 
      "simulate.agent = agent", 
      "simulation = simulate.Simulate(N_rounds=20)", 
      "simulation.run()", 
      "", 
      "print(zip(simulation.demes[0].population[0].historyRounds, simulation.demes[0].population[0].historyStates, simulation.demes[0].population[0].historyMoves))"
     ], 
     "language": "python", 
     "outputs": []
    }, 
    {
     "cell_type": "markdown", 
     "source": [
      "The next simulation is long enough that the entire first generation of individuals would have died off; the sampled individual should have a single round in the 'Pioneering' state to observe its peers, and then move into 'DiscreteDistribution' for the rest of its life."
     ]
    }, 
    {
     "cell_type": "code", 
     "collapsed": false, 
     "input": [
      "simulation = simulate.Simulate(N_rounds=1000)", 
      "simulation.run()", 
      "", 
      "print(zip(simulation.demes[0].population[0].historyRounds, simulation.demes[0].population[0].historyStates, simulation.demes[0].population[0].historyMoves))"
     ], 
     "language": "python", 
     "outputs": []
    }
   ]
  }
 ]
}