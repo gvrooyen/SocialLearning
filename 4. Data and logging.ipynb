{
 "metadata": {
  "name": "4. Data and logging"
 }, 
 "nbformat": 2, 
 "worksheets": [
  {
   "cells": [
    {
     "cell_type": "markdown", 
     "source": [
      "Data and Logging", 
      "================", 
      "", 
      "This section considers that data capture and logging considerations of the genetic programming system.", 
      "The objective is to make GP runs interruptible, reasonably tracible, but with a modest amount of data", 
      "being stored. MongoDB is the logging platform of choice.", 
      "", 
      "Any genetic programming run is chosen to occur in a named deme (a GP deme; unrelated to the demes in", 
      "the Social Learning simulation itself). Stored data on this deme includes full information on each", 
      "individual genome in each generated population (traits, state graph, parents); each generation's", 
      "best-of-generation individuals (BOGs), including their normalised fitness scores (as calculated by", 
      "the fitness module) and the exact parameters under which that generation was tested; and the last", 
      "generation's test parameters."
     ]
    }, 
    {
     "cell_type": "code", 
     "collapsed": true, 
     "input": [], 
     "language": "python", 
     "outputs": []
    }
   ]
  }
 ]
}