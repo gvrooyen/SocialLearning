{
 "metadata": {
  "name": "Crossover and mutation"
 }, 
 "nbformat": 2, 
 "worksheets": [
  {
   "cells": [
    {
     "cell_type": "markdown", 
     "source": [
      "Crossover and mutation", 
      "======================", 
      "In this notebook, we demonstrate the use of the solegene module, and the crossover and mutation", 
      "of traits and individuals."
     ]
    }, 
    {
     "cell_type": "code", 
     "collapsed": false, 
     "input": [
      "import traits.Pioneering", 
      "import traits.DiscreteDistribution", 
      "", 
      "P1 = traits.Pioneering.Pioneering()", 
      "P1.N_rounds = 15", 
      "", 
      "P2 = traits.Pioneering.Pioneering()", 
      "P2.N_rounds = 5", 
      "", 
      "P3 = P1+P2     # Perform crossover of the two traits", 
      "print(P3.N_rounds)"
     ], 
     "language": "python", 
     "outputs": [
      {
       "output_type": "stream", 
       "stream": "stdout", 
       "text": [
        "9"
       ]
      }
     ], 
     "prompt_number": 1
    }, 
    {
     "cell_type": "code", 
     "collapsed": false, 
     "input": [
      "P4 = +P3", 
      "print(P4.N_rounds)"
     ], 
     "language": "python", 
     "outputs": [
      {
       "output_type": "stream", 
       "stream": "stdout", 
       "text": [
        "8"
       ]
      }
     ], 
     "prompt_number": 2
    }, 
    {
     "cell_type": "code", 
     "collapsed": false, 
     "input": [
      "S = P4.render_move()", 
      "print(S)"
     ], 
     "language": "python", 
     "outputs": [
      {
       "output_type": "stream", 
       "stream": "stdout", 
       "text": [
        "", 
        "        if 1 &lt; roundsAlive &lt;= 8:", 
        "            return (INNOVATE, )", 
        "         ", 
        "        else:    # This is the first round", 
        "            return (OBSERVE, )", 
        ""
       ]
      }
     ], 
     "prompt_number": 3
    }, 
    {
     "cell_type": "code", 
     "collapsed": false, 
     "input": [
      "S = P4.render_done()", 
      "print(S)"
     ], 
     "language": "python", 
     "outputs": [
      {
       "output_type": "stream", 
       "stream": "stdout", 
       "text": [
        "", 
        "        return ((roundsAlive &gt; 8) or     # The state has expired", 
        "                (historyActs[0] &gt; -1)                # Other agents were exploiting, so this individual isn&apos;t a pioneer", 
        "               )                ", 
        ""
       ]
      }
     ], 
     "prompt_number": 4
    }, 
    {
     "cell_type": "code", 
     "collapsed": false, 
     "input": [
      "D1 = traits.DiscreteDistribution.DiscreteDistribution()", 
      "D1.Pi = 0.1", 
      "D1.Po = 0.2", 
      "D1.Pe = 0.3", 
      "D1.Pr = 0.4", 
      "", 
      "D2 = traits.DiscreteDistribution.DiscreteDistribution()", 
      "D2.Pi = 0.4", 
      "D2.Po = 0.25", 
      "D2.Pe = 0.15", 
      "D2.Pr = 0.1", 
      "", 
      "D3 = D1+D2     # Perform crossover of the two traits", 
      "print(D3.Pi, D3.Po, D3.Pe, D3.Pr)"
     ], 
     "language": "python", 
     "outputs": [
      {
       "output_type": "stream", 
       "stream": "stdout", 
       "text": [
        "(0.32339202235246, 0.2484036276825367, 0.33649919239692466, 0.16676582678215776)"
       ]
      }
     ], 
     "prompt_number": 5
    }, 
    {
     "cell_type": "code", 
     "collapsed": false, 
     "input": [
      "D4 = +D3", 
      "print(D4.Pi, D4.Po, D4.Pe, D4.Pr)"
     ], 
     "language": "python", 
     "outputs": [
      {
       "output_type": "stream", 
       "stream": "stdout", 
       "text": [
        "(0.32339202235246, 0.2484036276825367, 0.16982141321417799, 0.16676582678215776)"
       ]
      }
     ], 
     "prompt_number": 6
    }, 
    {
     "cell_type": "code", 
     "collapsed": false, 
     "input": [
      "S = D4.render_move()", 
      "print(S)"
     ], 
     "language": "python", 
     "outputs": [
      {
       "output_type": "stream", 
       "stream": "stdout", 
       "text": [
        "", 
        "        interval = [0.323392022352, 0.248403627683, 0.169821413214, 0.166765826782]", 
        "", 
        "        for i in xrange(1,4):", 
        "            interval[i] = interval[i-1] + interval[i]", 
        "", 
        "        # Normalise the intervals", 
        "        if canPlayRefine:", 
        "            interval /= interval[-1]", 
        "        else:", 
        "            interval /= interval[-2]", 
        "", 
        "        roll = random.random()", 
        "", 
        "        if roll &lt;= interval[0]:", 
        "            return (INNOVATE, )", 
        "        elif roll &lt;= interval[1]:", 
        "            return (OBSERVE, )", 
        "        elif roll &lt;= interval[2]:", 
        "            return (EXPLOIT, max(repertoire, key=repertoire.get))", 
        "        elif (roll &lt;= interval[3]) and canPlayRefine:   # Add the sanity check in case of rounding errors", 
        "            return (REFINE, max(repertoire, key=repertoire.get))", 
        "        else:", 
        "            # Catch-all for rounding errors", 
        "            return (EXPLOIT, max(repertoire, key=repertoire.get))", 
        ""
       ]
      }
     ], 
     "prompt_number": 7
    }, 
    {
     "cell_type": "code", 
     "collapsed": false, 
     "input": [
      "S = D4.render_done()", 
      "print(S)"
     ], 
     "language": "python", 
     "outputs": [
      {
       "output_type": "stream", 
       "stream": "stdout", 
       "text": [
        "", 
        "        return False    # Terminal trait", 
        ""
       ]
      }
     ], 
     "prompt_number": 8
    }
   ]
  }
 ]
}