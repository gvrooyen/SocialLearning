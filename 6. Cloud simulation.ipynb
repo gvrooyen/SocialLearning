{
 "metadata": {
  "name": "6. Cloud simulation"
 },
 "nbformat": 3,
 "worksheets": [
  {
   "cells": [
    {
     "cell_type": "code",
     "collapsed": false,
     "input": [
      "import cloud",
      "",
      "def foo():",
      "    f = open('foo/test.dat', 'w')",
      "    f.write(\"test\")",
      "    f.close()",
      "    ",
      "    f = open('foo/test.dat', 'r')",
      "    S = ''",
      "    for line in f:",
      "        S += line",
      "    f.close()",
      "    ",
      "    return S",
      "    ",
      "jid = cloud.call(foo)"
     ],
     "language": "python",
     "outputs": [],
     "prompt_number": 3
    },
    {
     "cell_type": "code",
     "collapsed": false,
     "input": [
      "print cloud.result(jid)"
     ],
     "language": "python",
     "outputs": [
      {
       "output_type": "stream",
       "stream": "stdout",
       "text": [
        "test"
       ]
      }
     ],
     "prompt_number": 6
    }
   ]
  }
 ]
}