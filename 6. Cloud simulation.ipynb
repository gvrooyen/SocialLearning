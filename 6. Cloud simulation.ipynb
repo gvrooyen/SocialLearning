{
 "metadata": {
  "name": "6. Cloud simulation"
 },
 "nbformat": 3,
 "worksheets": [
  {
   "cells": [
    {
     "cell_type": "markdown",
     "source": [
      "Cloud simulation",
      "================",
      "In which we extract the best-of-mode individuals for each of the eight simulation mode combinations.",
      "This code is then rendered to first test individually, and then combine into a single solution."
     ]
    },
    {
     "cell_type": "code",
     "collapsed": false,
     "input": [
      "import pymongo",
      "import cPickle as pickle",
      "",
      "connection = pymongo.Connection('sl-master.dyndns-server.com')",
      "db = connection.SocialLearning",
      "db.authenticate('sociallearning', 'twasbrilligandtheslithytoves')",
      "",
      "def extract_BoM(deme, generation):",
      "    coll = db['gp_ ' + deme]",
      "    fitness = -1",
      "    BoM = None",
      "    for i in coll.find({'generation': generation}):",
      "        if i['BOG']['fitness'] > fitness:",
      "            BoM = i['BOG']",
      "            fitness = i['BOG']['fitness']",
      "    return BoM",
      "",
      "def render(mode, BoM):",
      "    with open('agents/fitness/%s.py' % mode, 'w') as f:",
      "        S = pickle.loads(str(BoM['pickle']))",
      "        f.write(S.render())"
     ],
     "language": "python",
     "outputs": [],
     "prompt_number": 1
    },
    {
     "cell_type": "markdown",
     "source": [
      "ORd (mode_OR)",
      "-------------"
     ]
    },
    {
     "cell_type": "code",
     "collapsed": false,
     "input": [
      "BoM = extract_BoM('ORd2', 6)",
      "print BoM['fitness']",
      "render('mode_OR', BoM)"
     ],
     "language": "python",
     "outputs": [
      {
       "output_type": "stream",
       "stream": "stdout",
       "text": [
        "25848.8651429"
       ]
      }
     ],
     "prompt_number": 2
    },
    {
     "cell_type": "markdown",
     "source": [
      "- Test seed: 7791EC20",
      "- Fitness: 23493.40, 8.56 us",
      "- Reference: 3005.77, 10.02 us (same seed)"
     ]
    },
    {
     "cell_type": "markdown",
     "source": [
      "oRd (mode_R)",
      "------------"
     ]
    },
    {
     "cell_type": "code",
     "collapsed": false,
     "input": [
      "BoM = extract_BoM('oRd4', 7)",
      "print BoM['fitness']",
      "render('mode_R', BoM)"
     ],
     "language": "python",
     "outputs": [
      {
       "output_type": "stream",
       "stream": "stdout",
       "text": [
        "26092.0362857"
       ]
      }
     ],
     "prompt_number": 11
    },
    {
     "cell_type": "markdown",
     "source": [
      "- Test seed: 3B507A78",
      "- Fitness: ",
      "- Reference: 2957.47, 10,17 us (same seed)"
     ]
    },
    {
     "cell_type": "markdown",
     "source": [
      "oRD (mode_RD)",
      "-------------"
     ]
    },
    {
     "cell_type": "code",
     "collapsed": false,
     "input": [
      "BoM = extract_BoM('oRD1', 16)",
      "print BoM['fitness']",
      "render('mode_RD', BoM)"
     ],
     "language": "python",
     "outputs": [
      {
       "output_type": "stream",
       "stream": "stdout",
       "text": [
        "26004.3011429"
       ]
      }
     ],
     "prompt_number": 4
    },
    {
     "cell_type": "markdown",
     "source": [
      "- Test seed: 9D6F3361"
     ]
    },
    {
     "cell_type": "markdown",
     "source": [
      "ord (mode_nil)",
      "--------------"
     ]
    },
    {
     "cell_type": "code",
     "collapsed": false,
     "input": [
      "### PURGED ###",
      "",
      "# BoM = extract_BoM('ord0', 3)",
      "# print BoM['fitness']",
      "# render('mode_nil', BoM)"
     ],
     "language": "python",
     "outputs": [],
     "prompt_number": 5
    },
    {
     "cell_type": "markdown",
     "source": [
      "The average payoff seems impossibly high for an agent that cannot play REFINE.",
      "",
      "- Test seed: 57243423",
      "- Fitness: 1065.34, 7.68 us",
      "- Reference: 527.69, 9.65 us (same seed)",
      "",
      "Indeed, it seems results from another deme landed in this one. After purging, a new champion was identified:"
     ]
    },
    {
     "cell_type": "code",
     "collapsed": false,
     "input": [
      "BoM = extract_BoM('ord3', 1)",
      "print BoM['fitness']",
      "render('mode_nil', BoM)"
     ],
     "language": "python",
     "outputs": [
      {
       "output_type": "stream",
       "stream": "stdout",
       "text": [
        "4710.346"
       ]
      }
     ],
     "prompt_number": 6
    },
    {
     "cell_type": "markdown",
     "source": [
      "ORD (mode_ORD)",
      "--------------"
     ]
    },
    {
     "cell_type": "code",
     "collapsed": false,
     "input": [
      "BoM = extract_BoM('ORD2', 9)",
      "print BoM['fitness']",
      "render('mode_ORD', BoM)"
     ],
     "language": "python",
     "outputs": [
      {
       "output_type": "stream",
       "stream": "stdout",
       "text": [
        "25893.7674286"
       ]
      }
     ],
     "prompt_number": 7
    },
    {
     "cell_type": "markdown",
     "source": [
      "OrD (mode_OD)",
      "-------------"
     ]
    },
    {
     "cell_type": "code",
     "collapsed": false,
     "input": [
      "BoM = extract_BoM('OrD0', 4)",
      "print BoM['fitness']",
      "render('mode_OD', BoM)"
     ],
     "language": "python",
     "outputs": [
      {
       "output_type": "stream",
       "stream": "stdout",
       "text": [
        "2967.91285714"
       ]
      }
     ],
     "prompt_number": 8
    },
    {
     "cell_type": "markdown",
     "source": [
      "Ord (mode_O)",
      "------------"
     ]
    },
    {
     "cell_type": "code",
     "collapsed": false,
     "input": [
      "BoM = extract_BoM('Ord1', 2)",
      "print BoM['fitness']",
      "render('mode_O', BoM)"
     ],
     "language": "python",
     "outputs": [
      {
       "output_type": "stream",
       "stream": "stdout",
       "text": [
        "3959.5045"
       ]
      }
     ],
     "prompt_number": 9
    },
    {
     "cell_type": "markdown",
     "source": [
      "orD (mode_D)",
      "------------"
     ]
    },
    {
     "cell_type": "code",
     "collapsed": false,
     "input": [
      "BoM = extract_BoM('orD2', 1)",
      "print BoM['fitness']",
      "render('mode_D', BoM)"
     ],
     "language": "python",
     "outputs": [
      {
       "output_type": "stream",
       "stream": "stdout",
       "text": [
        "1761.479"
       ]
      }
     ],
     "prompt_number": 10
    },
    {
     "cell_type": "code",
     "collapsed": true,
     "input": [],
     "language": "python",
     "outputs": [],
     "prompt_number": 10
    }
   ]
  }
 ]
}