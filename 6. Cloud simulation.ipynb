{
 "metadata": {
  "name": "6. Cloud simulation"
 },
 "nbformat": 3,
 "worksheets": [
  {
   "cells": [
    {
     "cell_type": "markdown",
     "source": [
      "Cloud simulation",
      "================",
      "In which we extract the best-of-mode individuals for each of the eight simulation mode combinations.",
      "This code is then rendered to first test individually, and then combine into a single solution."
     ]
    },
    {
     "cell_type": "code",
     "collapsed": false,
     "input": [
      "import pymongo",
      "import cPickle as pickle",
      "",
      "connection = pymongo.Connection('sl-master.dyndns-server.com')",
      "db = connection.SocialLearning",
      "db.authenticate('sociallearning', 'twasbrilligandtheslithytoves')",
      "",
      "def extract_BoM(deme, generation):",
      "    coll = db['gp_ ' + deme]",
      "    fitness = -1",
      "    BoM = None",
      "    for i in coll.find({'generation': generation}):",
      "        if i['BOG']['fitness'] > fitness:",
      "            BoM = i['BOG']",
      "            fitness = i['BOG']['fitness']",
      "    return BoM",
      "",
      "def render(mode, BoM):",
      "    with open('agents/fitness/%s.py' % mode, 'w') as f:",
      "        S = pickle.loads(str(BoM['pickle']))",
      "        f.write(S.render())"
     ],
     "language": "python",
     "outputs": [],
     "prompt_number": 12
    },
    {
     "cell_type": "markdown",
     "source": [
      "ORd (mode_OR)",
      "-------------"
     ]
    },
    {
     "cell_type": "code",
     "collapsed": false,
     "input": [
      "BoM = extract_BoM('ORd2', 6)",
      "print BoM['fitness']",
      "render('mode_OR', BoM)"
     ],
     "language": "python",
     "outputs": [
      {
       "output_type": "stream",
       "stream": "stdout",
       "text": [
        "25848.8651429"
       ]
      }
     ],
     "prompt_number": 14
    },
    {
     "cell_type": "markdown",
     "source": [
      "- Test seed: 7791EC20",
      "- Fitness: 23493.40, 8.56 us"
     ]
    },
    {
     "cell_type": "markdown",
     "source": [
      "oRd (mode_R)",
      "------------"
     ]
    },
    {
     "cell_type": "code",
     "collapsed": false,
     "input": [
      "BoM = extract_BoM('oRd2', 11)",
      "print BoM['fitness']",
      "render('mode_R', BoM)"
     ],
     "language": "python",
     "outputs": [
      {
       "output_type": "stream",
       "stream": "stdout",
       "text": [
        "25742.5437143"
       ]
      }
     ],
     "prompt_number": 16
    },
    {
     "cell_type": "markdown",
     "source": [
      "- Test seed: 3B507A78",
      "- Fitness: 23480.24, 9.27 us"
     ]
    },
    {
     "cell_type": "markdown",
     "source": [
      "oRD (mode_RD)",
      "-------------"
     ]
    },
    {
     "cell_type": "code",
     "collapsed": false,
     "input": [
      "BoM = extract_BoM('oRD1', 16)",
      "print BoM['fitness']",
      "render('mode_RD', BoM)"
     ],
     "language": "python",
     "outputs": [
      {
       "output_type": "stream",
       "stream": "stdout",
       "text": [
        "26004.3011429"
       ]
      }
     ],
     "prompt_number": 17
    },
    {
     "cell_type": "markdown",
     "source": [
      "ord (mode_nil)",
      "--------------"
     ]
    },
    {
     "cell_type": "code",
     "collapsed": false,
     "input": [
      "BoM = extract_BoM('ord0', 3)",
      "print BoM['fitness']",
      "render('mode_nil', BoM)"
     ],
     "language": "python",
     "outputs": [
      {
       "output_type": "stream",
       "stream": "stdout",
       "text": [
        "24726.8174286"
       ]
      }
     ],
     "prompt_number": 18
    },
    {
     "cell_type": "markdown",
     "source": [
      "ORD (mode_ORD)",
      "--------------"
     ]
    },
    {
     "cell_type": "code",
     "collapsed": false,
     "input": [
      "BoM = extract_BoM('ORD2', 9)",
      "print BoM['fitness']",
      "render('mode_ORD', BoM)"
     ],
     "language": "python",
     "outputs": [
      {
       "output_type": "stream",
       "stream": "stdout",
       "text": [
        "25893.7674286"
       ]
      }
     ],
     "prompt_number": 19
    },
    {
     "cell_type": "code",
     "collapsed": true,
     "input": [],
     "language": "python",
     "outputs": [],
     "prompt_number": 19
    },
    {
     "cell_type": "code",
     "collapsed": true,
     "input": [],
     "language": "python",
     "outputs": [],
     "prompt_number": 19
    },
    {
     "cell_type": "code",
     "collapsed": true,
     "input": [],
     "language": "python",
     "outputs": [],
     "prompt_number": 19
    },
    {
     "cell_type": "code",
     "collapsed": true,
     "input": [],
     "language": "python",
     "outputs": []
    }
   ]
  }
 ]
}