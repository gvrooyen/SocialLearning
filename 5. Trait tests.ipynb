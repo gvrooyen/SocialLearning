{
 "metadata": {
  "name": "5. Trait tests"
 }, 
 "nbformat": 2, 
 "worksheets": [
  {
   "cells": [
    {
     "cell_type": "markdown", 
     "source": [
      "Trait tests", 
      "===========", 
      "In this chapter, individual traits are exercised to confirm that they perform to spec.", 
      "", 
      "Preamble", 
      "--------"
     ]
    }, 
    {
     "cell_type": "code", 
     "collapsed": true, 
     "input": [
      "import solegene", 
      "import md5", 
      "import simulate", 
      "import pprint", 
      "import traits.Pioneering", 
      "import traits.ExploitGreedy", 
      "import traits.DiscreteDistribution", 
      "import traits.Study", 
      "", 
      "def trace(code):", 
      "    agent_hash = md5.md5(code)", 
      "    agent_name = 'agent_' + agent_hash.hexdigest()", 
      "    agent_path = 'agents/rendered/' + agent_name + '.py'", 
      "    print(\"Simulating %s...\" % agent_name)", 
      "", 
      "    f = open(agent_path, 'w')", 
      "    f.write(code)", 
      "    f.close()", 
      "", 
      "    agent = __import__('agents.rendered.'+agent_name, fromlist=['*'])", 
      "    simulate.agent = agent", 
      "    simulation = simulate.Simulate(N_rounds=30, P_c = 0.1)", 
      "    simulation.run()", 
      "", 
      "    print(pprint.pformat(zip(simulation.demes[0].population[0].historyRounds,", 
      "                             simulation.demes[0].population[0].historyStates,", 
      "                             simulation.demes[0].population[0].historyMoves,", 
      "                             simulation.demes[0].population[0].historyActs,", 
      "                             simulation.demes[0].population[0].historyPayoffs)))"
     ], 
     "language": "python", 
     "outputs": [], 
     "prompt_number": 1
    }, 
    {
     "cell_type": "markdown", 
     "source": [
      "ExploitGreedy", 
      "-------------", 
      "Perform Pioneering, then exploit the highest-paying act until the payoff drops (ExploitGreedy). Then revert to DiscreteDistribution for the rest of the agent's life."
     ]
    }, 
    {
     "cell_type": "code", 
     "collapsed": false, 
     "input": [
      "pioneering = traits.Pioneering.Pioneering()", 
      "pioneering.N_rounds = 3", 
      "", 
      "G = solegene.Genome()", 
      "G.state = [('Pioneering', ['ExploitGreedy']),", 
      "           ('ExploitGreedy', ['DiscreteDistribution']),", 
      "           ('DiscreteDistribution', [])", 
      "          ]", 
      "G.traits['Pioneering'] = pioneering", 
      "G.traits['ExploitGreedy'] = traits.ExploitGreedy.ExploitGreedy()", 
      "G.traits['DiscreteDistribution'] = traits.DiscreteDistribution.DiscreteDistribution()", 
      "", 
      "trace(G.render(debug = True))"
     ], 
     "language": "python", 
     "outputs": [
      {
       "output_type": "stream", 
       "stream": "stdout", 
       "text": [
        "__init__", 
        "Simulating agent_8b843be733599dc19d4e287477847bca...", 
        "[(1, 'Pioneering', 0, -1, -1),", 
        " (1, 'Pioneering', 0, -1, -1),", 
        " (1, 'Pioneering', 0, -1, -1),", 
        " (2, 'Pioneering', -1, 87, 4),", 
        " (3, 'Pioneering', -1, 21, 2),", 
        " (4, 'ExploitGreedy', 1, 87, 4),", 
        " (5, 'ExploitGreedy', 1, 87, 4),", 
        " (6, 'ExploitGreedy', 1, 87, 4),", 
        " (7, 'ExploitGreedy', 1, 87, 4),", 
        " (8, 'ExploitGreedy', 1, 87, 4),", 
        " (9, 'ExploitGreedy', 1, 87, 4),", 
        " (10, 'ExploitGreedy', 1, 87, 4),", 
        " (11, 'ExploitGreedy', 1, 87, 14),", 
        " (12, 'ExploitGreedy', 1, 87, 14),", 
        " (13, 'ExploitGreedy', 1, 87, 14),", 
        " (14, 'ExploitGreedy', 1, 87, 14),", 
        " (15, 'ExploitGreedy', 1, 87, 14),", 
        " (16, 'ExploitGreedy', 1, 87, 14),", 
        " (17, 'ExploitGreedy', 1, 87, 14),", 
        " (18, 'ExploitGreedy', 1, 87, 14),", 
        " (19, 'ExploitGreedy', 1, 87, 5),", 
        " (20, 'ExploitGreedy', 1, 87, 5),", 
        " (21, 'ExploitGreedy', 1, 87, 5),", 
        " (22, 'ExploitGreedy', 1, 87, 5),", 
        " (23, 'ExploitGreedy', 1, 87, 5),", 
        " (24, 'ExploitGreedy', 1, 87, 16),", 
        " (25, 'ExploitGreedy', 1, 87, 16),", 
        " (26, 'ExploitGreedy', 1, 87, 16),", 
        " (27, 'ExploitGreedy', 1, 87, 16),", 
        " (28, 'ExploitGreedy', 1, 87, 16),", 
        " (29, 'ExploitGreedy', 1, 87, 16),", 
        " (30, 'ExploitGreedy', 1, 87, 16)]"
       ]
      }, 
      {
       "output_type": "stream", 
       "stream": "stdout", 
       "text": [
        ""
       ]
      }
     ], 
     "prompt_number": 2
    }, 
    {
     "cell_type": "markdown", 
     "source": [
      "Study", 
      "-----", 
      "When an agent detects that it's a good time to build up its repertoire, it can spend a few rounds studying", 
      "(playing OBSERVE and INNOVATE). In this simulation, it does a greedy exploitation, studies for a few rounds", 
      "when payoffs drop, and then moves into a discrete distribution."
     ]
    }, 
    {
     "cell_type": "code", 
     "collapsed": false, 
     "input": [
      "pioneering = traits.Pioneering.Pioneering()", 
      "pioneering.N_rounds = 3", 
      "", 
      "G = solegene.Genome()", 
      "G.state = [('Pioneering', ['ExploitGreedy']),", 
      "           ('ExploitGreedy', ['Study']),", 
      "           ('Study', ['DiscreteDistribution']),", 
      "           ('DiscreteDistribution', [])", 
      "          ]", 
      "G.traits['Pioneering'] = pioneering", 
      "G.traits['ExploitGreedy'] = traits.ExploitGreedy.ExploitGreedy()", 
      "G.traits['Study'] = traits.Study.Study()", 
      "G.traits['DiscreteDistribution'] = traits.DiscreteDistribution.DiscreteDistribution()", 
      "", 
      "trace(G.render(debug = True))"
     ], 
     "language": "python", 
     "outputs": [
      {
       "output_type": "stream", 
       "stream": "stdout", 
       "text": [
        "__init__", 
        "Simulating agent_e173017f562fb94ff7430cfef6052a4f...", 
        "[(1, 'Pioneering', 0, -1, -1),", 
        " (1, 'Pioneering', 0, -1, -1),", 
        " (1, 'Pioneering', 0, -1, -1),", 
        " (2, 'Pioneering', -1, 80, 12),", 
        " (3, 'Pioneering', -1, 57, 3),", 
        " (4, 'ExploitGreedy', 1, 80, 12),", 
        " (5, 'ExploitGreedy', 1, 80, 12),", 
        " (6, 'ExploitGreedy', 1, 80, 12),", 
        " (7, 'ExploitGreedy', 1, 80, 12),", 
        " (8, 'ExploitGreedy', 1, 80, 12),", 
        " (9, 'ExploitGreedy', 1, 80, 12),", 
        " (10, 'ExploitGreedy', 1, 80, 3),", 
        " (11, 'Study', -1, 71, 7),", 
        " (12, 'Study', -1, 46, 5),", 
        " (13, 'Study', 0, 45, 17.0),", 
        " (13, 'Study', 0, 2, 12.0),", 
        " (13, 'Study', 0, 88, 5.0),", 
        " (14, 'Study', -1, 67, 3),", 
        " (15, 'Study', 0, 64, 12.0),", 
        " (15, 'Study', 0, -1, -1),", 
        " (15, 'Study', 0, -1, -1),", 
        " (16, 'Study', 0, 54, 11.0),", 
        " (16, 'Study', 0, 60, 5.0),", 
        " (16, 'Study', 0, 45, 26.0),", 
        " (17, 'Study', 0, 38, 6.0),", 
        " (17, 'Study', 0, 44, 20.0),", 
        " (17, 'Study', 0, -1, -1),", 
        " (18, 'Study', -1, 36, 17),", 
        " (19, 'Study', -1, 78, 34),", 
        " (20, 'Study', -1, 18, 21),", 
        " (21, 'Study', 0, 13, 13.0),", 
        " (21, 'Study', 0, 85, 40.0),", 
        " (21, 'Study', 0, 72, 14.0),", 
        " (22, 'Study', -1, 86, 3),", 
        " (23, 'Study', 0, 57, 1.0),", 
        " (23, 'Study', 0, 85, 1.0),", 
        " (23, 'Study', 0, 87, 9.0),", 
        " (24, 'Study', -1, 91, 6),", 
        " (25, 'Study', 0, 44, 6.0),", 
        " (25, 'Study', 0, 64, 14.0),", 
        " (25, 'Study', 0, 64, 23.0),", 
        " (26, 'Study', 0, 73, 17.0),", 
        " (26, 'Study', 0, 30, 18.0),", 
        " (26, 'Study', 0, 64, 19.0),", 
        " (27, 'Study', -1, 26, 4),", 
        " (28, 'Study', 0, 75, 9.0),", 
        " (28, 'Study', 0, 15, 4.0),", 
        " (28, 'Study', 0, 81, 7.0),", 
        " (29, 'Study', -1, 56, 13),", 
        " (30, 'Study', 0, 44, 12.0),", 
        " (30, 'Study', 0, 84, 9.0),", 
        " (30, 'Study', 0, 60, 7.0)]"
       ]
      }, 
      {
       "output_type": "stream", 
       "stream": "stdout", 
       "text": [
        ""
       ]
      }
     ], 
     "prompt_number": 3
    }, 
    {
     "cell_type": "markdown", 
     "source": [
      "The next example shows a circular graph, where the agent cycles between greedy exploitation and studying."
     ]
    }, 
    {
     "cell_type": "code", 
     "collapsed": false, 
     "input": [
      "G = solegene.Genome()", 
      "", 
      "G.state = [('Pioneering', ['ExploitGreedy']),", 
      "           ('ExploitGreedy', ['Study']),", 
      "           ('Study', ['ExploitGreedy']),", 
      "          ]", 
      "G.traits['Pioneering'] = pioneering", 
      "G.traits['ExploitGreedy'] = traits.ExploitGreedy.ExploitGreedy()", 
      "G.traits['Study'] = traits.Study.Study()", 
      "G.traits['Study'].N_rounds = 2", 
      "", 
      "trace(G.render(debug = True))"
     ], 
     "language": "python", 
     "outputs": [
      {
       "output_type": "stream", 
       "stream": "stdout", 
       "text": [
        "__init__", 
        "Simulating agent_b5364ebd6157f9b2c2bb053fce8e2cc6...", 
        "[(1, 'Pioneering', 0, -1, -1),", 
        " (1, 'Pioneering', 0, -1, -1),", 
        " (1, 'Pioneering', 0, -1, -1),", 
        " (2, 'Pioneering', -1, 61, 16),", 
        " (3, 'Pioneering', -1, 0, 2),", 
        " (4, 'ExploitGreedy', 1, 61, 16),", 
        " (5, 'ExploitGreedy', 1, 61, 16),", 
        " (6, 'ExploitGreedy', 1, 61, 16),", 
        " (7, 'ExploitGreedy', 1, 61, 11),", 
        " (8, 'Study', -1, 77, 5),", 
        " (9, 'Study', -1, 18, 8),", 
        " (10, 'ExploitGreedy', 1, 61, 11),", 
        " (11, 'ExploitGreedy', 1, 61, 11),", 
        " (12, 'ExploitGreedy', 1, 61, 11),", 
        " (13, 'ExploitGreedy', 1, 61, 11),", 
        " (14, 'ExploitGreedy', 1, 61, 32),", 
        " (15, 'ExploitGreedy', 1, 61, 32),", 
        " (16, 'ExploitGreedy', 1, 61, 22),", 
        " (17, 'ExploitGreedy', 1, 61, 22),", 
        " (18, 'ExploitGreedy', 1, 61, 22),", 
        " (19, 'ExploitGreedy', 1, 61, 22),", 
        " (20, 'ExploitGreedy', 1, 61, 22),", 
        " (21, 'ExploitGreedy', 1, 61, 22),", 
        " (22, 'ExploitGreedy', 1, 61, 22),", 
        " (23, 'ExploitGreedy', 1, 61, 22),", 
        " (24, 'ExploitGreedy', 1, 61, 22),", 
        " (25, 'ExploitGreedy', 1, 61, 22),", 
        " (26, 'ExploitGreedy', 1, 61, 22),", 
        " (27, 'ExploitGreedy', 1, 61, 22),", 
        " (28, 'ExploitGreedy', 1, 61, 22),", 
        " (29, 'ExploitGreedy', 1, 61, 22),", 
        " (30, 'ExploitGreedy', 1, 61, 22)]"
       ]
      }, 
      {
       "output_type": "stream", 
       "stream": "stdout", 
       "text": [
        ""
       ]
      }
     ], 
     "prompt_number": 4
    }, 
    {
     "cell_type": "markdown", 
     "source": [
      "InnovationBeat", 
      "--------------", 
      "The InnovationBeat trait attempts to synchronise agents by letting them play set sequences of moves,", 
      "synchronised by everyone playing INNOVATE simultaneously (easy to detect by a new agent playing", 
      "OBSERVE).", 
      "", 
      "Firstly, we test that the trait is initialised correctly."
     ]
    }, 
    {
     "cell_type": "code", 
     "collapsed": false, 
     "input": [
      "reload(traits.InnovationBeat)", 
      "IB = traits.InnovationBeat.InnovationBeat()", 
      "IBv = IB.values()", 
      "mnemonics = ['I','O','E','R']", 
      "print IBv['N_Seq']", 
      "print [mnemonics[x+1] for x in IBv['seq_A']]", 
      "print [mnemonics[x+1] for x in IBv['seq_B']]", 
      "print IBv['Pa']"
     ], 
     "language": "python", 
     "outputs": [
      {
       "output_type": "stream", 
       "stream": "stdout", 
       "text": [
        "9", 
        "['I', 'E', 'O', 'O', 'E', 'O', 'O', 'E', 'R', 'E']", 
        "['I', 'O', 'E', 'E', 'R', 'E', 'E', 'R', 'E', 'R']", 
        "0.00916457234598"
       ]
      }
     ], 
     "prompt_number": 6
    }, 
    {
     "cell_type": "code", 
     "collapsed": false, 
     "input": [
      "IB2 = traits.InnovationBeat.InnovationBeat()", 
      "child = IB+IB2", 
      "", 
      "IBv = IB2.values()", 
      "print IBv['N_Seq']", 
      "print [mnemonics[x+1] for x in IBv['seq_A']]", 
      "print [mnemonics[x+1] for x in IBv['seq_B']]", 
      "print IBv['Pa']", 
      "", 
      "IBv = child.values()", 
      "print IBv['N_Seq']", 
      "print [mnemonics[x+1] for x in IBv['seq_A']]", 
      "print [mnemonics[x+1] for x in IBv['seq_B']]", 
      "print IBv['Pa']"
     ], 
     "language": "python", 
     "outputs": [
      {
       "output_type": "stream", 
       "stream": "stdout", 
       "text": [
        "8", 
        "['I', 'E', 'R', 'R', 'O', 'R', 'E', 'E', 'O', 'R']", 
        "['I', 'O', 'E', 'E', 'E', 'E', 'E', 'R', 'E', 'R']", 
        "0.0387493453732", 
        "8", 
        "['I', 'E', 'O', 'O', 'R', 'E', 'E', 'O', 'R', 'O']", 
        "['I', 'O', 'E', 'E', 'E', 'E', 'R', 'E', 'R', 'E']", 
        "0.00950956160753"
       ]
      }
     ], 
     "prompt_number": 9
    }
   ]
  }
 ]
}