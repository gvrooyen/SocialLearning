{
 "metadata": {
  "name": "5. Trait tests"
 },
 "nbformat": 3,
 "worksheets": [
  {
   "cells": [
    {
     "cell_type": "markdown",
     "source": [
      "Trait tests",
      "===========",
      "In this chapter, individual traits are exercised to confirm that they perform to spec.",
      "",
      "Preamble",
      "--------"
     ]
    },
    {
     "cell_type": "code",
     "collapsed": true,
     "input": [
      "import solegene",
      "import md5",
      "import simulate",
      "import pprint",
      "import traits.Pioneering",
      "import traits.ExploitGreedy",
      "import traits.DiscreteDistribution",
      "import traits.Study",
      "",
      "def trace_moves(code, N_rounds = 30, quiet = False):",
      "    agent_hash = md5.md5(code)",
      "    agent_name = 'agent_' + agent_hash.hexdigest()",
      "    agent_path = 'agents/rendered/' + agent_name + '.py'",
      "    print(\"Simulating %s...\" % agent_name)",
      "",
      "    f = open(agent_path, 'w')",
      "    f.write(code)",
      "    f.close()",
      "",
      "    agent = __import__('agents.rendered.'+agent_name, fromlist=['*'])",
      "    simulate.agent = agent",
      "    simulation = simulate.Simulate(N_rounds=N_rounds, P_c = 0.1)",
      "    simulation.run()",
      "",
      "    if not quiet:",
      "        print(pprint.pformat(zip(simulation.demes[0].population[0].historyRounds,",
      "                                 simulation.demes[0].population[0].historyStates,",
      "                                 simulation.demes[0].population[0].historyMoves,",
      "                                 simulation.demes[0].population[0].historyActs,",
      "                                 simulation.demes[0].population[0].historyPayoffs)))",
      "    ",
      "    return simulation"
     ],
     "language": "python",
     "outputs": [],
     "prompt_number": 37
    },
    {
     "cell_type": "markdown",
     "source": [
      "ExploitGreedy",
      "-------------",
      "Perform Pioneering, then exploit the highest-paying act until the payoff drops (ExploitGreedy). Then revert to DiscreteDistribution for the rest of the agent's life."
     ]
    },
    {
     "cell_type": "code",
     "collapsed": false,
     "input": [
      "pioneering = traits.Pioneering.Pioneering()",
      "pioneering.N_rounds = 3",
      "",
      "G = solegene.Genome()",
      "G.state = [('Pioneering', ['ExploitGreedy']),",
      "           ('ExploitGreedy', ['DiscreteDistribution']),",
      "           ('DiscreteDistribution', [])",
      "          ]",
      "G.traits['Pioneering'] = pioneering",
      "G.traits['ExploitGreedy'] = traits.ExploitGreedy.ExploitGreedy()",
      "G.traits['DiscreteDistribution'] = traits.DiscreteDistribution.DiscreteDistribution()",
      "",
      "trace_moves(G.render(debug = True))"
     ],
     "language": "python",
     "outputs": [
      {
       "output_type": "stream",
       "stream": "stdout",
       "text": [
        "Simulating agent_bf0714357d206f3d5a6879d8441ff557...",
        "[(1, 'Pioneering', 0, -1, -1),",
        " (1, 'Pioneering', 0, -1, -1),",
        " (1, 'Pioneering', 0, -1, -1),",
        " (2, 'Pioneering', -1, 22, 4),",
        " (3, 'Pioneering', -1, 3, 2),",
        " (4, 'ExploitGreedy', 1, 22, 5),",
        " (5, 'ExploitGreedy', 1, 22, 5),",
        " (6, 'ExploitGreedy', 1, 22, 5),",
        " (7, 'ExploitGreedy', 1, 22, 5),",
        " (8, 'ExploitGreedy', 1, 22, 7),",
        " (9, 'ExploitGreedy', 1, 22, 7),",
        " (10, 'ExploitGreedy', 1, 22, 7),",
        " (11, 'ExploitGreedy', 1, 22, 7),",
        " (12, 'ExploitGreedy', 1, 22, 7),",
        " (13, 'ExploitGreedy', 1, 22, 7),",
        " (14, 'ExploitGreedy', 1, 22, 7),",
        " (15, 'ExploitGreedy', 1, 22, 7),",
        " (16, 'ExploitGreedy', 1, 22, 7),",
        " (17, 'ExploitGreedy', 1, 22, 7),",
        " (18, 'ExploitGreedy', 1, 22, 7),",
        " (19, 'ExploitGreedy', 1, 22, 7),",
        " (20, 'ExploitGreedy', 1, 22, 7),",
        " (21, 'ExploitGreedy', 1, 22, 7),",
        " (22, 'ExploitGreedy', 1, 22, 7),",
        " (23, 'ExploitGreedy', 1, 22, 7),",
        " (24, 'ExploitGreedy', 1, 22, 7),",
        " (25, 'ExploitGreedy', 1, 22, 7),",
        " (26, 'ExploitGreedy', 1, 22, 7),",
        " (27, 'ExploitGreedy', 1, 22, 10),",
        " (28, 'ExploitGreedy', 1, 22, 10),",
        " (29, 'ExploitGreedy', 1, 22, 10),",
        " (30, 'ExploitGreedy', 1, 22, 10)]"
       ]
      },
      {
       "output_type": "stream",
       "stream": "stdout",
       "text": [
        ""
       ]
      },
      {
       "output_type": "pyout",
       "prompt_number": 38,
       "text": [
        "<simulate.Simulate instance at 0x65753b0>"
       ]
      }
     ],
     "prompt_number": 38
    },
    {
     "cell_type": "markdown",
     "source": [
      "Study",
      "-----",
      "When an agent detects that it's a good time to build up its repertoire, it can spend a few rounds studying",
      "(playing OBSERVE and INNOVATE). In this simulation, it does a greedy exploitation, studies for a few rounds",
      "when payoffs drop, and then moves into a discrete distribution."
     ]
    },
    {
     "cell_type": "code",
     "collapsed": false,
     "input": [
      "pioneering = traits.Pioneering.Pioneering()",
      "pioneering.N_rounds = 3",
      "",
      "G = solegene.Genome()",
      "G.state = [('Pioneering', ['ExploitGreedy']),",
      "           ('ExploitGreedy', ['Study']),",
      "           ('Study', ['DiscreteDistribution']),",
      "           ('DiscreteDistribution', [])",
      "          ]",
      "G.traits['Pioneering'] = pioneering",
      "G.traits['ExploitGreedy'] = traits.ExploitGreedy.ExploitGreedy()",
      "G.traits['Study'] = traits.Study.Study()",
      "G.traits['DiscreteDistribution'] = traits.DiscreteDistribution.DiscreteDistribution()",
      "",
      "trace_moves(G.render(debug = True))"
     ],
     "language": "python",
     "outputs": [
      {
       "output_type": "stream",
       "stream": "stdout",
       "text": [
        "Simulating agent_309c81a20903e75079429678601cba44...",
        "[(1, 'Pioneering', 0, -1, -1),",
        " (1, 'Pioneering', 0, -1, -1),",
        " (1, 'Pioneering', 0, -1, -1),",
        " (2, 'Pioneering', -1, 49, 3),",
        " (3, 'Pioneering', -1, 14, 4),",
        " (4, 'ExploitGreedy', 1, 14, 4),",
        " (5, 'ExploitGreedy', 1, 14, 4),",
        " (6, 'ExploitGreedy', 1, 14, 4),",
        " (7, 'ExploitGreedy', 1, 14, 4),",
        " (8, 'ExploitGreedy', 1, 14, 4),",
        " (9, 'ExploitGreedy', 1, 14, 4),",
        " (10, 'ExploitGreedy', 1, 14, 4),",
        " (11, 'ExploitGreedy', 1, 14, 4),",
        " (12, 'ExploitGreedy', 1, 14, 4),",
        " (13, 'ExploitGreedy', 1, 14, 4),",
        " (14, 'ExploitGreedy', 1, 14, 4),",
        " (15, 'ExploitGreedy', 1, 14, 13),",
        " (16, 'ExploitGreedy', 1, 14, 13),",
        " (17, 'ExploitGreedy', 1, 14, 13),",
        " (18, 'ExploitGreedy', 1, 14, 13),",
        " (19, 'ExploitGreedy', 1, 14, 13),",
        " (20, 'ExploitGreedy', 1, 14, 13),",
        " (21, 'ExploitGreedy', 1, 14, 13),",
        " (22, 'ExploitGreedy', 1, 14, 13),",
        " (23, 'ExploitGreedy', 1, 14, 13),",
        " (24, 'ExploitGreedy', 1, 14, 13),",
        " (25, 'ExploitGreedy', 1, 14, 13),",
        " (26, 'ExploitGreedy', 1, 14, 13),",
        " (27, 'ExploitGreedy', 1, 14, 13),",
        " (28, 'ExploitGreedy', 1, 14, 13),",
        " (29, 'ExploitGreedy', 1, 14, 13),",
        " (30, 'ExploitGreedy', 1, 14, 13)]"
       ]
      },
      {
       "output_type": "stream",
       "stream": "stdout",
       "text": [
        ""
       ]
      },
      {
       "output_type": "pyout",
       "prompt_number": 39,
       "text": [
        "<simulate.Simulate instance at 0x7a7e998>"
       ]
      }
     ],
     "prompt_number": 39
    },
    {
     "cell_type": "markdown",
     "source": [
      "The next example shows a circular graph, where the agent cycles between greedy exploitation and studying."
     ]
    },
    {
     "cell_type": "code",
     "collapsed": false,
     "input": [
      "G = solegene.Genome()",
      "",
      "G.state = [('Pioneering', ['ExploitGreedy']),",
      "           ('ExploitGreedy', ['Study']),",
      "           ('Study', ['ExploitGreedy']),",
      "          ]",
      "G.traits['Pioneering'] = pioneering",
      "G.traits['ExploitGreedy'] = traits.ExploitGreedy.ExploitGreedy()",
      "G.traits['Study'] = traits.Study.Study()",
      "G.traits['Study'].N_rounds = 2",
      "",
      "trace_moves(G.render(debug = True))"
     ],
     "language": "python",
     "outputs": [
      {
       "output_type": "stream",
       "stream": "stdout",
       "text": [
        "Simulating agent_e5404ecaacea0a9fbece0d88694fc159...",
        "[(1, 'Pioneering', 0, -1, -1),",
        " (1, 'Pioneering', 0, -1, -1),",
        " (1, 'Pioneering', 0, -1, -1),",
        " (2, 'Pioneering', -1, 13, 1),",
        " (3, 'Pioneering', -1, 82, 11),",
        " (4, 'ExploitGreedy', 1, 82, 11),",
        " (5, 'ExploitGreedy', 1, 82, 11),",
        " (6, 'ExploitGreedy', 1, 82, 11),",
        " (7, 'ExploitGreedy', 1, 82, 11),",
        " (8, 'ExploitGreedy', 1, 82, 11),",
        " (9, 'ExploitGreedy', 1, 82, 11),",
        " (10, 'ExploitGreedy', 1, 82, 11),",
        " (11, 'ExploitGreedy', 1, 82, 11),",
        " (12, 'ExploitGreedy', 1, 82, 11),",
        " (13, 'ExploitGreedy', 1, 82, 11),",
        " (14, 'ExploitGreedy', 1, 82, 11),",
        " (15, 'ExploitGreedy', 1, 82, 11),",
        " (16, 'ExploitGreedy', 1, 82, 11),",
        " (17, 'ExploitGreedy', 1, 82, 11),",
        " (18, 'ExploitGreedy', 1, 82, 11),",
        " (19, 'ExploitGreedy', 1, 82, 11),",
        " (20, 'ExploitGreedy', 1, 82, 6),",
        " (21, 'Study', 0, 56, 37.0),",
        " (21, 'Study', 0, 56, 54.0),",
        " (21, 'Study', 0, 56, 55.0),",
        " (22, 'Study', 0, 78, 4.0),",
        " (22, 'Study', 0, 99, 26.0),",
        " (22, 'Study', 0, 48, 28.0),",
        " (23, 'ExploitGreedy', 1, 56, 46),",
        " (24, 'ExploitGreedy', 1, 56, 46),",
        " (25, 'ExploitGreedy', 1, 56, 46),",
        " (26, 'ExploitGreedy', 1, 56, 46),",
        " (27, 'ExploitGreedy', 1, 56, 46),",
        " (28, 'ExploitGreedy', 1, 56, 46),",
        " (29, 'ExploitGreedy', 1, 56, 46),",
        " (30, 'ExploitGreedy', 1, 56, 46)]"
       ]
      },
      {
       "output_type": "stream",
       "stream": "stdout",
       "text": [
        ""
       ]
      },
      {
       "output_type": "pyout",
       "prompt_number": 40,
       "text": [
        "<simulate.Simulate instance at 0x8037c20>"
       ]
      }
     ],
     "prompt_number": 40
    },
    {
     "cell_type": "markdown",
     "source": [
      "InnovationBeat",
      "--------------",
      "The InnovationBeat trait attempts to synchronise agents by letting them play set sequences of moves,",
      "synchronised by everyone playing INNOVATE simultaneously (easy to detect by a new agent playing",
      "OBSERVE).",
      "",
      "Firstly, we test that the trait is initialised correctly."
     ]
    },
    {
     "cell_type": "code",
     "collapsed": false,
     "input": [
      "import traits._InnovationBeat",
      "reload(traits._InnovationBeat)",
      "",
      "IB = traits._InnovationBeat.InnovationBeat()",
      "IBv = IB.values()",
      "mnemonics = ['I','O','E','R']",
      "print IBv['N_Seq']",
      "print [mnemonics[x+1] for x in IBv['seq_A']]",
      "print [mnemonics[x+1] for x in IBv['seq_B']]",
      "print IBv['Pa']"
     ],
     "language": "python",
     "outputs": [
      {
       "output_type": "stream",
       "stream": "stdout",
       "text": [
        "10",
        "['I', 'E', 'R', 'E', 'E', 'R', 'E', 'R', 'E', 'E']",
        "['I', 'O', 'E', 'O', 'O', 'R', 'R', 'R', 'E', 'E']",
        "0.656561260047"
       ]
      }
     ],
     "prompt_number": 41
    },
    {
     "cell_type": "code",
     "collapsed": false,
     "input": [
      "IB2 = traits._InnovationBeat.InnovationBeat()",
      "child = IB+IB2",
      "",
      "IBv = IB2.values()",
      "print IBv['N_Seq']",
      "print [mnemonics[x+1] for x in IBv['seq_A']]",
      "print [mnemonics[x+1] for x in IBv['seq_B']]",
      "print IBv['Pa']",
      "",
      "IBv = child.values()",
      "print IBv['N_Seq']",
      "print [mnemonics[x+1] for x in IBv['seq_A']]",
      "print [mnemonics[x+1] for x in IBv['seq_B']]",
      "print IBv['Pa']"
     ],
     "language": "python",
     "outputs": [
      {
       "output_type": "stream",
       "stream": "stdout",
       "text": [
        "5",
        "['I', 'E', 'R', 'R', 'R', 'O', 'O', 'R', 'E', 'O']",
        "['I', 'O', 'R', 'R', 'R', 'E', 'E', 'E', 'E', 'E']",
        "0.321100236687",
        "9",
        "['I', 'E', 'R', 'O', 'O', 'R', 'E', 'O', 'R', 'E']",
        "['I', 'O', 'E', 'E', 'E', 'E', 'E', 'E', 'E', 'R']",
        "0.382293385212"
       ]
      }
     ],
     "prompt_number": 42
    },
    {
     "cell_type": "code",
     "collapsed": false,
     "input": [
      "G = solegene.Genome()",
      "G.state = [('InnovationBeat', [])",
      "          ]",
      "G.traits['InnovationBeat'] = IB2",
      "",
      "trace_moves(G.render(debug = True))"
     ],
     "language": "python",
     "outputs": [
      {
       "output_type": "stream",
       "stream": "stdout",
       "text": [
        "Simulating agent_2b4edb57319423b8d12d6fd1c3fb5880...",
        "[(1, 'InnovationBeat', 0, -1, -1),",
        " (1, 'InnovationBeat', 0, -1, -1),",
        " (1, 'InnovationBeat', 0, -1, -1),",
        " (2, 'InnovationBeat', 0, -1, -1),",
        " (2, 'InnovationBeat', 0, -1, -1),",
        " (2, 'InnovationBeat', 0, -1, -1),",
        " (3, 'InnovationBeat', 0, -1, -1),",
        " (3, 'InnovationBeat', 0, -1, -1),",
        " (3, 'InnovationBeat', 0, -1, -1),",
        " (4, 'InnovationBeat', 0, -1, -1),",
        " (4, 'InnovationBeat', 0, -1, -1),",
        " (4, 'InnovationBeat', 0, -1, -1),",
        " (5, 'InnovationBeat', 0, -1, -1),",
        " (5, 'InnovationBeat', 0, -1, -1),",
        " (5, 'InnovationBeat', 0, -1, -1),",
        " (6, 'InnovationBeat', 0, -1, -1),",
        " (6, 'InnovationBeat', 0, -1, -1),",
        " (6, 'InnovationBeat', 0, -1, -1),",
        " (7, 'InnovationBeat', -1, 52, 1),",
        " (8, 'InnovationBeat', 1, 52, 1),",
        " (9, 'InnovationBeat', 1, 52, 1),",
        " (10, 'InnovationBeat', 1, 52, 19),",
        " (11, 'InnovationBeat', -1, 96, 6),",
        " (12, 'InnovationBeat', 1, 52, 19),",
        " (13, 'InnovationBeat', 1, 52, 5),",
        " (14, 'InnovationBeat', 1, 96, 6),",
        " (15, 'InnovationBeat', 1, 96, 6),",
        " (16, 'InnovationBeat', -1, 56, 4),",
        " (17, 'InnovationBeat', 1, 96, 6),",
        " (18, 'InnovationBeat', 1, 96, 6),",
        " (19, 'InnovationBeat', 1, 96, 6),",
        " (20, 'InnovationBeat', 1, 96, 6),",
        " (21, 'InnovationBeat', -1, 89, 5),",
        " (22, 'InnovationBeat', 1, 96, 8),",
        " (23, 'InnovationBeat', 1, 96, 8),",
        " (24, 'InnovationBeat', 1, 96, 8),",
        " (25, 'InnovationBeat', 1, 96, 8),",
        " (26, 'InnovationBeat', -1, 6, 1),",
        " (27, 'InnovationBeat', 1, 96, 8),",
        " (28, 'InnovationBeat', 1, 96, 8),",
        " (29, 'InnovationBeat', 1, 96, 8),",
        " (30, 'InnovationBeat', 1, 96, 8)]"
       ]
      },
      {
       "output_type": "stream",
       "stream": "stdout",
       "text": [
        ""
       ]
      },
      {
       "output_type": "pyout",
       "prompt_number": 43,
       "text": [
        "<simulate.Simulate instance at 0x840f830>"
       ]
      }
     ],
     "prompt_number": 43
    },
    {
     "cell_type": "markdown",
     "source": [
      "Next, we'll investigate whether the correct \"beat\" pattern is generated across the population. This is done by running the simulation",
      "for 100 rounds, and plotting the actions taken by each agent.",
      "",
      "Legend:",
      "",
      "- Indigo = Innovate",
      "- Orange = Observe",
      "- GrEEn = Exploit",
      "- Red = Refine"
     ]
    },
    {
     "cell_type": "code",
     "collapsed": false,
     "input": [
      "from matplotlib.pylab import *",
      "from numpy import *",
      "from scipy import *",
      "import random",
      "",
      "N_rounds = 250",
      "",
      "G.traits['InnovationBeat'] = traits._InnovationBeat.InnovationBeat()",
      "",
      "simulation = trace_moves(G.render(debug = True), N_rounds = N_rounds, quiet = True)",
      "",
      "N_individuals = 0",
      "",
      "grid = None",
      "",
      "for i in simulation.demes[0].population:",
      "    # Fill up with None first",
      "    if not grid:",
      "        grid = [[0] * N_rounds]",
      "    else:",
      "        grid.append([0] * N_rounds)",
      "        ",
      "    # The individual's subjective round numbers are different from the absolute",
      "    # simulation rounds. However, we want to plot the graph in terms of absolute",
      "    # round numbers. Luckily, we know that the individual's last round",
      "    # happened at the last round of the simulation -- so just count backwards.",
      "    ",
      "    abs_round = N_rounds",
      "    if len(i.historyRounds) > 0:",
      "        # (Newborns are exempt)",
      "        for ind_round in xrange(i.historyRounds[-1], 1, -1):",
      "            # Note that individuals' rounds are indexed from 1, and the absolute rounds",
      "            # from zero for this analysis.",
      "            abs_round -= 1",
      "            idx = i.historyRounds.index(ind_round)",
      "            grid[-1][abs_round] = i.historyMoves[idx] + 2",
      "        ",
      "",
      "figure(num=None, figsize=(15, 15), dpi=96, facecolor='w', edgecolor='k')",
      "",
      "imshow(grid, interpolation = 'nearest')"
     ],
     "language": "python",
     "outputs": [
      {
       "output_type": "stream",
       "stream": "stdout",
       "text": [
        "Simulating agent_8bb515510a2ce46f26020aa331876f8a..."
       ]
      },
      {
       "output_type": "pyout",
       "prompt_number": 67,
       "text": [
        "<matplotlib.image.AxesImage at 0xd5cffd0>"
       ]
      },
      {
       "output_type": "display_data",
       "png": "[encoded data removed]"
      }
     ],
     "prompt_number": 67
    }
   ]
  }
 ]
}