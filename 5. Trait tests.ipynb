{
 "metadata": {
  "name": "5. Trait tests"
 }, 
 "nbformat": 2, 
 "worksheets": [
  {
   "cells": [
    {
     "cell_type": "markdown", 
     "source": [
      "Trait tests", 
      "===========", 
      "In this chapter, individual traits are exercised to confirm that they perform to spec.", 
      "", 
      "Preamble", 
      "--------"
     ]
    }, 
    {
     "cell_type": "code", 
     "collapsed": true, 
     "input": [
      "import solegene", 
      "import md5", 
      "import simulate", 
      "import pprint", 
      "import traits.Pioneering", 
      "import traits.ExploitGreedy", 
      "import traits.DiscreteDistribution", 
      "import traits.Study", 
      "", 
      "def trace(code):", 
      "    agent_name = 'agent_debug'", 
      "    agent_path = 'agents/rendered/' + agent_name + '.py'", 
      "    print(\"Simulating %s...\" % agent_name)", 
      "", 
      "    f = open(agent_path, 'w')", 
      "    f.write(code)", 
      "    f.close()", 
      "", 
      "    agent = __import__('agents.rendered.'+agent_name, fromlist=['*'])", 
      "    simulate.agent = agent", 
      "    simulation = simulate.Simulate(N_rounds=30, P_c = 0.1)", 
      "    simulation.run()", 
      "", 
      "    print(pprint.pformat(zip(simulation.demes[0].population[0].historyRounds,", 
      "                             simulation.demes[0].population[0].historyStates,", 
      "                             simulation.demes[0].population[0].historyMoves,", 
      "                             simulation.demes[0].population[0].historyActs,", 
      "                             simulation.demes[0].population[0].historyPayoffs)))"
     ], 
     "language": "python", 
     "outputs": [], 
     "prompt_number": 1
    }, 
    {
     "cell_type": "markdown", 
     "source": [
      "ExploitGreedy", 
      "-------------", 
      "Perform Pioneering, then exploit the highest-paying act until the payoff drops (ExploitGreedy). Then revert to DiscreteDistribution for the rest of the agent's life."
     ]
    }, 
    {
     "cell_type": "code", 
     "collapsed": false, 
     "input": [
      "pioneering = traits.Pioneering.Pioneering()", 
      "pioneering.N_rounds = 3", 
      "", 
      "G = solegene.Genome()", 
      "G.state = [('Pioneering', ['ExploitGreedy']),", 
      "           ('ExploitGreedy', ['DiscreteDistribution']),", 
      "           ('DiscreteDistribution', [])", 
      "          ]", 
      "G.traits['Pioneering'] = pioneering", 
      "G.traits['ExploitGreedy'] = traits.ExploitGreedy.ExploitGreedy()", 
      "G.traits['DiscreteDistribution'] = traits.DiscreteDistribution.DiscreteDistribution()", 
      "", 
      "trace(G.render(debug = True))"
     ], 
     "language": "python", 
     "outputs": [
      {
       "output_type": "stream", 
       "stream": "stdout", 
       "text": [
        "Simulating agent_debug...", 
        "[(1, &apos;Pioneering&apos;, 0, -1, -1),", 
        " (1, &apos;Pioneering&apos;, 0, -1, -1),", 
        " (1, &apos;Pioneering&apos;, 0, -1, -1),", 
        " (2, &apos;Pioneering&apos;, -1, 72, 4),", 
        " (3, &apos;Pioneering&apos;, -1, 56, 1),", 
        " (4, &apos;ExploitGreedy&apos;, 1, 72, 9),", 
        " (5, &apos;ExploitGreedy&apos;, 1, 72, 9),", 
        " (6, &apos;ExploitGreedy&apos;, 1, 72, 9),", 
        " (7, &apos;ExploitGreedy&apos;, 1, 72, 23),", 
        " (8, &apos;ExploitGreedy&apos;, 1, 72, 23),", 
        " (9, &apos;ExploitGreedy&apos;, 1, 72, 23),", 
        " (10, &apos;ExploitGreedy&apos;, 1, 72, 23),", 
        " (11, &apos;ExploitGreedy&apos;, 1, 72, 23),", 
        " (12, &apos;ExploitGreedy&apos;, 1, 72, 23),", 
        " (13, &apos;ExploitGreedy&apos;, 1, 72, 20),", 
        " (14, &apos;ExploitGreedy&apos;, 1, 72, 20),", 
        " (15, &apos;ExploitGreedy&apos;, 1, 72, 20),", 
        " (16, &apos;ExploitGreedy&apos;, 1, 72, 20),", 
        " (17, &apos;ExploitGreedy&apos;, 1, 72, 20),", 
        " (18, &apos;ExploitGreedy&apos;, 1, 72, 20),", 
        " (19, &apos;ExploitGreedy&apos;, 1, 72, 5),", 
        " (20, &apos;DiscreteDistribution&apos;, -1, 53, 2),", 
        " (21, &apos;DiscreteDistribution&apos;, -1, 9, 15),", 
        " (22, &apos;DiscreteDistribution&apos;, 1, 9, 15),", 
        " (23, &apos;DiscreteDistribution&apos;, 1, 9, 15),", 
        " (24, &apos;DiscreteDistribution&apos;, 1, 9, 15),", 
        " (25, &apos;DiscreteDistribution&apos;, 0, 11, 7.0),", 
        " (25, &apos;DiscreteDistribution&apos;, 0, 47, 2.0),", 
        " (25, &apos;DiscreteDistribution&apos;, 0, -1, -1),", 
        " (26, &apos;DiscreteDistribution&apos;, -1, 40, 11),", 
        " (27, &apos;DiscreteDistribution&apos;, -1, 96, 12),", 
        " (28, &apos;DiscreteDistribution&apos;, 1, 9, 15),", 
        " (29, &apos;DiscreteDistribution&apos;, 1, 9, 15),", 
        " (30, &apos;DiscreteDistribution&apos;, -1, 2, 6)]"
       ]
      }, 
      {
       "output_type": "stream", 
       "stream": "stdout", 
       "text": [
        ""
       ]
      }
     ], 
     "prompt_number": 2
    }, 
    {
     "cell_type": "code", 
     "collapsed": false, 
     "input": [
      "pioneering = traits.Pioneering.Pioneering()", 
      "pioneering.N_rounds = 3", 
      "", 
      "G = solegene.Genome()", 
      "G.state = [('Pioneering', ['ExploitGreedy']),", 
      "           ('ExploitGreedy', ['Study']),", 
      "           ('Study', ['DiscreteDistribution']),", 
      "           ('DiscreteDistribution', [])", 
      "          ]", 
      "G.traits['Pioneering'] = pioneering", 
      "G.traits['ExploitGreedy'] = traits.ExploitGreedy.ExploitGreedy()", 
      "G.traits['Study'] = traits.Study.Study()", 
      "G.traits['DiscreteDistribution'] = traits.DiscreteDistribution.DiscreteDistribution()", 
      "", 
      "trace(G.render(debug = True))"
     ], 
     "language": "python", 
     "outputs": [
      {
       "output_type": "stream", 
       "stream": "stdout", 
       "text": [
        "Simulating agent_debug...", 
        "[(1, &apos;Pioneering&apos;, 0, -1, -1),", 
        " (1, &apos;Pioneering&apos;, 0, -1, -1),", 
        " (1, &apos;Pioneering&apos;, 0, -1, -1),", 
        " (2, &apos;Pioneering&apos;, -1, 51, 7),", 
        " (3, &apos;Pioneering&apos;, -1, 96, 34),", 
        " (4, &apos;ExploitGreedy&apos;, 1, 96, 34),", 
        " (5, &apos;ExploitGreedy&apos;, 1, 96, 34),", 
        " (6, &apos;ExploitGreedy&apos;, 1, 96, 34),", 
        " (7, &apos;ExploitGreedy&apos;, 1, 96, 34),", 
        " (8, &apos;ExploitGreedy&apos;, 1, 96, 34),", 
        " (9, &apos;ExploitGreedy&apos;, 1, 96, 34),", 
        " (10, &apos;ExploitGreedy&apos;, 1, 96, 34),", 
        " (11, &apos;ExploitGreedy&apos;, 1, 96, 34),", 
        " (12, &apos;ExploitGreedy&apos;, 1, 96, 34),", 
        " (13, &apos;ExploitGreedy&apos;, 1, 96, 34),", 
        " (14, &apos;ExploitGreedy&apos;, 1, 96, 4),", 
        " (15, &apos;DiscreteDistribution&apos;, -1, 14, 10),", 
        " (16, &apos;DiscreteDistribution&apos;, 1, 14, 23),", 
        " (17, &apos;DiscreteDistribution&apos;, 1, 14, 23),", 
        " (18, &apos;DiscreteDistribution&apos;, -1, 65, 9),", 
        " (19, &apos;DiscreteDistribution&apos;, -1, 88, 1),", 
        " (20, &apos;DiscreteDistribution&apos;, -1, 47, 2),", 
        " (21, &apos;DiscreteDistribution&apos;, 1, 14, 11),", 
        " (22, &apos;DiscreteDistribution&apos;, -1, 32, 5),", 
        " (23, &apos;DiscreteDistribution&apos;, 1, 14, 11),", 
        " (24, &apos;DiscreteDistribution&apos;, -1, 35, 7),", 
        " (25, &apos;DiscreteDistribution&apos;, 1, 14, 15),", 
        " (26, &apos;DiscreteDistribution&apos;, -1, 91, 38),", 
        " (27, &apos;DiscreteDistribution&apos;, -1, 83, 5),", 
        " (28, &apos;DiscreteDistribution&apos;, 1, 91, 38),", 
        " (29, &apos;DiscreteDistribution&apos;, -1, 44, 28),", 
        " (30, &apos;DiscreteDistribution&apos;, 1, 91, 38)]"
       ]
      }, 
      {
       "output_type": "stream", 
       "stream": "stdout", 
       "text": [
        ""
       ]
      }
     ], 
     "prompt_number": 4
    }, 
    {
     "cell_type": "code", 
     "collapsed": true, 
     "input": [], 
     "language": "python", 
     "outputs": [], 
     "prompt_number": 3
    }, 
    {
     "cell_type": "code", 
     "collapsed": true, 
     "input": [], 
     "language": "python", 
     "outputs": [], 
     "prompt_number": 3
    }
   ]
  }
 ]
}